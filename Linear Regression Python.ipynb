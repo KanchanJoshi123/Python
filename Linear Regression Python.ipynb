{
 "cells": [
  {
   "cell_type": "code",
   "execution_count": 3,
   "id": "3c2144e2",
   "metadata": {},
   "outputs": [],
   "source": [
    "import pandas as pd\n",
    "import numpy as np \n",
    "import matplotlib.pyplot as plt"
   ]
  },
  {
   "cell_type": "code",
   "execution_count": 7,
   "id": "d2dd22b4",
   "metadata": {},
   "outputs": [],
   "source": [
    "df = pd.read_csv('Salary_Data.csv')"
   ]
  },
  {
   "cell_type": "code",
   "execution_count": 8,
   "id": "6e69ae3d",
   "metadata": {},
   "outputs": [
    {
     "data": {
      "text/html": [
       "<div>\n",
       "<style scoped>\n",
       "    .dataframe tbody tr th:only-of-type {\n",
       "        vertical-align: middle;\n",
       "    }\n",
       "\n",
       "    .dataframe tbody tr th {\n",
       "        vertical-align: top;\n",
       "    }\n",
       "\n",
       "    .dataframe thead th {\n",
       "        text-align: right;\n",
       "    }\n",
       "</style>\n",
       "<table border=\"1\" class=\"dataframe\">\n",
       "  <thead>\n",
       "    <tr style=\"text-align: right;\">\n",
       "      <th></th>\n",
       "      <th>YearsExperience</th>\n",
       "      <th>Salary</th>\n",
       "    </tr>\n",
       "  </thead>\n",
       "  <tbody>\n",
       "    <tr>\n",
       "      <th>0</th>\n",
       "      <td>1.1</td>\n",
       "      <td>39343.0</td>\n",
       "    </tr>\n",
       "    <tr>\n",
       "      <th>1</th>\n",
       "      <td>1.3</td>\n",
       "      <td>46205.0</td>\n",
       "    </tr>\n",
       "    <tr>\n",
       "      <th>2</th>\n",
       "      <td>1.5</td>\n",
       "      <td>37731.0</td>\n",
       "    </tr>\n",
       "    <tr>\n",
       "      <th>3</th>\n",
       "      <td>2.0</td>\n",
       "      <td>43525.0</td>\n",
       "    </tr>\n",
       "    <tr>\n",
       "      <th>4</th>\n",
       "      <td>2.2</td>\n",
       "      <td>39891.0</td>\n",
       "    </tr>\n",
       "  </tbody>\n",
       "</table>\n",
       "</div>"
      ],
      "text/plain": [
       "   YearsExperience   Salary\n",
       "0              1.1  39343.0\n",
       "1              1.3  46205.0\n",
       "2              1.5  37731.0\n",
       "3              2.0  43525.0\n",
       "4              2.2  39891.0"
      ]
     },
     "execution_count": 8,
     "metadata": {},
     "output_type": "execute_result"
    }
   ],
   "source": [
    "df.head()"
   ]
  },
  {
   "cell_type": "code",
   "execution_count": 10,
   "id": "3f0beed2",
   "metadata": {},
   "outputs": [
    {
     "name": "stdout",
     "output_type": "stream",
     "text": [
      "<class 'pandas.core.frame.DataFrame'>\n",
      "RangeIndex: 30 entries, 0 to 29\n",
      "Data columns (total 2 columns):\n",
      " #   Column           Non-Null Count  Dtype  \n",
      "---  ------           --------------  -----  \n",
      " 0   YearsExperience  30 non-null     float64\n",
      " 1   Salary           30 non-null     float64\n",
      "dtypes: float64(2)\n",
      "memory usage: 612.0 bytes\n"
     ]
    }
   ],
   "source": [
    "df.info()"
   ]
  },
  {
   "cell_type": "code",
   "execution_count": 12,
   "id": "c13bc512",
   "metadata": {},
   "outputs": [],
   "source": [
    "x = df['YearsExperience']\n",
    "y = df['Salary']"
   ]
  },
  {
   "cell_type": "code",
   "execution_count": 13,
   "id": "7f94b634",
   "metadata": {},
   "outputs": [
    {
     "data": {
      "text/plain": [
       "pandas.core.series.Series"
      ]
     },
     "execution_count": 13,
     "metadata": {},
     "output_type": "execute_result"
    }
   ],
   "source": [
    "type(x)"
   ]
  },
  {
   "cell_type": "code",
   "execution_count": 15,
   "id": "15111dae",
   "metadata": {},
   "outputs": [],
   "source": [
    "x = df[['YearsExperience']]"
   ]
  },
  {
   "cell_type": "code",
   "execution_count": 16,
   "id": "211eeef3",
   "metadata": {},
   "outputs": [
    {
     "data": {
      "text/plain": [
       "pandas.core.frame.DataFrame"
      ]
     },
     "execution_count": 16,
     "metadata": {},
     "output_type": "execute_result"
    }
   ],
   "source": [
    "type(x)"
   ]
  },
  {
   "cell_type": "code",
   "execution_count": 17,
   "id": "508f050a",
   "metadata": {},
   "outputs": [
    {
     "data": {
      "text/plain": [
       "(30, 1)"
      ]
     },
     "execution_count": 17,
     "metadata": {},
     "output_type": "execute_result"
    }
   ],
   "source": [
    "x.shape"
   ]
  },
  {
   "cell_type": "code",
   "execution_count": 18,
   "id": "f624f224",
   "metadata": {},
   "outputs": [
    {
     "data": {
      "text/plain": [
       "(30,)"
      ]
     },
     "execution_count": 18,
     "metadata": {},
     "output_type": "execute_result"
    }
   ],
   "source": [
    "y.shape"
   ]
  },
  {
   "cell_type": "code",
   "execution_count": 19,
   "id": "4f11cb41",
   "metadata": {},
   "outputs": [],
   "source": [
    "from sklearn.model_selection import train_test_split\n"
   ]
  },
  {
   "cell_type": "code",
   "execution_count": 20,
   "id": "2a950b08",
   "metadata": {},
   "outputs": [],
   "source": [
    "xtrain, xtest, ytrain,ytest = train_test_split(x,y,train_size = 0.8,random_state =1)"
   ]
  },
  {
   "cell_type": "code",
   "execution_count": 21,
   "id": "4041949c",
   "metadata": {},
   "outputs": [
    {
     "data": {
      "text/html": [
       "<div>\n",
       "<style scoped>\n",
       "    .dataframe tbody tr th:only-of-type {\n",
       "        vertical-align: middle;\n",
       "    }\n",
       "\n",
       "    .dataframe tbody tr th {\n",
       "        vertical-align: top;\n",
       "    }\n",
       "\n",
       "    .dataframe thead th {\n",
       "        text-align: right;\n",
       "    }\n",
       "</style>\n",
       "<table border=\"1\" class=\"dataframe\">\n",
       "  <thead>\n",
       "    <tr style=\"text-align: right;\">\n",
       "      <th></th>\n",
       "      <th>YearsExperience</th>\n",
       "    </tr>\n",
       "  </thead>\n",
       "  <tbody>\n",
       "    <tr>\n",
       "      <th>17</th>\n",
       "      <td>5.3</td>\n",
       "    </tr>\n",
       "    <tr>\n",
       "      <th>21</th>\n",
       "      <td>7.1</td>\n",
       "    </tr>\n",
       "    <tr>\n",
       "      <th>10</th>\n",
       "      <td>3.9</td>\n",
       "    </tr>\n",
       "    <tr>\n",
       "      <th>19</th>\n",
       "      <td>6.0</td>\n",
       "    </tr>\n",
       "    <tr>\n",
       "      <th>14</th>\n",
       "      <td>4.5</td>\n",
       "    </tr>\n",
       "    <tr>\n",
       "      <th>20</th>\n",
       "      <td>6.8</td>\n",
       "    </tr>\n",
       "  </tbody>\n",
       "</table>\n",
       "</div>"
      ],
      "text/plain": [
       "    YearsExperience\n",
       "17              5.3\n",
       "21              7.1\n",
       "10              3.9\n",
       "19              6.0\n",
       "14              4.5\n",
       "20              6.8"
      ]
     },
     "execution_count": 21,
     "metadata": {},
     "output_type": "execute_result"
    }
   ],
   "source": [
    "xtest"
   ]
  },
  {
   "cell_type": "code",
   "execution_count": 22,
   "id": "7ab34fc4",
   "metadata": {},
   "outputs": [
    {
     "data": {
      "text/plain": [
       "17    83088.0\n",
       "21    98273.0\n",
       "10    63218.0\n",
       "19    93940.0\n",
       "14    61111.0\n",
       "20    91738.0\n",
       "Name: Salary, dtype: float64"
      ]
     },
     "execution_count": 22,
     "metadata": {},
     "output_type": "execute_result"
    }
   ],
   "source": [
    "ytest"
   ]
  },
  {
   "cell_type": "code",
   "execution_count": 25,
   "id": "8b94f627",
   "metadata": {},
   "outputs": [
    {
     "data": {
      "text/html": [
       "<style>#sk-container-id-1 {color: black;}#sk-container-id-1 pre{padding: 0;}#sk-container-id-1 div.sk-toggleable {background-color: white;}#sk-container-id-1 label.sk-toggleable__label {cursor: pointer;display: block;width: 100%;margin-bottom: 0;padding: 0.3em;box-sizing: border-box;text-align: center;}#sk-container-id-1 label.sk-toggleable__label-arrow:before {content: \"▸\";float: left;margin-right: 0.25em;color: #696969;}#sk-container-id-1 label.sk-toggleable__label-arrow:hover:before {color: black;}#sk-container-id-1 div.sk-estimator:hover label.sk-toggleable__label-arrow:before {color: black;}#sk-container-id-1 div.sk-toggleable__content {max-height: 0;max-width: 0;overflow: hidden;text-align: left;background-color: #f0f8ff;}#sk-container-id-1 div.sk-toggleable__content pre {margin: 0.2em;color: black;border-radius: 0.25em;background-color: #f0f8ff;}#sk-container-id-1 input.sk-toggleable__control:checked~div.sk-toggleable__content {max-height: 200px;max-width: 100%;overflow: auto;}#sk-container-id-1 input.sk-toggleable__control:checked~label.sk-toggleable__label-arrow:before {content: \"▾\";}#sk-container-id-1 div.sk-estimator input.sk-toggleable__control:checked~label.sk-toggleable__label {background-color: #d4ebff;}#sk-container-id-1 div.sk-label input.sk-toggleable__control:checked~label.sk-toggleable__label {background-color: #d4ebff;}#sk-container-id-1 input.sk-hidden--visually {border: 0;clip: rect(1px 1px 1px 1px);clip: rect(1px, 1px, 1px, 1px);height: 1px;margin: -1px;overflow: hidden;padding: 0;position: absolute;width: 1px;}#sk-container-id-1 div.sk-estimator {font-family: monospace;background-color: #f0f8ff;border: 1px dotted black;border-radius: 0.25em;box-sizing: border-box;margin-bottom: 0.5em;}#sk-container-id-1 div.sk-estimator:hover {background-color: #d4ebff;}#sk-container-id-1 div.sk-parallel-item::after {content: \"\";width: 100%;border-bottom: 1px solid gray;flex-grow: 1;}#sk-container-id-1 div.sk-label:hover label.sk-toggleable__label {background-color: #d4ebff;}#sk-container-id-1 div.sk-serial::before {content: \"\";position: absolute;border-left: 1px solid gray;box-sizing: border-box;top: 0;bottom: 0;left: 50%;z-index: 0;}#sk-container-id-1 div.sk-serial {display: flex;flex-direction: column;align-items: center;background-color: white;padding-right: 0.2em;padding-left: 0.2em;position: relative;}#sk-container-id-1 div.sk-item {position: relative;z-index: 1;}#sk-container-id-1 div.sk-parallel {display: flex;align-items: stretch;justify-content: center;background-color: white;position: relative;}#sk-container-id-1 div.sk-item::before, #sk-container-id-1 div.sk-parallel-item::before {content: \"\";position: absolute;border-left: 1px solid gray;box-sizing: border-box;top: 0;bottom: 0;left: 50%;z-index: -1;}#sk-container-id-1 div.sk-parallel-item {display: flex;flex-direction: column;z-index: 1;position: relative;background-color: white;}#sk-container-id-1 div.sk-parallel-item:first-child::after {align-self: flex-end;width: 50%;}#sk-container-id-1 div.sk-parallel-item:last-child::after {align-self: flex-start;width: 50%;}#sk-container-id-1 div.sk-parallel-item:only-child::after {width: 0;}#sk-container-id-1 div.sk-dashed-wrapped {border: 1px dashed gray;margin: 0 0.4em 0.5em 0.4em;box-sizing: border-box;padding-bottom: 0.4em;background-color: white;}#sk-container-id-1 div.sk-label label {font-family: monospace;font-weight: bold;display: inline-block;line-height: 1.2em;}#sk-container-id-1 div.sk-label-container {text-align: center;}#sk-container-id-1 div.sk-container {/* jupyter's `normalize.less` sets `[hidden] { display: none; }` but bootstrap.min.css set `[hidden] { display: none !important; }` so we also need the `!important` here to be able to override the default hidden behavior on the sphinx rendered scikit-learn.org. See: https://github.com/scikit-learn/scikit-learn/issues/21755 */display: inline-block !important;position: relative;}#sk-container-id-1 div.sk-text-repr-fallback {display: none;}</style><div id=\"sk-container-id-1\" class=\"sk-top-container\"><div class=\"sk-text-repr-fallback\"><pre>LinearRegression()</pre><b>In a Jupyter environment, please rerun this cell to show the HTML representation or trust the notebook. <br />On GitHub, the HTML representation is unable to render, please try loading this page with nbviewer.org.</b></div><div class=\"sk-container\" hidden><div class=\"sk-item\"><div class=\"sk-estimator sk-toggleable\"><input class=\"sk-toggleable__control sk-hidden--visually\" id=\"sk-estimator-id-1\" type=\"checkbox\" checked><label for=\"sk-estimator-id-1\" class=\"sk-toggleable__label sk-toggleable__label-arrow\">LinearRegression</label><div class=\"sk-toggleable__content\"><pre>LinearRegression()</pre></div></div></div></div></div>"
      ],
      "text/plain": [
       "LinearRegression()"
      ]
     },
     "execution_count": 25,
     "metadata": {},
     "output_type": "execute_result"
    }
   ],
   "source": [
    "#Model Buidling\n",
    "\n",
    "from sklearn.linear_model import LinearRegression \n",
    "model = LinearRegression()\n",
    "model.fit(xtrain,ytrain)"
   ]
  },
  {
   "cell_type": "code",
   "execution_count": 27,
   "id": "9cf4d450",
   "metadata": {},
   "outputs": [
    {
     "data": {
      "text/plain": [
       "25609.89799835482"
      ]
     },
     "execution_count": 27,
     "metadata": {},
     "output_type": "execute_result"
    }
   ],
   "source": [
    "model.intercept_"
   ]
  },
  {
   "cell_type": "code",
   "execution_count": 28,
   "id": "2453f676",
   "metadata": {},
   "outputs": [
    {
     "data": {
      "text/plain": [
       "array([9332.94473799])"
      ]
     },
     "execution_count": 28,
     "metadata": {},
     "output_type": "execute_result"
    }
   ],
   "source": [
    "model.coef_"
   ]
  },
  {
   "cell_type": "code",
   "execution_count": 31,
   "id": "06a0b839",
   "metadata": {},
   "outputs": [
    {
     "data": {
      "text/plain": [
       "array([83088., 98273., 63218., 93940., 61111., 91738.])"
      ]
     },
     "execution_count": 31,
     "metadata": {},
     "output_type": "execute_result"
    }
   ],
   "source": [
    "ypred = model.predict(xtest)\n",
    "ytest.values"
   ]
  },
  {
   "cell_type": "code",
   "execution_count": 32,
   "id": "0adac09f",
   "metadata": {},
   "outputs": [
    {
     "data": {
      "text/plain": [
       "array([75074.50510972, 91873.8056381 , 62008.38247653, 81607.56642631,\n",
       "       67608.14931932, 89073.92221671])"
      ]
     },
     "execution_count": 32,
     "metadata": {},
     "output_type": "execute_result"
    }
   ],
   "source": [
    "ypred"
   ]
  },
  {
   "cell_type": "code",
   "execution_count": 33,
   "id": "4cc7f5ee",
   "metadata": {},
   "outputs": [
    {
     "data": {
      "text/plain": [
       "numpy.ndarray"
      ]
     },
     "execution_count": 33,
     "metadata": {},
     "output_type": "execute_result"
    }
   ],
   "source": [
    "type(ypred)"
   ]
  },
  {
   "cell_type": "code",
   "execution_count": 35,
   "id": "c6ce844b",
   "metadata": {},
   "outputs": [],
   "source": [
    "from sklearn.metrics import r2_score"
   ]
  },
  {
   "cell_type": "code",
   "execution_count": 37,
   "id": "ad5a67d0",
   "metadata": {},
   "outputs": [
    {
     "name": "stdout",
     "output_type": "stream",
     "text": [
      "0.7616681465472094\n"
     ]
    }
   ],
   "source": [
    "r2result = r2_score(ytest,ypred)\n",
    "print(r2result)#accuracy"
   ]
  },
  {
   "cell_type": "code",
   "execution_count": 43,
   "id": "13e00cf4",
   "metadata": {},
   "outputs": [
    {
     "data": {
      "image/png": "[encoded data removed]",
      "text/plain": [
       "<Figure size 640x480 with 1 Axes>"
      ]
     },
     "metadata": {},
     "output_type": "display_data"
    }
   ],
   "source": [
    "#Plotting for the training data and later comparing with predicted data\n",
    "plt.scatter(xtrain,ytrain,color = 'blue',label = 'Original Data')\n",
    "plt.legend()\n",
    "plt.show()"
   ]
  },
  {
   "cell_type": "code",
   "execution_count": 44,
   "id": "ffe61b35",
   "metadata": {},
   "outputs": [
    {
     "data": {
      "image/png": "[encoded data removed]",
      "text/plain": [
       "<Figure size 640x480 with 1 Axes>"
      ]
     },
     "metadata": {},
     "output_type": "display_data"
    }
   ],
   "source": [
    "ypred_xtrain = model.predict(xtrain)\n",
    "plt.scatter(xtrain,ypred_xtrain,color = 'yellow', s =50, label =\"Predicted data\")\n",
    "plt.legend()\n",
    "plt.show()"
   ]
  },
  {
   "cell_type": "code",
   "execution_count": 48,
   "id": "79c5af5b",
   "metadata": {},
   "outputs": [
    {
     "data": {
      "image/png": "[encoded data removed]",
      "text/plain": [
       "<Figure size 640x480 with 1 Axes>"
      ]
     },
     "metadata": {},
     "output_type": "display_data"
    }
   ],
   "source": [
    "plt.scatter(xtrain,ytrain,color ='blue',label = \"Actual Data\", s = 50)\n",
    "plt.scatter(xtrain,ypred_xtrain,color = 'red', label=\"Predicted Data\")\n",
    "plt.plot(xtrain,ypred_xtrain,color = \"yellow\",label =\"Line Of Regression\")\n",
    "plt.legend()\n",
    "plt.show()"
   ]
  },
  {
   "cell_type": "code",
   "execution_count": 50,
   "id": "d04c0831",
   "metadata": {},
   "outputs": [
    {
     "data": {
      "image/png": "[encoded data removed]",
      "text/plain": [
       "<Figure size 640x480 with 1 Axes>"
      ]
     },
     "metadata": {},
     "output_type": "display_data"
    }
   ],
   "source": [
    "ypred_xtest = model.predict(xtest)\n",
    "plt.scatter(xtest,ytest,color ='blue',label = \"Actual Data\", s = 100)\n",
    "plt.scatter(xtest,ypred_xtest,color = 'red', label=\"Predicted Data\",s=100)\n",
    "plt.plot(xtest,ypred_xtest,color = \"yellow\",label =\"Line Of Regression\")\n",
    "plt.legend()\n",
    "plt.show()"
   ]
  },
  {
   "cell_type": "code",
   "execution_count": 51,
   "id": "d472a3ed",
   "metadata": {},
   "outputs": [
    {
     "name": "stdout",
     "output_type": "stream",
     "text": [
      "[9332.94473799] 25609.89799835482\n"
     ]
    }
   ],
   "source": [
    "#m = slope\n",
    "#c = coeffcient \n",
    "#y = intercept\n",
    "m = model.coef_\n",
    "c = model.intercept_\n",
    "print(m,c)"
   ]
  },
  {
   "cell_type": "code",
   "execution_count": 55,
   "id": "b16a7626",
   "metadata": {},
   "outputs": [
    {
     "data": {
      "text/plain": [
       "[0.988169515729126,\n",
       " 0.7616681465472094,\n",
       " 0.8886956733784562,\n",
       " 0.9695039421049821,\n",
       " 0.9504404484884268,\n",
       " 0.9439628569611375,\n",
       " 0.9368146227107088,\n",
       " 0.8143022783109007,\n",
       " 0.9631182154839476,\n",
       " 0.9388416537799072,\n",
       " 0.9816423482070253,\n",
       " 0.940882728477622,\n",
       " 0.9429269163491424,\n",
       " 0.9394460269118793,\n",
       " 0.9606215790278543,\n",
       " 0.8697012433817218,\n",
       " 0.7949890249259295,\n",
       " 0.9384744808306155,\n",
       " 0.8864330645841889,\n",
       " 0.9415531751862448,\n",
       " 0.9441299149555877,\n",
       " 0.9398582853702571,\n",
       " 0.8870702615446784,\n",
       " 0.9184170849214232,\n",
       " 0.9520702017424296,\n",
       " 0.9531732818427658,\n",
       " 0.9835849730044816,\n",
       " 0.9636425773684422,\n",
       " 0.9217841352107623,\n",
       " 0.9467172742609804,\n",
       " 0.9944092048209745,\n",
       " 0.8967649524853983,\n",
       " 0.8985995727228404,\n",
       " 0.9350785573211586,\n",
       " 0.9244141448042442,\n",
       " 0.8839476512584652,\n",
       " 0.955021106900739,\n",
       " 0.9778242092591887,\n",
       " 0.972479448737762,\n",
       " 0.9928344802911049,\n",
       " 0.7775083459037235,\n",
       " 0.9802519469633169,\n",
       " 0.9024461774180497,\n",
       " 0.8688045158887867,\n",
       " 0.934951117043928,\n",
       " 0.9250487875802144,\n",
       " 0.9789129767378081,\n",
       " 0.98399193890564,\n",
       " 0.980277279178695,\n",
       " 0.9497670285223545,\n",
       " 0.8824679635169839,\n",
       " 0.9608624689052039,\n",
       " 0.9743646706957547,\n",
       " 0.9501154883629506,\n",
       " 0.9492729968840661,\n",
       " 0.8924137091604106,\n",
       " 0.9804067424885895,\n",
       " 0.8096351469357631,\n",
       " 0.4815220524569873,\n",
       " 0.9547990109846669,\n",
       " 0.9139925364405546,\n",
       " 0.9505222881477348,\n",
       " 0.9719509793938972,\n",
       " 0.9582008985104701,\n",
       " 0.9140067830429536,\n",
       " 0.811270086006565,\n",
       " 0.7782285644532063,\n",
       " 0.9588832495320916,\n",
       " 0.9791787060652751,\n",
       " 0.8711824073761935,\n",
       " 0.9429397733426299,\n",
       " 0.9694792167947474,\n",
       " 0.9562771755752736,\n",
       " 0.981214310330871,\n",
       " 0.9618591691900452,\n",
       " 0.9652242905568414,\n",
       " 0.8468270318540349,\n",
       " 0.9782012346646264,\n",
       " 0.9861836585536035,\n",
       " 0.9806625667591384,\n",
       " 0.9356346952232668,\n",
       " 0.9760426364249574,\n",
       " 0.9561094647440507,\n",
       " 0.953240654259053,\n",
       " 0.9535679874886691,\n",
       " 0.977173992682254,\n",
       " 0.9743110017459554,\n",
       " 0.9534669191518677,\n",
       " 0.9770761663991681,\n",
       " 0.9744265816506664,\n",
       " 0.9676701872390631,\n",
       " 0.5524142829082118,\n",
       " 0.9793995823406392,\n",
       " 0.9682219576297961,\n",
       " 0.9676991009836634,\n",
       " 0.9059754831220264,\n",
       " 0.9359396033635742,\n",
       " 0.9537039102493191,\n",
       " 0.3397513854022739,\n",
       " 0.9102354571044845,\n",
       " 0.9720725422361338,\n",
       " 0.993422386435995,\n",
       " 0.9514303308376894,\n",
       " 0.993951370348244,\n",
       " 0.923551573304823,\n",
       " 0.942305013171397,\n",
       " 0.948036562674564,\n",
       " 0.9167407278644975,\n",
       " 0.9581214060756787,\n",
       " 0.974143810559606,\n",
       " 0.9458719613187272,\n",
       " 0.9140896140716743,\n",
       " 0.9744533591342565,\n",
       " 0.7067080298759723,\n",
       " 0.8969184343196763,\n",
       " 0.9643784690800864,\n",
       " 0.9809041874061502,\n",
       " 0.9624544504513641,\n",
       " 0.9403605009491255,\n",
       " 0.9569237636359414,\n",
       " 0.969201601811706,\n",
       " 0.9426102773227347,\n",
       " 0.8314282027856672,\n",
       " 0.9711590965698117,\n",
       " 0.959425996638188,\n",
       " 0.8853691773789206,\n",
       " 0.9351781113190842,\n",
       " 0.8871370210991901,\n",
       " 0.8816634513963472,\n",
       " 0.9766134443801546,\n",
       " 0.9693237228921455,\n",
       " 0.9628150835061432,\n",
       " 0.9353949018583004,\n",
       " 0.9709691542389867,\n",
       " 0.9035398966004999,\n",
       " 0.9741726420842486,\n",
       " 0.957842520171026,\n",
       " 0.9711354452524612,\n",
       " 0.8694650910857331,\n",
       " 0.9546561177635546,\n",
       " 0.9758329776898194,\n",
       " 0.9450380685152899,\n",
       " 0.9559923177407321,\n",
       " 0.9649336584866021,\n",
       " 0.9448507972795978,\n",
       " 0.8449650000297961,\n",
       " 0.5822280600077009,\n",
       " 0.9478316304839808,\n",
       " 0.9075029901638413,\n",
       " 0.9516106361115769,\n",
       " 0.9596167623070662,\n",
       " 0.9402503517787064,\n",
       " 0.8957631087832572,\n",
       " 0.9145394103280926,\n",
       " 0.9426402309990841,\n",
       " 0.9518369325259827,\n",
       " 0.933793219956961,\n",
       " 0.9843512789791997,\n",
       " 0.9585524727702663,\n",
       " 0.9780987254510393,\n",
       " 0.9621705643828616,\n",
       " 0.949444823144052,\n",
       " 0.9200482925733225,\n",
       " 0.9499456323207299,\n",
       " 0.9555715853779447,\n",
       " 0.8839908155845717,\n",
       " 0.9305836440315953,\n",
       " 0.9932156213730909,\n",
       " 0.9864154376087744,\n",
       " 0.9513552895244858,\n",
       " 0.8773894469882995,\n",
       " 0.960929979295671,\n",
       " 0.9201348920476704,\n",
       " 0.9044203412945566,\n",
       " 0.9614687354107081,\n",
       " 0.9669073401764426,\n",
       " 0.8843691365028532,\n",
       " 0.8976424872331359,\n",
       " 0.9502545043219971,\n",
       " 0.8927546777449028,\n",
       " 0.9629485298775464,\n",
       " 0.7440224096019279,\n",
       " 0.9172878674673552,\n",
       " 0.976156008155332,\n",
       " 0.9685177747353091,\n",
       " 0.8823148255766502,\n",
       " 0.9634854326525794,\n",
       " 0.7788592737857019,\n",
       " 0.9254482470869073,\n",
       " 0.8872094764399351,\n",
       " 0.9478290543549621,\n",
       " 0.9376525545746504,\n",
       " 0.6075719619008022,\n",
       " 0.9407957279953786,\n",
       " 0.9505478201330253,\n",
       " 0.951419220195714,\n",
       " 0.9623404402868286,\n",
       " 0.9680210264507269,\n",
       " 0.9821278944501098,\n",
       " 0.9043638161837544,\n",
       " 0.9952429110093546,\n",
       " 0.9574899187661282,\n",
       " 0.9906524413209954,\n",
       " 0.9482503595698928,\n",
       " 0.9647766965261255,\n",
       " 0.9494339723924751,\n",
       " 0.9157179140109509,\n",
       " 0.9663509078659444,\n",
       " 0.9805909492370417,\n",
       " 0.8767618756965906,\n",
       " 0.9062046482988906,\n",
       " 0.9501209102439497,\n",
       " 0.9515727163406867,\n",
       " 0.9349561564235962,\n",
       " 0.42322027491470726,\n",
       " 0.9628724892712616,\n",
       " 0.8977817993201392,\n",
       " 0.9618961564380782,\n",
       " 0.9653156219786904,\n",
       " 0.9528659580761881,\n",
       " 0.9612823827734808,\n",
       " 0.9329164770976627,\n",
       " 0.976523249176461,\n",
       " 0.9574763758899383,\n",
       " 0.9626667015805849,\n",
       " 0.9387654047932767,\n",
       " 0.9748393431398527,\n",
       " 0.93832129615285,\n",
       " 0.9249320758180194,\n",
       " 0.9390586506255431,\n",
       " 0.9537671927002505,\n",
       " 0.9578955059593178,\n",
       " 0.9821531726157032,\n",
       " 0.8802490427653341,\n",
       " 0.9400380805593752,\n",
       " 0.9506840140225761,\n",
       " 0.9240203987172713,\n",
       " 0.96069794282716,\n",
       " 0.9557364730110924,\n",
       " 0.931543924532029,\n",
       " 0.9545758377518041,\n",
       " 0.9508540777006826,\n",
       " 0.9752893678304031,\n",
       " 0.9694451439354064,\n",
       " 0.9063631622439331,\n",
       " 0.9445465850668773,\n",
       " 0.9422466156971665,\n",
       " 0.9689097172430862,\n",
       " 0.9483473444970703,\n",
       " 0.9677654478381043,\n",
       " 0.8888932290918311,\n",
       " 0.9397924907779216,\n",
       " 0.9702346045953483,\n",
       " 0.9842569785332597,\n",
       " 0.9474569382824548,\n",
       " 0.9401026714509406,\n",
       " 0.9553041067326024,\n",
       " 0.9887014555518095,\n",
       " 0.9249483001266274,\n",
       " 0.9801241683705093,\n",
       " 0.882791320666698,\n",
       " 0.9367908279102948,\n",
       " 0.9437159112219031,\n",
       " 0.9575703835213645,\n",
       " 0.9276186014844053,\n",
       " 0.9094343639020072,\n",
       " 0.8180546128860345,\n",
       " 0.9580711077077905,\n",
       " 0.8629195023134444,\n",
       " 0.8939000539996173,\n",
       " 0.9258011670995567,\n",
       " 0.9723662701717581,\n",
       " 0.9240388343632948,\n",
       " 0.9514218884351788,\n",
       " 0.9286663865985184,\n",
       " 0.915977653412763,\n",
       " 0.934294156342874,\n",
       " 0.8510306040950119,\n",
       " 0.9313387951265095,\n",
       " 0.8962467925227375,\n",
       " 0.8582528171086797,\n",
       " 0.9386936970053862,\n",
       " 0.9644682536114649,\n",
       " 0.9671688815456763,\n",
       " 0.9569677288711765,\n",
       " 0.9686286434665914,\n",
       " 0.9681307377541689,\n",
       " 0.9584963768110079,\n",
       " 0.9284391238003984,\n",
       " 0.8709522316877525,\n",
       " 0.8998260743075643,\n",
       " 0.9828929197755568,\n",
       " 0.913177990512414,\n",
       " 0.9103842809431602,\n",
       " 0.9620915954900193,\n",
       " 0.8224364077189523,\n",
       " 0.9747424830242786,\n",
       " 0.9678780881362677,\n",
       " 0.9771569669145379,\n",
       " 0.923762274049086,\n",
       " -2.175274357832557,\n",
       " 0.9782741040339776,\n",
       " 0.9827282185048205,\n",
       " 0.9832970238943499,\n",
       " 0.9868137587268364,\n",
       " 0.9228797371934636,\n",
       " 0.9241953831328015,\n",
       " 0.9706829077505805,\n",
       " 0.9734828712263711,\n",
       " 0.9668318629149866,\n",
       " 0.9755453723566425,\n",
       " 0.9717199946773938,\n",
       " 0.8952012705427325,\n",
       " 0.9345232296884088,\n",
       " 0.9018764358154756,\n",
       " 0.9553217976056723,\n",
       " 0.961770642601842,\n",
       " 0.9420311956797234,\n",
       " 0.9289407262064421,\n",
       " 0.9655705070629778,\n",
       " 0.9604782062347975,\n",
       " 0.9290148357619183,\n",
       " 0.988024925310538,\n",
       " 0.9421321136934616,\n",
       " 0.984819206023585,\n",
       " 0.9582033915914415,\n",
       " 0.9765888431364822,\n",
       " 0.8523219589927007,\n",
       " 0.9527535376592942,\n",
       " 0.9364773378148156,\n",
       " 0.9750335178364884,\n",
       " 0.9197261800045895,\n",
       " 0.9611092645555072,\n",
       " 0.9421901163257497,\n",
       " 0.9568229413474396,\n",
       " 0.9624934239394792,\n",
       " 0.9442032416197733,\n",
       " 0.9415967828419688,\n",
       " 0.8741621911554218,\n",
       " 0.91879278127018,\n",
       " 0.8777336855392486,\n",
       " 0.7741738018852197,\n",
       " 0.4927649907153494,\n",
       " 0.9174129229623054,\n",
       " 0.913632186052151,\n",
       " 0.9623661311342273,\n",
       " 0.9721335782446513,\n",
       " 0.9452693088190398,\n",
       " 0.94906599049595,\n",
       " 0.9800872513980994,\n",
       " 0.9536200175966912,\n",
       " 0.9839317794607522,\n",
       " 0.9702537977119801,\n",
       " 0.9317041744112311,\n",
       " 0.9711845434063586,\n",
       " 0.9232168583317828,\n",
       " 0.9677797267999915,\n",
       " 0.9364178127970495,\n",
       " 0.9586270780141151,\n",
       " 0.9117865447831565,\n",
       " 0.9072305797372391,\n",
       " 0.9288080716567694,\n",
       " 0.9395304557094496,\n",
       " 0.945592888250152,\n",
       " 0.8663479360216312,\n",
       " 0.90222423303666,\n",
       " 0.9384180729718122,\n",
       " 0.9153822642434364,\n",
       " 0.8640038996961943,\n",
       " 0.9731386892832472,\n",
       " 0.9675044986151415,\n",
       " 0.9763615359455476,\n",
       " 0.7754633680831431,\n",
       " 0.8579028661970862,\n",
       " 0.8178553082974258,\n",
       " 0.9451418283007481,\n",
       " 0.9755336334699206,\n",
       " 0.8927957253962784,\n",
       " -0.12038325518752302,\n",
       " 0.9478327463320066,\n",
       " 0.9149908029824452,\n",
       " 0.965846997843408,\n",
       " 0.9567435049194214,\n",
       " 0.9290982417876945,\n",
       " 0.9060402715057205,\n",
       " 0.9418842526313294,\n",
       " 0.9372279384965194,\n",
       " 0.9722819435903672,\n",
       " 0.9632625173645575,\n",
       " 0.9767388481902819,\n",
       " 0.9329434467250439,\n",
       " 0.9679219660859564,\n",
       " 0.9452313733736595,\n",
       " 0.8492724942099854,\n",
       " 0.9521242959811101,\n",
       " 0.9610021436153754,\n",
       " 0.9201700537747247,\n",
       " 0.8316851791302221,\n",
       " 0.7418275789432849,\n",
       " 0.9417598439045696,\n",
       " 0.9898434390588872,\n",
       " 0.9767827249581711,\n",
       " 0.8885681046263565,\n",
       " 0.939027512368197,\n",
       " 0.9417898937084337,\n",
       " 0.970066617766628,\n",
       " 0.914496375633173,\n",
       " 0.9569552519415893,\n",
       " 0.9506261936336415,\n",
       " 0.9738809199309472,\n",
       " 0.9562936554075491,\n",
       " 0.9521495213183243,\n",
       " 0.9233520431912319,\n",
       " 0.9762981408435532,\n",
       " 0.9362131576104327,\n",
       " 0.9526078313488782,\n",
       " 0.9287582434289873,\n",
       " 0.9149879005916816,\n",
       " 0.9374701392819708,\n",
       " 0.9477399563525247,\n",
       " 0.9823751294462938,\n",
       " 0.9628174543536127,\n",
       " 0.9307783431484524,\n",
       " 0.8405934469306451,\n",
       " 0.9524927528629347,\n",
       " 0.9584993488485485,\n",
       " 0.9696458072304072,\n",
       " 0.9432752536744781,\n",
       " 0.6889784969517632,\n",
       " 0.8872254193412725,\n",
       " 0.9750378291723829,\n",
       " -0.16474183748777427,\n",
       " 0.9433008990265421,\n",
       " 0.9775914736367702,\n",
       " 0.9451642883888033,\n",
       " 0.8459718769645332,\n",
       " 0.9758259120366866,\n",
       " 0.9640496752989668,\n",
       " 0.9632572060781348,\n",
       " 0.9263407268555749,\n",
       " 0.8239534370082879,\n",
       " 0.8808927348644479,\n",
       " 0.9069078118126628,\n",
       " 0.8705324778787957,\n",
       " 0.9203652315176376,\n",
       " 0.9497201211175037,\n",
       " 0.9449143349401226,\n",
       " 0.9694411777911821,\n",
       " 0.8664326770330526,\n",
       " 0.9827173515096721,\n",
       " 0.9584672351750042,\n",
       " 0.9376964418573707,\n",
       " 0.9721574945710459,\n",
       " 0.9305025488469474,\n",
       " 0.93252373511542,\n",
       " 0.9198758699403127,\n",
       " 0.9379586850369461,\n",
       " 0.9627671465013857,\n",
       " 0.9746885156297657,\n",
       " 0.9388776097661393,\n",
       " 0.8022547284289652,\n",
       " 0.9846725654835887,\n",
       " 0.9572487893087314,\n",
       " 0.9774459918785455,\n",
       " 0.8957590637668916,\n",
       " 0.9371022180493387,\n",
       " 0.9628022627176109,\n",
       " 0.9901641327766026,\n",
       " 0.9227907294033851,\n",
       " 0.893435180051926,\n",
       " 0.961671748226427,\n",
       " 0.9626803243941433,\n",
       " 0.9422036608385018,\n",
       " 0.9496469403244371,\n",
       " 0.9280748703099434,\n",
       " 0.9686776645323301,\n",
       " 0.9089645972300915,\n",
       " 0.9200418295723104,\n",
       " 0.9466854541704197,\n",
       " 0.9396761172666035,\n",
       " 0.8928155654093239,\n",
       " 0.9506312178510892,\n",
       " 0.9361846293702508,\n",
       " 0.9670461229645954,\n",
       " 0.9003236750410633,\n",
       " 0.9357786181886607,\n",
       " 0.949229837077689,\n",
       " 0.9672211781816686,\n",
       " 0.4703004176194139,\n",
       " 0.8693981713910438,\n",
       " 0.8049523574997428,\n",
       " 0.9808152835202145,\n",
       " 0.9606849543645315,\n",
       " 0.8921759578899421,\n",
       " 0.9519106868096108,\n",
       " 0.8236978985135598,\n",
       " 0.9446111008218258,\n",
       " 0.9789836285697657,\n",
       " 0.9626062626007694,\n",
       " 0.8272933043147526,\n",
       " 0.9423807325268493,\n",
       " 0.5341277419116585,\n",
       " 0.9625697580486695,\n",
       " 0.9370710672705311,\n",
       " 0.968800828488439,\n",
       " 0.8707576090443226,\n",
       " 0.8927058977550412,\n",
       " 0.9095944399133462,\n",
       " 0.9436759430962954,\n",
       " 0.9788418034133417,\n",
       " 0.9795020214269874,\n",
       " 0.886071922726969,\n",
       " 0.9667878167590428,\n",
       " 0.8934589515850936,\n",
       " 0.7880815721071617,\n",
       " 0.9193110415699464,\n",
       " 0.980189986610669,\n",
       " 0.9755072899845886,\n",
       " 0.9159454211696543,\n",
       " 0.9583996864783677,\n",
       " 0.9620960171305601,\n",
       " 0.9819682413906201,\n",
       " 0.9559718217916736,\n",
       " 0.945119156828607,\n",
       " 0.9179089049437799,\n",
       " 0.9112320222439783,\n",
       " 0.9405405809011685,\n",
       " 0.9538687230265789,\n",
       " 0.9848994015907195,\n",
       " 0.9458103275865942,\n",
       " 0.9715760991250979,\n",
       " 0.9490087188529919,\n",
       " 0.8929178794311817,\n",
       " 0.8356008230402168,\n",
       " 0.9574543233352042,\n",
       " 0.9319659172203952,\n",
       " 0.9178372968741659,\n",
       " 0.9375549682745848,\n",
       " 0.9294540103422098,\n",
       " 0.8615952153620354,\n",
       " 0.9396450849669981,\n",
       " 0.9245457454818625,\n",
       " 0.9446797084032811,\n",
       " 0.9969626143077172,\n",
       " 0.9203426277107891,\n",
       " 0.8536819535376376,\n",
       " 0.965343542419411,\n",
       " 0.9248307210826989,\n",
       " 0.9703417910285309,\n",
       " 0.9451648251624103,\n",
       " 0.9687348489702843,\n",
       " 0.9250240443903603,\n",
       " 0.9800866536116801,\n",
       " 0.9553180382799751,\n",
       " 0.8468482175587941,\n",
       " 0.9753601208386771,\n",
       " 0.9287540094733001,\n",
       " 0.9374053266957032,\n",
       " 0.8792107090481545,\n",
       " 0.894021333761955,\n",
       " 0.9718997502508852,\n",
       " 0.9393180898787475,\n",
       " 0.9902670901137737,\n",
       " 0.9036646128769367,\n",
       " 0.5778977680349873,\n",
       " 0.9629055802206097,\n",
       " 0.9353991597506015,\n",
       " 0.9641619097004344,\n",
       " 0.9541603737674044,\n",
       " 0.9153422977050082,\n",
       " 0.9621103376891234,\n",
       " 0.9537279948266103,\n",
       " 0.9467642043155238,\n",
       " 0.9466890743586983,\n",
       " 0.7073767298859426,\n",
       " 0.9011319187752425,\n",
       " 0.9080615948368768,\n",
       " 0.9839943254859473,\n",
       " 0.9800583474019097,\n",
       " 0.9849973752711736,\n",
       " 0.9321058378154456,\n",
       " 0.9710260833803693,\n",
       " 0.964763408020785,\n",
       " 0.9347829565192001,\n",
       " 0.9546019669318403,\n",
       " 0.9662222090575951,\n",
       " 0.7357148589399558,\n",
       " 0.883113615314462,\n",
       " 0.9007121938113454,\n",
       " 0.956432492195764,\n",
       " 0.9573326654856475,\n",
       " 0.8861974027695264,\n",
       " 0.9208104335492732,\n",
       " 0.9660208059926181,\n",
       " 0.9474030460684443,\n",
       " 0.8530897001710069,\n",
       " 0.9598542835582576,\n",
       " 0.8413686320053041,\n",
       " 0.8565115013697542,\n",
       " 0.9251337870437063,\n",
       " 0.9016533989404518,\n",
       " 0.9605938835210031,\n",
       " 0.9593615784853198,\n",
       " 0.926062498093922,\n",
       " 0.9847100419547572,\n",
       " 0.9793042076102768,\n",
       " 0.9214401360489413,\n",
       " 0.9670991348214946,\n",
       " 0.9741355342640969,\n",
       " 0.9493137814014116,\n",
       " 0.9532788370194566,\n",
       " 0.9677621138202007,\n",
       " 0.858059448785239,\n",
       " 0.9575284827866684,\n",
       " 0.9430903177038523,\n",
       " 0.8711043457740961,\n",
       " 0.7950316286730233,\n",
       " 0.9530228284789894,\n",
       " 0.828703270093105,\n",
       " 0.8736561859807614,\n",
       " 0.9316747188638012,\n",
       " 0.9748727396368181,\n",
       " 0.9367960584548187,\n",
       " 0.8811585570699527,\n",
       " 0.9492146459741009,\n",
       " 0.9572959064161317,\n",
       " 0.9324372359734084,\n",
       " 0.9323079921118211,\n",
       " 0.9369102558946588,\n",
       " 0.9805313265632064,\n",
       " 0.9573496000538801,\n",
       " 0.9826104254492398,\n",
       " 0.9906858986164085,\n",
       " 0.9088026214486704,\n",
       " 0.9117084135160579,\n",
       " 0.9268469214985319,\n",
       " 0.9414785180640347,\n",
       " 0.7730278295623014,\n",
       " 0.9630724551556089,\n",
       " 0.9653297278338526,\n",
       " 0.9165140627803875,\n",
       " 0.9422205131146904,\n",
       " 0.9550588331756479,\n",
       " 0.9477163122941511,\n",
       " 0.9264152717952154,\n",
       " 0.9747172986622091,\n",
       " 0.908968832134319,\n",
       " 0.9274274027229727,\n",
       " 0.8818181452816808,\n",
       " 0.9716232272103968,\n",
       " 0.9320925365130738,\n",
       " 0.9252658262473697,\n",
       " 0.9796550644168873,\n",
       " 0.894028060269707,\n",
       " 0.9196589355261382,\n",
       " 0.9660665479377885,\n",
       " 0.9667562491681018,\n",
       " 0.9553019393623179,\n",
       " 0.9842518385079427,\n",
       " 0.9531954046372427,\n",
       " 0.9865143051766097,\n",
       " 0.8196624325287438,\n",
       " 0.3344913334144427,\n",
       " 0.9474721713843287,\n",
       " 0.8874558644921968,\n",
       " 0.9513834232068243,\n",
       " 0.9536770372463366,\n",
       " 0.7788491352637356,\n",
       " 0.8947368252368745,\n",
       " 0.9284242821263482,\n",
       " 0.9874155800110458,\n",
       " 0.9760369130706567,\n",
       " 0.9125892248282668,\n",
       " 0.7417803724171226,\n",
       " 0.9258464942695392,\n",
       " 0.962671126036462,\n",
       " 0.827017362862368,\n",
       " 0.8970855383675048,\n",
       " 0.9247009662920953,\n",
       " 0.959632746286622,\n",
       " 0.9346988805873728,\n",
       " 0.9590834413860571,\n",
       " 0.9507935318459655,\n",
       " 0.5477990787111477,\n",
       " 0.9720406490284106,\n",
       " 0.9341100524226861,\n",
       " 0.9717910556500209,\n",
       " 0.9556108593377165,\n",
       " 0.9435006080802293,\n",
       " 0.915500355318466,\n",
       " 0.9613416885598628,\n",
       " 0.9703659219097831,\n",
       " 0.9166527194621167,\n",
       " 0.9678391428896278,\n",
       " 0.9679030886348974,\n",
       " 0.9172258725213684,\n",
       " 0.8735387198698221,\n",
       " 0.9714058458639794,\n",
       " 0.904414828151184,\n",
       " 0.94477909395162,\n",
       " 0.7879935096061559,\n",
       " 0.9124017139171481,\n",
       " 0.9185948199931228,\n",
       " 0.9694716917615688,\n",
       " 0.9397052724876108,\n",
       " 0.9324484982454255,\n",
       " 0.967960757350355,\n",
       " 0.6435137423507482,\n",
       " 0.8901600756230291,\n",
       " 0.9453261655150065,\n",
       " -4.703895027849648,\n",
       " 0.9705185877186248,\n",
       " 0.9474004438452849,\n",
       " 0.8818584086638195,\n",
       " 0.9286447492256937,\n",
       " 0.9232890510473,\n",
       " 0.9531476300563202,\n",
       " 0.9733337133469917,\n",
       " 0.9685744239261471,\n",
       " 0.9238718983845856,\n",
       " 0.42658126320016254,\n",
       " 0.8821768701064039,\n",
       " 0.9821378551152633,\n",
       " 0.9239149983547847,\n",
       " 0.924341058124809,\n",
       " 0.9746294381933703,\n",
       " 0.9655716018258156,\n",
       " 0.9095529103175576,\n",
       " 0.9800397777726697,\n",
       " 0.9512521990991137,\n",
       " 0.9321710021455308,\n",
       " 0.869162786849556,\n",
       " -1.612359836664453,\n",
       " 0.9236605931129265,\n",
       " 0.9461429499709457,\n",
       " 0.9809334462865393,\n",
       " 0.9424795018536941,\n",
       " 0.9230694117880271,\n",
       " 0.9667915871346439,\n",
       " 0.9542893061589603,\n",
       " 0.8290887233108909,\n",
       " 0.9359201997906554,\n",
       " 0.909463463129715,\n",
       " 0.9688376045490087,\n",
       " 0.6762122837241933,\n",
       " 0.9519117030839388,\n",
       " 0.8451610109291098,\n",
       " 0.9078549319377163,\n",
       " 0.9134974319546784,\n",
       " 0.9617261259208945,\n",
       " 0.8869601825174973,\n",
       " 0.916846285034455,\n",
       " 0.972520964611564,\n",
       " 0.9230979642389948,\n",
       " 0.9026085523993647,\n",
       " 0.9803490120179891,\n",
       " 0.9185085394900471,\n",
       " 0.918280838559387,\n",
       " 0.9467825466045802,\n",
       " 0.9097684990955741,\n",
       " 0.9813340047082014,\n",
       " 0.9072823464937968,\n",
       " 0.7846955231951259,\n",
       " 0.9410144410636017,\n",
       " 0.9506296019811682,\n",
       " 0.9680600171254548,\n",
       " 0.9480380296784241,\n",
       " 0.9178233345693153,\n",
       " 0.9615552207161862,\n",
       " 0.9220028574492534,\n",
       " 0.9712704124571909,\n",
       " 0.9722391891549718,\n",
       " 0.9508408768218614,\n",
       " 0.9411050645722544,\n",
       " 0.9562291277276684,\n",
       " 0.915201119901584,\n",
       " 0.8761454910427446,\n",
       " 0.9581696664098647,\n",
       " 0.948610321295798,\n",
       " 0.9117420398581344,\n",
       " 0.9706499138482259,\n",
       " 0.9519634986841431,\n",
       " 0.9823602482002123,\n",
       " 0.9660954471973039,\n",
       " 0.9186945089433181,\n",
       " 0.16177689107317628,\n",
       " 0.8913440416037777,\n",
       " 0.9475080654056147,\n",
       " 0.9388477233944852,\n",
       " 0.8246578900241778,\n",
       " 0.9804349972985741,\n",
       " 0.9328279693738364,\n",
       " 0.9261337321374287,\n",
       " 0.8697936085447692,\n",
       " 0.9862739089579583,\n",
       " 0.960196885300784,\n",
       " 0.8750965481421714,\n",
       " 0.9424532708423977,\n",
       " 0.9777441168333517,\n",
       " 0.9255782806940139,\n",
       " 0.7425771269332584,\n",
       " 0.9341156484693863,\n",
       " 0.9166517852394217,\n",
       " 0.9350891956206433,\n",
       " 0.9583221027657336,\n",
       " 0.9592986756995828,\n",
       " 0.9552411299959358,\n",
       " 0.8876692836438574,\n",
       " 0.9789615053766036,\n",
       " 0.9567931020711615,\n",
       " 0.8272044344999971,\n",
       " 0.8951693970183817,\n",
       " 0.95969020741639,\n",
       " 0.9485159857769886,\n",
       " 0.8843923871576381,\n",
       " 0.9185432408713732,\n",
       " 0.810234975801577,\n",
       " 0.9918048646059987,\n",
       " 0.9352586120454286,\n",
       " 0.9453713184171785,\n",
       " 0.9231645870143113,\n",
       " 0.9300481455958627,\n",
       " 0.9807355975851538,\n",
       " 0.8698225971565224,\n",
       " 0.9356749764429559,\n",
       " 0.9157634924671474,\n",
       " 0.966471588957575,\n",
       " 0.9882739867930922,\n",
       " 0.9609320331032158,\n",
       " 0.9271995121780492,\n",
       " 0.9592279226044744,\n",
       " 0.8989934732657678,\n",
       " 0.9055607884646898,\n",
       " 0.8576494023975337,\n",
       " 0.9315859705665342,\n",
       " 0.9454195388195801,\n",
       " 0.9304247905474018,\n",
       " 0.810841275794802,\n",
       " 0.9531267806075827,\n",
       " 0.9610855221431444,\n",
       " 0.9410141207239751,\n",
       " 0.9191538033273708,\n",
       " 0.9563884524836818,\n",
       " 0.979025837472473,\n",
       " 0.9395804741976437,\n",
       " 0.9815450188959574,\n",
       " 0.9740585941969339,\n",
       " 0.9768245676815586,\n",
       " 0.9345948971855488,\n",
       " 0.9328908393222156,\n",
       " 0.9633173649750879,\n",
       " 0.9700671364265534,\n",
       " 0.9640047185687584,\n",
       " 0.9274004345970389,\n",
       " 0.9043738553198624,\n",
       " 0.9858336172264318,\n",
       " 0.9661506618180161,\n",
       " 0.9558814141573142,\n",
       " 0.9472494374501792,\n",
       " 0.9628476944831741,\n",
       " 0.6553837702867374,\n",
       " 0.975626735067883,\n",
       " 0.9730988693449953,\n",
       " 0.8978992401859368,\n",
       " 0.6782015872614777,\n",
       " 0.8949190559379536,\n",
       " 0.9259980478069402,\n",
       " 0.9330077524940776,\n",
       " 0.9815730844263426,\n",
       " 0.8644950157232643,\n",
       " 0.9642985808764544,\n",
       " 0.9678031232259136,\n",
       " 0.9907845722087265,\n",
       " 0.9093299329078213,\n",
       " 0.8636239538550989,\n",
       " 0.9023882059670665,\n",
       " 0.9579302562994899,\n",
       " 0.9674031087606845,\n",
       " 0.9333928787688233,\n",
       " 0.8859016721694866,\n",
       " 0.9347699873525179,\n",
       " 0.9741242653035923,\n",
       " 0.9673270051595625,\n",
       " 0.9049111243010916,\n",
       " 0.960623571087481,\n",
       " 0.9878331442133956,\n",
       " 0.9473773627572841,\n",
       " 0.5338430652009033,\n",
       " 0.9481058670012784,\n",
       " 0.9204252877850119,\n",
       " 0.9697937802109572,\n",
       " -0.7278396565780847,\n",
       " 0.9499001965319859,\n",
       " 0.918676672646221,\n",
       " 0.9098994886128541,\n",
       " 0.9768975128571273,\n",
       " 0.9392697429384421,\n",
       " 0.8976170988350489,\n",
       " 0.9320924187665183,\n",
       " 0.8238468980380996,\n",
       " 0.965717412147218,\n",
       " 0.9710588352611398,\n",
       " 0.9693881869077463,\n",
       " 0.9144160052557724,\n",
       " 0.9420532309839498,\n",
       " 0.921508893482737,\n",
       " 0.988557275937812,\n",
       " 0.9150036685078625,\n",
       " 0.912990269493103,\n",
       " 0.8661085365640789,\n",
       " 0.9469847394472902,\n",
       " 0.9624342725999893,\n",
       " 0.9500558050867961,\n",
       " 0.8841429580611886,\n",
       " 0.9061379018994437,\n",
       " 0.9502229507572498,\n",
       " 0.972454558816005,\n",
       " 0.993936328245946,\n",
       " 0.9697689564605961,\n",
       " 0.9837578090800082,\n",
       " 0.9808991433838151,\n",
       " 0.9623810142025581,\n",
       " -1.8538391113002697,\n",
       " 0.9406244982871934,\n",
       " 0.9181716425037044,\n",
       " 0.9219689816970844,\n",
       " 0.9624775585698903,\n",
       " 0.9607051018976505,\n",
       " 0.9738824488149536,\n",
       " 0.9233777512964202,\n",
       " 0.9639663736540254,\n",
       " 0.958541697169241,\n",
       " 0.9799334532636735,\n",
       " 0.8199712156201666,\n",
       " 0.9177232061724263,\n",
       " 0.8973681371241347,\n",
       " 0.8856453290421529,\n",
       " 0.9690622186006214,\n",
       " 0.8843062516149605,\n",
       " 0.9416909461387619,\n",
       " 0.9586793832486533,\n",
       " 0.9473281998706775,\n",
       " 0.96562942594148,\n",
       " 0.9240754999594049,\n",
       " 0.9588031185448085,\n",
       " 0.9589382047889163,\n",
       " 0.9707005095330685,\n",
       " 0.6910037180898915,\n",
       " 0.9762648421759171,\n",
       " 0.9553776026357086,\n",
       " 0.9042645088004797,\n",
       " 0.9772443849998477,\n",
       " 0.9610231014812723,\n",
       " 0.9593206474361993,\n",
       " 0.9715642978479702,\n",
       " 0.9663953270382615,\n",
       " 0.9684871766567913,\n",
       " 0.963568493487432,\n",
       " 0.9303604797612035,\n",
       " 0.9332175508557614,\n",
       " 0.9350569736586123,\n",
       " 0.8106334700521366,\n",
       " 0.9621246857572422,\n",
       " 0.957790072975979,\n",
       " 0.8664089638007796,\n",
       " 0.9538910475674496,\n",
       " 0.9236740896662866,\n",
       " 0.9777942437281025,\n",
       " 0.9163509961476485,\n",
       " 0.9847192895327423,\n",
       " 0.9536618548120446,\n",
       " 0.9854934694082944,\n",
       " 0.9466325803430597,\n",
       " 0.9757689087448463,\n",
       " 0.8661246173530779,\n",
       " 0.9438715469734503,\n",
       " 0.9591583779038217,\n",
       " 0.9472816711605883,\n",
       " 0.961388468459876,\n",
       " 0.98508899628466,\n",
       " 0.8312021007821168,\n",
       " 0.9487639151550841,\n",
       " 0.8695706854145355,\n",
       " 0.9872964512129855,\n",
       " 0.9493407308635767,\n",
       " 0.9672883794710768,\n",
       " 0.9773781439814536,\n",
       " 0.9529149241487506,\n",
       " 0.9327854659520325,\n",
       " 0.9073350084484484,\n",
       " 0.9319542825541854,\n",
       " 0.9701842775209298,\n",
       " 0.9147383702454278,\n",
       " 0.9444717757487135,\n",
       " 0.9045643486591679,\n",
       " 0.9436331974817302,\n",
       " 0.9560661042373898,\n",
       " 0.9402176815582463,\n",
       " 0.9940046138219651,\n",
       " 0.9535092863982116]"
      ]
     },
     "execution_count": 55,
     "metadata": {},
     "output_type": "execute_result"
    }
   ],
   "source": [
    "accuracy = []\n",
    "for i in range(1000):\n",
    "    xtrain, xtest,ytrain,ytest = train_test_split(x,y,train_size = 0.8, random_state = i)\n",
    "    model = LinearRegression()\n",
    "    model.fit(xtrain,ytrain)\n",
    "    ypred = model.predict(xtest)\n",
    "    r2result = r2_score(ytest,ypred)\n",
    "    accuracy.append(r2result)\n",
    "\n",
    "accuracy"
   ]
  },
  {
   "cell_type": "code",
   "execution_count": 56,
   "id": "24d38d9c",
   "metadata": {},
   "outputs": [
    {
     "data": {
      "text/plain": [
       "0.9969626143077172"
      ]
     },
     "execution_count": 56,
     "metadata": {},
     "output_type": "execute_result"
    }
   ],
   "source": [
    "np.max(accuracy)"
   ]
  },
  {
   "cell_type": "code",
   "execution_count": 57,
   "id": "af17a800",
   "metadata": {},
   "outputs": [
    {
     "data": {
      "text/plain": [
       "543"
      ]
     },
     "execution_count": 57,
     "metadata": {},
     "output_type": "execute_result"
    }
   ],
   "source": [
    "np.argmax(accuracy)"
   ]
  },
  {
   "cell_type": "code",
   "execution_count": 58,
   "id": "971e9564",
   "metadata": {},
   "outputs": [
    {
     "data": {
      "text/plain": [
       "['salary.pkl']"
      ]
     },
     "execution_count": 58,
     "metadata": {},
     "output_type": "execute_result"
    }
   ],
   "source": [
    "import joblib\n",
    "joblib.dump(model,'salary.pkl')"
   ]
  },
  {
   "cell_type": "code",
   "execution_count": 59,
   "id": "a679466b",
   "metadata": {},
   "outputs": [],
   "source": [
    "#using saved model\n",
    "model1 = joblib.load('salary.pkl')"
   ]
  },
  {
   "cell_type": "code",
   "execution_count": 60,
   "id": "8321ca8a",
   "metadata": {},
   "outputs": [
    {
     "name": "stderr",
     "output_type": "stream",
     "text": [
      "C:\\ProgramData\\anaconda3\\Lib\\site-packages\\sklearn\\base.py:464: UserWarning: X does not have valid feature names, but LinearRegression was fitted with feature names\n",
      "  warnings.warn(\n"
     ]
    },
    {
     "data": {
      "text/plain": [
       "array([128042.47966025])"
      ]
     },
     "execution_count": 60,
     "metadata": {},
     "output_type": "execute_result"
    }
   ],
   "source": [
    "model1.predict([[11]])#giving experience to get a salary"
   ]
  },
  {
   "cell_type": "code",
   "execution_count": 61,
   "id": "3647fa1e",
   "metadata": {},
   "outputs": [
    {
     "name": "stderr",
     "output_type": "stream",
     "text": [
      "C:\\ProgramData\\anaconda3\\Lib\\site-packages\\sklearn\\base.py:464: UserWarning: X does not have valid feature names, but LinearRegression was fitted with feature names\n",
      "  warnings.warn(\n"
     ]
    },
    {
     "data": {
      "text/plain": [
       "array([118832.63411185, 128042.47966025, 137252.32520864])"
      ]
     },
     "execution_count": 61,
     "metadata": {},
     "output_type": "execute_result"
    }
   ],
   "source": [
    "model1.predict([[10],[11],[12]])"
   ]
  },
  {
   "cell_type": "code",
   "execution_count": null,
   "id": "892b4bc4",
   "metadata": {},
   "outputs": [],
   "source": []
  },
  {
   "cell_type": "code",
   "execution_count": null,
   "id": "7298fec3",
   "metadata": {},
   "outputs": [],
   "source": []
  },
  {
   "cell_type": "code",
   "execution_count": null,
   "id": "26b0ef87",
   "metadata": {},
   "outputs": [],
   "source": []
  },
  {
   "cell_type": "code",
   "execution_count": null,
   "id": "9db8e9de",
   "metadata": {},
   "outputs": [],
   "source": []
  },
  {
   "cell_type": "code",
   "execution_count": null,
   "id": "a82620f5",
   "metadata": {},
   "outputs": [],
   "source": []
  }
 ],
 "metadata": {
  "kernelspec": {
   "display_name": "Python 3 (ipykernel)",
   "language": "python",
   "name": "python3"
  },
  "language_info": {
   "codemirror_mode": {
    "name": "ipython",
    "version": 3
   },
   "file_extension": ".py",
   "mimetype": "text/x-python",
   "name": "python",
   "nbconvert_exporter": "python",
   "pygments_lexer": "ipython3",
   "version": "3.11.4"
  }
 },
 "nbformat": 4,
 "nbformat_minor": 5
}
