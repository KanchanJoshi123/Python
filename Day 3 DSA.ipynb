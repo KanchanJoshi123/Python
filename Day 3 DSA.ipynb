{
 "cells": [
  {
   "cell_type": "code",
   "execution_count": 11,
   "id": "947438ae",
   "metadata": {},
   "outputs": [
    {
     "name": "stdout",
     "output_type": "stream",
     "text": [
      "[10, 20, 30]\n",
      "[10, 20]\n",
      "20\n"
     ]
    }
   ],
   "source": [
    "#Stack\n",
    "\n",
    "def createStack():\n",
    "    stack=[]\n",
    "    return stack\n",
    "\n",
    "def push(item,s):\n",
    "    return s.append(item)\n",
    "\n",
    "def Pop(s):\n",
    "    if(isEmpty(s)):\n",
    "        return -1\n",
    "    return s.pop()\n",
    "\n",
    "def isEmpty(stack):\n",
    "    return len(stack) == 0\n",
    "\n",
    "def peek(s):\n",
    "    if(isEmpty(s)):\n",
    "        return -1\n",
    "    return s[len(s)-1]\n",
    "\n",
    "s =createStack()\n",
    "push(10,s)\n",
    "push(20,s)\n",
    "push(30,s)\n",
    "print(s)\n",
    "\n",
    "Pop(s)\n",
    "print(s)\n",
    "\n",
    "print(peek(s))"
   ]
  },
  {
   "cell_type": "code",
   "execution_count": 14,
   "id": "7fe58d44",
   "metadata": {},
   "outputs": [
    {
     "name": "stdout",
     "output_type": "stream",
     "text": [
      "['Java', 'Python', 'SQL', 'ABAP']\n",
      "4\n",
      "ABAP\n"
     ]
    },
    {
     "data": {
      "text/plain": [
       "['Java', 'Python', 'SQL']"
      ]
     },
     "execution_count": 14,
     "metadata": {},
     "output_type": "execute_result"
    }
   ],
   "source": [
    "stack = []\n",
    "stack.append(\"Java\")\n",
    "stack.append(\"Python\")\n",
    "stack.append(\"SQL\")\n",
    "stack.append(\"ABAP\")\n",
    "\n",
    "print(stack)\n",
    "print(len(stack))\n",
    "print(stack.pop())\n",
    "stack\n",
    "\n"
   ]
  },
  {
   "cell_type": "code",
   "execution_count": 20,
   "id": "67aed70d",
   "metadata": {},
   "outputs": [
    {
     "name": "stdout",
     "output_type": "stream",
     "text": [
      "deque(['Java', 'Python', 'SQL', 'ABAP', 'Anaconda', 'Android Studio', 'Visual Studio'])\n",
      "Visual Studio\n",
      "Android Studio\n"
     ]
    }
   ],
   "source": [
    "#Stack implementation using collection.deque\n",
    "from collections import deque\n",
    "\n",
    "stack = deque()\n",
    "\n",
    "stack.append(\"Java\")\n",
    "stack.append(\"Python\")\n",
    "stack.append(\"SQL\")\n",
    "stack.append(\"ABAP\")\n",
    "stack.append(\"Anaconda\")\n",
    "stack.append(\"Android Studio\")\n",
    "stack.append(\"Visual Studio\")\n",
    "\n",
    "print(stack)\n",
    "\n",
    "print(stack.pop())\n",
    "print(stack.pop())"
   ]
  },
  {
   "cell_type": "code",
   "execution_count": 25,
   "id": "c87c7490",
   "metadata": {},
   "outputs": [
    {
     "name": "stdout",
     "output_type": "stream",
     "text": [
      "0\n",
      "True\n",
      "ABAP\n",
      "SQL\n",
      "Python\n",
      "Java\n",
      "True\n"
     ]
    }
   ],
   "source": [
    "from queue import LifoQueue\n",
    "\n",
    "stack = LifoQueue(maxsize =4)\n",
    "\n",
    "print(stack.qsize())\n",
    "stack.put(\"Java\")\n",
    "stack.put(\"Python\")\n",
    "stack.put(\"SQL\")\n",
    "stack.put(\"ABAP\")\n",
    "\n",
    "print(stack.full())\n",
    "\n",
    "print(stack.get())\n",
    "print(stack.get())\n",
    "print(stack.get())\n",
    "print(stack.get())\n",
    "\n",
    "print(stack.empty())"
   ]
  },
  {
   "cell_type": "code",
   "execution_count": 44,
   "id": "2e0d9908",
   "metadata": {},
   "outputs": [
    {
     "name": "stdout",
     "output_type": "stream",
     "text": [
      "None\n"
     ]
    }
   ],
   "source": [
    "#Implementation of stack using Queue\n",
    "class Queue:\n",
    "    def __init__(self,capacity):\n",
    "        self.front = 0\n",
    "        self.rear = -1\n",
    "        self.capacity = capacity\n",
    "        self.queue = [None]*capacity\n",
    "        \n",
    "    def enqueue(self,data):\n",
    "        if self.rear == self.capacity -1:\n",
    "            print(\"Full\")\n",
    "        self.rear+=1\n",
    "        self.queue[self.rear] = data\n",
    "        \n",
    "    def dequeue(self):\n",
    "        if self.front>self.rear:\n",
    "            print(\"Empty\")\n",
    "            \n",
    "        for i in range(self.rear):\n",
    "            self.queue[i] = self.queue[i+1]\n",
    "        self.front =+1\n",
    "    \n",
    "    def display(self):\n",
    "        for i in range(self.rear+1):\n",
    "            print(self.queue[i])\n",
    "            self.front=+1\n",
    "        reuturn(self.queue)\n",
    "            \n",
    "            \n",
    "    if __name__ == \"__main__\":\n",
    "        q = Queue(4)\n",
    "        \n",
    "#         q.display()\n",
    "        q.enqueue(20)\n",
    "        q.enqueue(30)\n",
    "        q.enqueue(50)\n",
    "        q.enqueue(100)\n",
    "#         q.enqueue(190)\n",
    "#         q.enqueue(300)\n",
    "        print(q.dequeue())\n",
    "#         q.display()\n",
    "        \n",
    "        \n",
    "        \n",
    "        \n",
    "            \n",
    "            "
   ]
  },
  {
   "cell_type": "code",
   "execution_count": 45,
   "id": "8978ec5e",
   "metadata": {},
   "outputs": [
    {
     "name": "stdout",
     "output_type": "stream",
     "text": [
      "Enqueued: 10\n",
      "Enqueued: 20\n",
      "Enqueued: 30\n",
      "Queue contents: 10 20 30 \n",
      "Dequeued: 10\n",
      "Queue contents: 20 30 \n",
      "Enqueued: 40\n",
      "Enqueued: 50\n",
      "Queue is full. Cannot enqueue.\n",
      "Queue contents: 20 30 40 50 \n",
      "Dequeued: 20\n",
      "Queue contents: 30 40 50 \n",
      "Queue is full. Cannot enqueue.\n",
      "Queue contents: 30 40 50 \n"
     ]
    }
   ],
   "source": [
    "class Queue:\n",
    "    def __init__(self, capacity):\n",
    "        self.capacity = capacity\n",
    "        self.queue = [None] * capacity\n",
    "        self.front = -1\n",
    "        self.rear = -1\n",
    "\n",
    "    # Enqueue operation\n",
    "    def enqueue(self, item):\n",
    "        if self.is_full():\n",
    "            print(\"Queue is full. Cannot enqueue.\")\n",
    "            return\n",
    "        if self.front == -1:  # If the queue is empty\n",
    "            self.front = 0\n",
    "        self.rear += 1\n",
    "        self.queue[self.rear] = item\n",
    "        print(f\"Enqueued: {item}\")\n",
    "\n",
    "    # Dequeue operation\n",
    "    def dequeue(self):\n",
    "        if self.is_empty():\n",
    "            print(\"Queue is empty. Cannot dequeue.\")\n",
    "            return None\n",
    "        item = self.queue[self.front]\n",
    "        if self.front == self.rear:  # Only one element in the queue\n",
    "            self.front = -1\n",
    "            self.rear = -1\n",
    "        else:\n",
    "            self.front += 1\n",
    "        print(f\"Dequeued: {item}\")\n",
    "        return item\n",
    "\n",
    "    # Check if the queue is empty\n",
    "    def is_empty(self):\n",
    "        return self.front == -1\n",
    "\n",
    "    # Check if the queue is full\n",
    "    def is_full(self):\n",
    "        return self.rear == self.capacity - 1\n",
    "\n",
    "    # Peek operation\n",
    "    def peek(self):\n",
    "        if self.is_empty():\n",
    "            print(\"Queue is empty. Cannot peek.\")\n",
    "            return None\n",
    "        return self.queue[self.front]\n",
    "\n",
    "    # Display the queue\n",
    "    def display(self):\n",
    "        if self.is_empty():\n",
    "            print(\"Queue is empty.\")\n",
    "        else:\n",
    "            print(\"Queue contents:\", end=\" \")\n",
    "            for i in range(self.front, self.rear + 1):\n",
    "                print(self.queue[i], end=\" \")\n",
    "            print()\n",
    "\n",
    "\n",
    "# Example usage\n",
    "queue = Queue(5)\n",
    "queue.enqueue(10)\n",
    "queue.enqueue(20)\n",
    "queue.enqueue(30)\n",
    "queue.display()\n",
    "queue.dequeue()\n",
    "queue.display()\n",
    "queue.enqueue(40)\n",
    "queue.enqueue(50)\n",
    "queue.enqueue(60)\n",
    "queue.display()\n",
    "queue.dequeue()\n",
    "queue.display()\n",
    "queue.enqueue(70)\n",
    "queue.display()\n"
   ]
  },
  {
   "cell_type": "code",
   "execution_count": 53,
   "id": "df1baaf6",
   "metadata": {},
   "outputs": [
    {
     "name": "stdout",
     "output_type": "stream",
     "text": [
      "[20, 30, 50, 100]\n",
      "20\n",
      "30\n",
      "50\n",
      "100\n"
     ]
    }
   ],
   "source": [
    "q =[]\n",
    "q.append(20)\n",
    "q.append(30)\n",
    "q.append(50)\n",
    "q.append(100)\n",
    "print(q)\n",
    "\n",
    "print(q.pop(0))\n",
    "print(q.pop(0))\n",
    "print(q.pop(0))\n",
    "print(q.pop(0))"
   ]
  },
  {
   "cell_type": "code",
   "execution_count": 55,
   "id": "dd45e6b0",
   "metadata": {},
   "outputs": [
    {
     "name": "stdout",
     "output_type": "stream",
     "text": [
      "deque([20, 30, 50, 100])\n",
      "20\n",
      "30\n",
      "50\n"
     ]
    }
   ],
   "source": [
    "from collections import deque\n",
    "q = deque()\n",
    "q.append(20)\n",
    "q.append(30)\n",
    "q.append(50)\n",
    "q.append(100)\n",
    "print(q)\n",
    "\n",
    "print(q.popleft())\n",
    "print(q.popleft())\n",
    "print(q.popleft())\n",
    "\n"
   ]
  },
  {
   "cell_type": "code",
   "execution_count": 60,
   "id": "2730a059",
   "metadata": {},
   "outputs": [
    {
     "name": "stdout",
     "output_type": "stream",
     "text": [
      "4\n",
      "Java\n",
      "Python\n",
      "SQL\n"
     ]
    }
   ],
   "source": [
    "from queue import Queue\n",
    "q = Queue(maxsize =4)\n",
    "q.put(\"Java\")\n",
    "q.put(\"Python\")\n",
    "q.put(\"SQL\")\n",
    "q.put(\"ABAP\")\n",
    "print(q.qsize())\n",
    "print(q.get())\n",
    "print(q.get())\n",
    "print(q.get())\n"
   ]
  },
  {
   "cell_type": "code",
   "execution_count": 69,
   "id": "cbd57462",
   "metadata": {},
   "outputs": [
    {
     "name": "stdout",
     "output_type": "stream",
     "text": [
      "1->2->3->4->None\n"
     ]
    },
    {
     "ename": "TypeError",
     "evalue": "Node.__init__() takes 2 positional arguments but 3 were given",
     "output_type": "error",
     "traceback": [
      "\u001b[1;31m---------------------------------------------------------------------------\u001b[0m",
      "\u001b[1;31mTypeError\u001b[0m                                 Traceback (most recent call last)",
      "Cell \u001b[1;32mIn[69], line 44\u001b[0m\n\u001b[0;32m     40\u001b[0m head \u001b[38;5;241m=\u001b[39m begin_insert(head,\u001b[38;5;241m1\u001b[39m)\n\u001b[0;32m     42\u001b[0m traverse(head)\n\u001b[1;32m---> 44\u001b[0m head \u001b[38;5;241m=\u001b[39m insert_end(head,\u001b[38;5;241m5\u001b[39m)\n\u001b[0;32m     45\u001b[0m traverse(head)\n",
      "Cell \u001b[1;32mIn[69], line 23\u001b[0m, in \u001b[0;36minsert_end\u001b[1;34m(head, data)\u001b[0m\n\u001b[0;32m     20\u001b[0m \u001b[38;5;28;01mdef\u001b[39;00m \u001b[38;5;21minsert_end\u001b[39m(head,data):\n\u001b[0;32m     21\u001b[0m     current \u001b[38;5;241m=\u001b[39m head\n\u001b[1;32m---> 23\u001b[0m     newn \u001b[38;5;241m=\u001b[39m Node(head,data)\n\u001b[0;32m     24\u001b[0m     \u001b[38;5;28;01mif\u001b[39;00m head \u001b[38;5;241m==\u001b[39m \u001b[38;5;28;01mNone\u001b[39;00m:\n\u001b[0;32m     25\u001b[0m         \u001b[38;5;28;01mreturn\u001b[39;00m newn\n",
      "\u001b[1;31mTypeError\u001b[0m: Node.__init__() takes 2 positional arguments but 3 were given"
     ]
    }
   ],
   "source": [
    "#Singley linked list \n",
    "\n",
    "class Node:\n",
    "    def __init__(self,data):\n",
    "        self.data = data\n",
    "        self.next = None\n",
    "        \n",
    "def begin_insert(head,data):\n",
    "    node = Node(data)\n",
    "    node.next = head\n",
    "    return node\n",
    "    \n",
    "def traverse(head):\n",
    "    current = head \n",
    "    while current:\n",
    "        print(current.data,end=\"->\")\n",
    "        current = current.next\n",
    "    print(\"None\")\n",
    "        \n",
    "def insert_end(head,data):\n",
    "    current = head\n",
    "    \n",
    "    newn = Node(head,data)\n",
    "    if head == None:\n",
    "        return newn\n",
    "    \n",
    "    current = head\n",
    "    \n",
    "    while current.next:\n",
    "        current = current.next\n",
    "    \n",
    "    current = newn\n",
    "    \n",
    "        \n",
    "\n",
    "head = None\n",
    "head = begin_insert(head,4)\n",
    "head = begin_insert(head,3)\n",
    "head = begin_insert(head,2)\n",
    "head = begin_insert(head,1)\n",
    "\n",
    "traverse(head)\n",
    "\n",
    "head = insert_end(head,5)\n",
    "traverse(head)\n",
    "        "
   ]
  },
  {
   "cell_type": "code",
   "execution_count": null,
   "id": "d43ae890",
   "metadata": {},
   "outputs": [],
   "source": []
  },
  {
   "cell_type": "code",
   "execution_count": null,
   "id": "6fdf2f00",
   "metadata": {},
   "outputs": [],
   "source": []
  },
  {
   "cell_type": "code",
   "execution_count": null,
   "id": "2e36fa30",
   "metadata": {},
   "outputs": [],
   "source": []
  }
 ],
 "metadata": {
  "kernelspec": {
   "display_name": "Python 3 (ipykernel)",
   "language": "python",
   "name": "python3"
  },
  "language_info": {
   "codemirror_mode": {
    "name": "ipython",
    "version": 3
   },
   "file_extension": ".py",
   "mimetype": "text/x-python",
   "name": "python",
   "nbconvert_exporter": "python",
   "pygments_lexer": "ipython3",
   "version": "3.11.4"
  }
 },
 "nbformat": 4,
 "nbformat_minor": 5
}
