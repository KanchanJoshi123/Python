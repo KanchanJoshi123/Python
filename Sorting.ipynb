{
 "cells": [
  {
   "cell_type": "code",
   "execution_count": 4,
   "id": "ed52768a",
   "metadata": {},
   "outputs": [
    {
     "name": "stdout",
     "output_type": "stream",
     "text": [
      "Enter a key23\n",
      "The key is at position  2\n"
     ]
    }
   ],
   "source": [
    "#Linear Search Iterative\n",
    "\n",
    "list1 = [10,80,23,40,50]\n",
    "key = int(input(\"Enter a key\"))\n",
    "\n",
    "def linearsearch(list1,key):\n",
    "    for i in range(0,len(list1)):\n",
    "        if list1[i]==key:\n",
    "            return i\n",
    "    return -1\n",
    "\n",
    "print(\"The key is at position \",linearsearch(list1,key))\n"
   ]
  },
  {
   "cell_type": "code",
   "execution_count": 5,
   "id": "3a2a8717",
   "metadata": {},
   "outputs": [
    {
     "name": "stdout",
     "output_type": "stream",
     "text": [
      "Enter a key23\n",
      "The key is at position  2\n"
     ]
    }
   ],
   "source": [
    "#Linear Recursive \n",
    "arr = [10,80,23,40,50]\n",
    "key = int(input(\"Enter a key\"))\n",
    "\n",
    "def linear_search_recursive(arr, target, index=0):\n",
    "    if index == len(arr):\n",
    "        return -1  \n",
    "    \n",
    "    if arr[index] == target:\n",
    "        return index  \n",
    "    return linear_search_recursive(arr, target, index + 1)\n",
    "\n",
    "print(\"The key is at position \",linearsearch(arr,key))\n"
   ]
  },
  {
   "cell_type": "code",
   "execution_count": 7,
   "id": "c1af8306",
   "metadata": {},
   "outputs": [
    {
     "name": "stdout",
     "output_type": "stream",
     "text": [
      "Enter a key20\n",
      "1\n"
     ]
    }
   ],
   "source": [
    "#Binary Search Iterative \n",
    "\n",
    "l = [10,20,30,40,50]\n",
    "key = int(input(\"Enter a key\"))\n",
    "\n",
    "def BS(key,l):\n",
    "    low = 0\n",
    "    high = len(l) - 1\n",
    "    mid = 0\n",
    "    while low<=high:\n",
    "        mid = (high+low)//2\n",
    "\n",
    "        if l[mid]<key:\n",
    "            low  = mid +1\n",
    "        elif l[mid]>key:\n",
    "            high = mid -1\n",
    "        else:\n",
    "            return mid\n",
    "    return -1\n",
    "        \n",
    "print(BS(key,l))"
   ]
  },
  {
   "cell_type": "code",
   "execution_count": null,
   "id": "1b103230",
   "metadata": {},
   "outputs": [],
   "source": [
    "#Binary Search Recursive\n"
   ]
  },
  {
   "cell_type": "code",
   "execution_count": 11,
   "id": "e7ae47a0",
   "metadata": {},
   "outputs": [
    {
     "data": {
      "text/plain": [
       "[40, 49, 84, 332, 490]"
      ]
     },
     "execution_count": 11,
     "metadata": {},
     "output_type": "execute_result"
    }
   ],
   "source": [
    "#Merge Sort \n",
    "def merge_sort(list1):\n",
    "    if len(list1)<=1:\n",
    "        return list1\n",
    "    mid = len(list1)//2\n",
    "    left = list1[:mid]\n",
    "    right = list1[mid:]\n",
    "\n",
    "    sortleft  = merge_sort(left)\n",
    "    sortright = merge_sort(right)\n",
    "\n",
    "    return merge(sortleft,sortright)\n",
    "\n",
    "def merge(left,right):\n",
    "    result = []\n",
    "    i = j = 0\n",
    "    while i<len(left) and j<len(right):\n",
    "        if left[i]<right[j]:\n",
    "            result.append(left[i])\n",
    "            i+=1\n",
    "        else:\n",
    "            result.append(right[j])\n",
    "            j+=1\n",
    "    result.extend(left[i:])\n",
    "    result.extend(right[j:])\n",
    "    return result\n",
    "\n",
    "list1 = [332,84,490,49,40]\n",
    "merge_sort(list1)\n"
   ]
  },
  {
   "cell_type": "code",
   "execution_count": 18,
   "id": "9d6a3868",
   "metadata": {},
   "outputs": [
    {
     "data": {
      "text/plain": [
       "[40, 49, 84, 332, 490]"
      ]
     },
     "execution_count": 18,
     "metadata": {},
     "output_type": "execute_result"
    }
   ],
   "source": [
    "#Quick Sort \n",
    "def quick_sort(list1,low,high):\n",
    "    if low<high:\n",
    "\n",
    "        p = part(list1,low,high)\n",
    "\n",
    "        quick_sort(list1,low,p-1)\n",
    "        quick_sort(list1,p+1,high)\n",
    "\n",
    "def part(list1, low, high):\n",
    "\n",
    "    pivot = list1[high]\n",
    "    i = low - 1\n",
    "\n",
    "    for j in range(low,high):\n",
    "        if list1[j]<pivot:\n",
    "            i +=1\n",
    "            swap(list1,i,j)\n",
    "\n",
    "    swap(list1, i + 1, high)\n",
    "    return i + 1\n",
    "\n",
    "\n",
    "\n",
    "def swap(list1, i, j):\n",
    "    list1[i], list1[j] = list1[j], list1[i]\n",
    "    \n",
    "l1 = [332,84,490,49,40]\n",
    "quick_sort(l1,0,4)\n",
    "l1"
   ]
  },
  {
   "cell_type": "code",
   "execution_count": null,
   "id": "91199aa5",
   "metadata": {},
   "outputs": [],
   "source": [
    "#selection sort"
   ]
  },
  {
   "cell_type": "code",
   "execution_count": null,
   "id": "5ee91042",
   "metadata": {},
   "outputs": [],
   "source": [
    "#Bubble sort\n"
   ]
  },
  {
   "cell_type": "code",
   "execution_count": null,
   "id": "b0c04d0d",
   "metadata": {},
   "outputs": [],
   "source": [
    "#Insertion Sort"
   ]
  },
  {
   "cell_type": "code",
   "execution_count": null,
   "id": "b6f2a348",
   "metadata": {},
   "outputs": [],
   "source": []
  },
  {
   "cell_type": "code",
   "execution_count": null,
   "id": "0a23047d",
   "metadata": {},
   "outputs": [],
   "source": []
  },
  {
   "cell_type": "code",
   "execution_count": null,
   "id": "14cddbfb",
   "metadata": {},
   "outputs": [],
   "source": []
  }
 ],
 "metadata": {
  "kernelspec": {
   "display_name": "Python 3 (ipykernel)",
   "language": "python",
   "name": "python3"
  },
  "language_info": {
   "codemirror_mode": {
    "name": "ipython",
    "version": 3
   },
   "file_extension": ".py",
   "mimetype": "text/x-python",
   "name": "python",
   "nbconvert_exporter": "python",
   "pygments_lexer": "ipython3",
   "version": "3.11.4"
  }
 },
 "nbformat": 4,
 "nbformat_minor": 5
}
