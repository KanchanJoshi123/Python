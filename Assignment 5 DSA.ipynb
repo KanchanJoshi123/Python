{
 "cells": [
  {
   "cell_type": "code",
   "execution_count": 4,
   "id": "f341f600",
   "metadata": {},
   "outputs": [
    {
     "name": "stdout",
     "output_type": "stream",
     "text": [
      "Enter the number till you need the series10\n",
      "Fibonacci series up to position 10: [0, 1, 1, 2, 3, 5, 8, 13, 21, 34, 55]\n"
     ]
    }
   ],
   "source": [
    "#Question 1\n",
    "def fibonacci(n):\n",
    "    if n == 0:\n",
    "        return [0]\n",
    "    elif n == 1:\n",
    "        return [0, 1]\n",
    "    \n",
    "    fib = [0] * (n + 1)\n",
    "    fib[0] = 0\n",
    "    fib[1] = 1\n",
    "    \n",
    "    for i in range(2, n + 1):\n",
    "        fib[i] = fib[i - 1] + fib[i - 2]\n",
    "    \n",
    "    return fib\n",
    "\n",
    "n = int(input('Enter the number till you need the series'))\n",
    "fib_series = fibonacci(n)\n",
    "print(f\"Fibonacci series up to position {n}: {fib_series}\")\n"
   ]
  },
  {
   "cell_type": "code",
   "execution_count": 7,
   "id": "b2eaa566",
   "metadata": {},
   "outputs": [
    {
     "name": "stdout",
     "output_type": "stream",
     "text": [
      "Vertex\tDistance from Start Vertex\n",
      "0\t\t0\n",
      "1\t\t7\n",
      "2\t\t9\n",
      "3\t\t20\n",
      "4\t\t26\n",
      "5\t\t35\n"
     ]
    }
   ],
   "source": [
    "#Question 2 \n",
    "import heapq\n",
    "\n",
    "def dijkstra(graph, start_vertex):\n",
    "    num_vertices = len(graph)\n",
    "    distances = [float('inf')] * num_vertices\n",
    "    distances[start_vertex] = 0\n",
    "    priority_queue = [(0, start_vertex)]\n",
    "    \n",
    "    while priority_queue:\n",
    "        current_distance, current_vertex = heapq.heappop(priority_queue)\n",
    "        \n",
    "        if current_distance > distances[current_vertex]:\n",
    "            continue\n",
    "        \n",
    "        for neighbor, weight in enumerate(graph[current_vertex]):\n",
    "            if weight > 0:\n",
    "                distance = current_distance + weight\n",
    "                if distance < distances[neighbor]:\n",
    "                    distances[neighbor] = distance\n",
    "                    heapq.heappush(priority_queue, (distance, neighbor))\n",
    "    \n",
    "    return distances\n",
    "\n",
    "def print_shortest_paths(distances):\n",
    "    print(\"Vertex\\tDistance from Start Vertex\")\n",
    "    for i, distance in enumerate(distances):\n",
    "        if distance == float('inf'):\n",
    "            print(f\"{i}\\t\\tINF\")\n",
    "        else:\n",
    "            print(f\"{i}\\t\\t{distance}\")\n",
    "\n",
    "if __name__ == \"__main__\":\n",
    "    graph = [\n",
    "        [0, 7, 9, 0, 0, 0],\n",
    "        [7, 0, 10, 15, 0, 0],\n",
    "        [9, 10, 0, 11, 0, 0],\n",
    "        [0, 15, 11, 0, 6, 0],\n",
    "        [0, 0, 0, 6, 0, 9],\n",
    "        [0, 0, 0, 0, 9, 0]\n",
    "    ]\n",
    "    \n",
    "    start_vertex = 0\n",
    "    distances = dijkstra(graph, start_vertex)\n",
    "    print_shortest_paths(distances)\n"
   ]
  },
  {
   "cell_type": "code",
   "execution_count": 8,
   "id": "bb512fee",
   "metadata": {},
   "outputs": [
    {
     "name": "stdout",
     "output_type": "stream",
     "text": [
      "Maximum profit: 8\n"
     ]
    }
   ],
   "source": [
    "#Question 3\n",
    "import heapq\n",
    "\n",
    "class Item:\n",
    "    def __init__(self, weight, value):\n",
    "        self.weight = weight\n",
    "        self.value = value\n",
    "        self.ratio = value / weight if weight != 0 else 0\n",
    "\n",
    "class Node:\n",
    "    def __init__(self, level, profit, weight, bound):\n",
    "        self.level = level\n",
    "        self.profit = profit\n",
    "        self.weight = weight\n",
    "        self.bound = bound\n",
    "\n",
    "    def __lt__(self, other):\n",
    "        return self.bound > other.bound\n",
    "\n",
    "def bound(node, n, W, items):\n",
    "    if node.weight >= W:\n",
    "        return 0\n",
    "    \n",
    "    profit_bound = node.profit\n",
    "    total_weight = node.weight\n",
    "    j = node.level + 1\n",
    "    \n",
    "    while j < n and total_weight + items[j].weight <= W:\n",
    "        total_weight += items[j].weight\n",
    "        profit_bound += items[j].value\n",
    "        j += 1\n",
    "    \n",
    "    if j < n:\n",
    "        profit_bound += (W - total_weight) * items[j].ratio\n",
    "    \n",
    "    return profit_bound\n",
    "\n",
    "def knapsack_branch_and_bound(W, items):\n",
    "    n = len(items)\n",
    "    items.sort(key=lambda x: x.ratio, reverse=True)\n",
    "    \n",
    "    q = []\n",
    "    v = Node(-1, 0, 0, 0)\n",
    "    v.bound = bound(v, n, W, items)\n",
    "    heapq.heappush(q, v)\n",
    "    \n",
    "    max_profit = 0\n",
    "    \n",
    "    while q:\n",
    "        v = heapq.heappop(q)\n",
    "        \n",
    "        if v.bound > max_profit:\n",
    "            u = Node(v.level + 1, v.profit + items[v.level + 1].value, v.weight + items[v.level + 1].weight, 0)\n",
    "            if u.weight <= W:\n",
    "                if u.profit > max_profit:\n",
    "                    max_profit = u.profit\n",
    "                u.bound = bound(u, n, W, items)\n",
    "                if u.bound > max_profit:\n",
    "                    heapq.heappush(q, u)\n",
    "            \n",
    "            u = Node(v.level + 1, v.profit, v.weight, 0)\n",
    "            u.bound = bound(u, n, W, items)\n",
    "            if u.bound > max_profit:\n",
    "                heapq.heappush(q, u)\n",
    "    \n",
    "    return max_profit\n",
    "\n",
    "if __name__ == \"__main__\":\n",
    "    items = [Item(2, 3), Item(3, 4), Item(4, 5), Item(5, 8)]\n",
    "    W = 5\n",
    "    result = knapsack_branch_and_bound(W, items)\n",
    "    print(f\"Maximum profit: {result}\")\n"
   ]
  },
  {
   "cell_type": "code",
   "execution_count": null,
   "id": "d4d08e27",
   "metadata": {},
   "outputs": [],
   "source": []
  }
 ],
 "metadata": {
  "kernelspec": {
   "display_name": "Python 3 (ipykernel)",
   "language": "python",
   "name": "python3"
  },
  "language_info": {
   "codemirror_mode": {
    "name": "ipython",
    "version": 3
   },
   "file_extension": ".py",
   "mimetype": "text/x-python",
   "name": "python",
   "nbconvert_exporter": "python",
   "pygments_lexer": "ipython3",
   "version": "3.11.4"
  }
 },
 "nbformat": 4,
 "nbformat_minor": 5
}
