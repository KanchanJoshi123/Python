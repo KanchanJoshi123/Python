{
 "cells": [
  {
   "cell_type": "code",
   "execution_count": 2,
   "id": "b884ec54",
   "metadata": {},
   "outputs": [],
   "source": [
    "import numpy as np"
   ]
  },
  {
   "cell_type": "code",
   "execution_count": 4,
   "id": "aad22d59",
   "metadata": {},
   "outputs": [
    {
     "name": "stdout",
     "output_type": "stream",
     "text": [
      "<class 'numpy.ndarray'>\n"
     ]
    }
   ],
   "source": [
    "arr = np.array([1,2,3,4,5])\n",
    "print(type(arr))\n",
    "print(arr)\n",
    "print(arr.ndim)"
   ]
  },
  {
   "cell_type": "code",
   "execution_count": 5,
   "id": "8484224e",
   "metadata": {},
   "outputs": [
    {
     "name": "stdout",
     "output_type": "stream",
     "text": [
      "12\n"
     ]
    }
   ],
   "source": [
    "\"0-D Array\"\n",
    "arr = np.array(12)\n",
    "print(arr)"
   ]
  },
  {
   "cell_type": "code",
   "execution_count": 11,
   "id": "946f9344",
   "metadata": {},
   "outputs": [
    {
     "name": "stdout",
     "output_type": "stream",
     "text": [
      "[1 2 3 4 5]\n",
      "1\n"
     ]
    }
   ],
   "source": [
    "\"1-D Array\"\n",
    "arr = np.array([1,2,3,4,5])\n",
    "print(arr)\n",
    "print(arr.ndim)"
   ]
  },
  {
   "cell_type": "code",
   "execution_count": 34,
   "id": "03233dac",
   "metadata": {},
   "outputs": [
    {
     "name": "stdout",
     "output_type": "stream",
     "text": [
      "[[1 2 3]\n",
      " [4 5 6]]\n",
      "2\n",
      "3\n",
      "[[2 3]\n",
      " [5 6]]\n"
     ]
    },
    {
     "data": {
      "text/plain": [
       "6"
      ]
     },
     "execution_count": 34,
     "metadata": {},
     "output_type": "execute_result"
    }
   ],
   "source": [
    "arr = np.array([[1,2,3],[4,5,6]])\n",
    "print(arr)\n",
    "print(arr.ndim)\n",
    "print(arr[0][2])\n",
    "print(arr[0:2,1:3])\n",
    "arr[1,-1]"
   ]
  },
  {
   "cell_type": "code",
   "execution_count": 32,
   "id": "65243e69",
   "metadata": {},
   "outputs": [
    {
     "name": "stdout",
     "output_type": "stream",
     "text": [
      "[[[ 1  2  3]\n",
      "  [ 4  5  6]]\n",
      "\n",
      " [[ 6  7  8]\n",
      "  [ 9 10 11]]]\n",
      "3\n",
      "(2, 2, 3)\n",
      "11\n"
     ]
    }
   ],
   "source": [
    "arr = np.array([[[1,2,3],[4,5,6]],[[6,7,8],[9,10,11]]])\n",
    "print(arr)\n",
    "print(arr.ndim)\n",
    "print(arr.shape)\n",
    "print(arr[1,1,2])"
   ]
  },
  {
   "cell_type": "code",
   "execution_count": 14,
   "id": "e248f220",
   "metadata": {},
   "outputs": [
    {
     "name": "stdout",
     "output_type": "stream",
     "text": [
      "[[[[[1 2 3 4]]]]]\n",
      "5\n"
     ]
    }
   ],
   "source": [
    "arr = np.array([1,2,3,4], ndmin = 5)\n",
    "print(arr)\n",
    "print(arr.ndim)"
   ]
  },
  {
   "cell_type": "code",
   "execution_count": 36,
   "id": "c3ca16bc",
   "metadata": {},
   "outputs": [
    {
     "name": "stdout",
     "output_type": "stream",
     "text": [
      "[2 3 4 5]\n",
      "1\n",
      "[3 4 5 6 7]\n",
      "[1 2 3 4]\n",
      "[5 6]\n",
      "[2 4]\n",
      "int32\n"
     ]
    }
   ],
   "source": [
    "arr = np.array([1,2,3,4,5,6,7])\n",
    "print(arr[1:5])\n",
    "print(arr[0])\n",
    "print(arr[2:])\n",
    "print(arr[:4])\n",
    "print(arr[-3:-1])\n",
    "print(arr[1:5:2])\n",
    "print(arr.dtype)"
   ]
  },
  {
   "cell_type": "code",
   "execution_count": 31,
   "id": "025100e3",
   "metadata": {},
   "outputs": [
    {
     "name": "stdout",
     "output_type": "stream",
     "text": [
      "[[0. 0. 0.]\n",
      " [0. 0. 0.]]\n",
      "<class 'numpy.ndarray'>\n"
     ]
    }
   ],
   "source": [
    "a = np.zeros([2,3])\n",
    "print(a)\n",
    "print(type(a))"
   ]
  },
  {
   "cell_type": "code",
   "execution_count": 37,
   "id": "3bbc2fe1",
   "metadata": {},
   "outputs": [
    {
     "name": "stdout",
     "output_type": "stream",
     "text": [
      "[1 2 3 4 5 6 7]\n",
      "[1 2 3 4 5 6 7]\n",
      "[42  2  3  4  5  6  7]\n",
      "[1 2 3 4 5 6 7]\n"
     ]
    }
   ],
   "source": [
    "x = arr.copy()\n",
    "print(arr)\n",
    "print(x)\n",
    "arr[0] = 42\n",
    "print(arr)\n",
    "print(x)"
   ]
  },
  {
   "cell_type": "code",
   "execution_count": 38,
   "id": "fcd53522",
   "metadata": {},
   "outputs": [
    {
     "name": "stdout",
     "output_type": "stream",
     "text": [
      "[42  2  3  4  5  6  7]\n",
      "[42  2  3  4  5  6  7]\n",
      "[100   2   3   4   5   6   7]\n",
      "[100   2   3   4   5   6   7]\n"
     ]
    }
   ],
   "source": [
    "x = arr.view()\n",
    "print(arr)\n",
    "print(x)\n",
    "arr[0] = 100\n",
    "print(arr)\n",
    "print(x)"
   ]
  },
  {
   "cell_type": "code",
   "execution_count": 40,
   "id": "56218f02",
   "metadata": {},
   "outputs": [
    {
     "data": {
      "text/plain": [
       "array([[1, 2, 3],\n",
       "       [4, 5, 6],\n",
       "       [7, 8, 9]])"
      ]
     },
     "execution_count": 40,
     "metadata": {},
     "output_type": "execute_result"
    }
   ],
   "source": [
    "arr = np.array([1,2,3,4,5,6,7,8,9])\n",
    "arr2 = arr.reshape(3,3)\n",
    "arr2"
   ]
  },
  {
   "cell_type": "code",
   "execution_count": 41,
   "id": "0e41a704",
   "metadata": {},
   "outputs": [
    {
     "name": "stdout",
     "output_type": "stream",
     "text": [
      "1\n",
      "2\n",
      "3\n",
      "4\n",
      "5\n",
      "6\n",
      "7\n",
      "8\n",
      "9\n"
     ]
    }
   ],
   "source": [
    "for i in arr:\n",
    "    print(i)"
   ]
  },
  {
   "cell_type": "code",
   "execution_count": 42,
   "id": "f0c0dd81",
   "metadata": {},
   "outputs": [
    {
     "name": "stdout",
     "output_type": "stream",
     "text": [
      "[1 2 3]\n",
      "[4 5 6]\n",
      "[7 8 9]\n"
     ]
    }
   ],
   "source": [
    "for i in arr2:\n",
    "    print(i)"
   ]
  },
  {
   "cell_type": "code",
   "execution_count": 44,
   "id": "f5c2bb2d",
   "metadata": {},
   "outputs": [
    {
     "name": "stdout",
     "output_type": "stream",
     "text": [
      "1\n",
      "2\n",
      "3\n",
      "4\n",
      "5\n",
      "6\n",
      "7\n",
      "8\n",
      "9\n"
     ]
    }
   ],
   "source": [
    "for x in arr2:\n",
    "    for y in x:\n",
    "        print(y)"
   ]
  },
  {
   "cell_type": "code",
   "execution_count": 48,
   "id": "db10e5cf",
   "metadata": {},
   "outputs": [
    {
     "name": "stdout",
     "output_type": "stream",
     "text": [
      "[1 2 3 4 5 6]\n",
      "[[1 2 4 5]\n",
      " [3 4 6 7]]\n"
     ]
    }
   ],
   "source": [
    "a1 = np.array([1,2,3])\n",
    "a2 = np.array([4,5,6])\n",
    "af = np.concatenate((a1,a2))\n",
    "print(af)\n",
    "a1 = np.array([[1,2],[3,4]])\n",
    "a2 = np.array([[4,5],[6,7]])\n",
    "af = np.concatenate((a1,a2),axis = 1)\n",
    "print(af)\n"
   ]
  },
  {
   "cell_type": "code",
   "execution_count": 52,
   "id": "178a7eea",
   "metadata": {},
   "outputs": [
    {
     "name": "stdout",
     "output_type": "stream",
     "text": [
      "[1 2 3] [4 5 6] [7 8 9]\n"
     ]
    }
   ],
   "source": [
    "arr3 = np.array_split(arr,3)\n",
    "print(arr3[0],arr3[1],arr3[2])\n"
   ]
  },
  {
   "cell_type": "code",
   "execution_count": 53,
   "id": "c3bf1586",
   "metadata": {},
   "outputs": [
    {
     "name": "stdout",
     "output_type": "stream",
     "text": [
      "[array([[ 1],\n",
      "       [ 4],\n",
      "       [ 7],\n",
      "       [10],\n",
      "       [13],\n",
      "       [16]]), array([[ 2],\n",
      "       [ 5],\n",
      "       [ 8],\n",
      "       [11],\n",
      "       [14],\n",
      "       [17]]), array([[ 3],\n",
      "       [ 6],\n",
      "       [ 9],\n",
      "       [12],\n",
      "       [15],\n",
      "       [18]])]\n"
     ]
    }
   ],
   "source": [
    "\n",
    "arr = np.array([[1, 2, 3], [4, 5, 6], [7, 8, 9], [10, 11, 12], [13, 14, 15], [16, 17, 18]])\n",
    "\n",
    "newarr = np.array_split(arr, 3, axis=1)\n",
    "\n",
    "print(newarr)"
   ]
  },
  {
   "cell_type": "code",
   "execution_count": 69,
   "id": "68e3813d",
   "metadata": {},
   "outputs": [
    {
     "name": "stdout",
     "output_type": "stream",
     "text": [
      "(array([3, 5, 7], dtype=int64),)\n",
      "(array([1, 3, 5, 6, 7], dtype=int64),)\n",
      "2\n",
      "6\n"
     ]
    }
   ],
   "source": [
    "arr = np.array([1,2,3,4,5,4,6,4])\n",
    "x = np.where(arr == 4) #Gives Position of the search element\n",
    "y = np.where(arr%2 == 0)\n",
    "arr = np.array([1,2,3,4,5,6,17,18])\n",
    "z = np.searchsorted(arr,3)\n",
    "#Gives where 7 can be inserted in the array\n",
    "b = np.searchsorted(arr,7,side ='right')\n",
    "print(x)\n",
    "print(y)\n",
    "print(z)\n",
    "print(b)"
   ]
  },
  {
   "cell_type": "code",
   "execution_count": 67,
   "id": "2d97d3df",
   "metadata": {},
   "outputs": [
    {
     "data": {
      "text/plain": [
       "array([1, 2, 3], dtype=int64)"
      ]
     },
     "execution_count": 67,
     "metadata": {},
     "output_type": "execute_result"
    }
   ],
   "source": [
    "arr = np.array([1, 3, 5, 7])\n",
    "#Gives the position where to insert the given elements in the \n",
    "#already existing array\n",
    "x = np.searchsorted(arr, [2, 4, 6])\n",
    "x"
   ]
  },
  {
   "cell_type": "code",
   "execution_count": 76,
   "id": "27817eed",
   "metadata": {},
   "outputs": [
    {
     "name": "stdout",
     "output_type": "stream",
     "text": [
      "[1 2 3 4 4 4 5 6]\n",
      "8\n",
      "  C_CONTIGUOUS : True\n",
      "  F_CONTIGUOUS : True\n",
      "  OWNDATA : True\n",
      "  WRITEABLE : True\n",
      "  ALIGNED : True\n",
      "  WRITEBACKIFCOPY : False\n",
      "\n",
      "32\n",
      "4\n",
      "32\n"
     ]
    }
   ],
   "source": [
    "arr = np.array([1,2,3,4,5,4,6,4])\n",
    "print(np.sort(arr))\n",
    "print(arr.size)\n",
    "print(arr.flags)\n",
    "print(arr.nbytes)\n",
    "print(arr.itemsize)\n",
    "print(arr.nbytes)"
   ]
  },
  {
   "cell_type": "code",
   "execution_count": 83,
   "id": "8561019b",
   "metadata": {},
   "outputs": [
    {
     "name": "stdout",
     "output_type": "stream",
     "text": [
      "(array([4, 2, 2, 1, 1, 1, 1, 1, 1, 2], dtype=int64), array([ 1. ,  2.1,  3.2,  4.3,  5.4,  6.5,  7.6,  8.7,  9.8, 10.9, 12. ]))\n",
      "(array([0, 2, 2, 2, 2, 1, 1, 1, 1, 1, 1, 2], dtype=int64), array([ 0,  1,  2,  3,  4,  5,  6,  7,  8,  9, 10, 11, 12]))\n"
     ]
    }
   ],
   "source": [
    "arr3d = np.array([[[1,2,3,4], [5,6,7,8]], [[1,2,3,4], [9,10,11,12]]], dtype=np.int64)\n",
    "print(np.histogram(arr3d))\n",
    "print(np.histogram(arr3d,bins = range(0,13)))"
   ]
  },
  {
   "cell_type": "code",
   "execution_count": 82,
   "id": "cfe95341",
   "metadata": {},
   "outputs": [],
   "source": [
    "import matplotlib.pyplot as plt\n"
   ]
  },
  {
   "cell_type": "code",
   "execution_count": 85,
   "id": "6716238d",
   "metadata": {},
   "outputs": [
    {
     "data": {
      "image/png": "[encoded data removed]",
      "text/plain": [
       "<Figure size 640x480 with 1 Axes>"
      ]
     },
     "metadata": {},
     "output_type": "display_data"
    }
   ],
   "source": [
    "plt.hist(arr3d.ravel(),bins = range(0,13))\n",
    "plt.title('3D Array Elements')\n",
    "plt.show()"
   ]
  },
  {
   "cell_type": "code",
   "execution_count": 91,
   "id": "008f1854",
   "metadata": {},
   "outputs": [
    {
     "data": {
      "image/png": "[encoded data removed]",
      "text/plain": [
       "<Figure size 640x480 with 2 Axes>"
      ]
     },
     "metadata": {},
     "output_type": "display_data"
    }
   ],
   "source": [
    "#Printing the distance between two points\n",
    "pts = np.arange(-5, 5, 0.01)\n",
    "xs, ys = np.meshgrid(pts, pts)\n",
    "z = np.sqrt(xs ** 2 + ys ** 2)\n",
    "plt.imshow(z, cmap=plt.cm.gray)\n",
    "plt.colorbar()\n",
    "plt.show()"
   ]
  },
  {
   "cell_type": "code",
   "execution_count": 92,
   "id": "5b4dd549",
   "metadata": {},
   "outputs": [],
   "source": [
    "import pandas as pd"
   ]
  },
  {
   "cell_type": "code",
   "execution_count": 104,
   "id": "b7817382",
   "metadata": {},
   "outputs": [
    {
     "name": "stdout",
     "output_type": "stream",
     "text": [
      "Student Records\n",
      "           student  rank  marks\n",
      "student1  Kanchan     1     98\n",
      "student2    Krupa     2     96\n",
      "student3    Joshi     3    100\n",
      "\n",
      " Displaying the columns:\n",
      "student\n",
      "rank\n",
      "marks\n",
      "\n",
      "Value =  Kanchan\n",
      "\n",
      "Value = \n",
      "          student  rank  marks\n",
      "student2   Krupa     2     96\n",
      "student3   Joshi     3    100\n",
      "\n",
      " Kanchan\n",
      "\n",
      "          student  rank  marks\n",
      "student2   Krupa     2     96\n",
      "student3   Joshi     3    100\n",
      "\n",
      " student    object\n",
      "rank        int64\n",
      "marks       int64\n",
      "dtype: object\n",
      "\n",
      "           student  rank  marks\n",
      "student1  Kanchan     1     98\n",
      "student2    Krupa     2     96\n",
      "student3    Joshi     3    100\n",
      "\n",
      "           student  rank  marks\n",
      "student1  Kanchan     1     98\n",
      "student2    Krupa     2     96\n",
      "\n",
      "           student  rank  marks\n",
      "student1  Kanchan     1     98\n",
      "student2    Krupa     2     96\n",
      "student3    Joshi     3    100\n",
      "\n",
      "         student1 student2 student3\n",
      "student  Kanchan    Krupa    Joshi\n",
      "rank           1        2        3\n",
      "marks         98       96      100\n"
     ]
    }
   ],
   "source": [
    "#dictionary of lists\n",
    "data = {\n",
    "    'student':[\"Kanchan\",\"Krupa\",\"Joshi\"],\n",
    "    'rank':[1,2,3],\n",
    "    'marks':[98,96,100]\n",
    "}\n",
    "#df = pd.DataFrame(data)\n",
    "df = pd.DataFrame(data, index=['student1','student2','student3'])\n",
    "print(\"Student Records\\n\",df)\n",
    "print(\"\\n Displaying the columns:\")\n",
    "for col in df:\n",
    "    print(col)\n",
    "print(\"\\nValue = \",df.loc['student1', 'student'])\n",
    "\n",
    "# Access using rows and columns by integer positions\n",
    "print(\"\\nValue = \\n\",df.iloc[[1,2]])\n",
    "\n",
    "print(\"\\n\",df.loc['student1','student'])\n",
    "print(\"\\n\",df.iloc[[1,2]])\n",
    "\n",
    "print(\"\\n\",df.dtypes)\n",
    "print(\"\\n\",df.head())\n",
    "print(\"\\n\",df.head(2))\n",
    "print(\"\\n\",df.tail())\n",
    "print(\"\\n\",df.T)#Transpose"
   ]
  },
  {
   "cell_type": "code",
   "execution_count": 95,
   "id": "ac348649",
   "metadata": {},
   "outputs": [
    {
     "name": "stdout",
     "output_type": "stream",
     "text": [
      "  student  rank  marks\n",
      "0    Amit     1     95\n",
      "1    John     4     70\n",
      "2   Jacob     3     80\n",
      "3   David     5     60\n",
      "4   Steve     2     90\n"
     ]
    }
   ],
   "source": [
    "# Creating dataset using a list of dictionaries\n",
    "data = [\n",
    "    {'student': 'Amit', 'rank': 1, 'marks': 95},\n",
    "    {'student': 'John', 'rank': 4, 'marks': 70},\n",
    "    {'student': 'Jacob', 'rank': 3, 'marks': 80},\n",
    "    {'student': 'David', 'rank': 5, 'marks': 60},\n",
    "    {'student': 'Steve', 'rank': 2, 'marks': 90}\n",
    "]\n",
    "\n",
    "df = pd.DataFrame(data)\n",
    "print(df)\n",
    "\n",
    "\n"
   ]
  },
  {
   "cell_type": "code",
   "execution_count": 112,
   "id": "351e656f",
   "metadata": {},
   "outputs": [
    {
     "name": "stdout",
     "output_type": "stream",
     "text": [
      "DataFrame1 =\n",
      "     id  student  roll\n",
      "0  S01  kanchan    11\n",
      "1  S02  Jyotsna    12\n",
      "2  S03    Johny    13\n",
      "3  S04   Anakha    14\n",
      "4  S05  Sunehra    15\n",
      "\n",
      "DataFrame2 =\n",
      "    rank  marks\n",
      "0     1     95\n",
      "1     4     70\n",
      "2     3     80\n",
      "3     5     60\n",
      "4     2     90\n",
      "    id  student  roll  rank  marks\n",
      "0  S01  kanchan    11     1     95\n",
      "1  S02  Jyotsna    12     4     70\n",
      "2  S03    Johny    13     3     80\n",
      "3  S04   Anakha    14     5     60\n",
      "4  S05  Sunehra    15     2     90\n",
      "\n",
      "     id  student  roll  rank  marks\n",
      "0  S01  kanchan  11.0   NaN    NaN\n",
      "1  S02  Jyotsna  12.0   NaN    NaN\n",
      "2  S03    Johny  13.0   NaN    NaN\n",
      "3  S04   Anakha  14.0   NaN    NaN\n",
      "4  S05  Sunehra  15.0   NaN    NaN\n",
      "0  NaN      NaN   NaN   1.0   95.0\n",
      "1  NaN      NaN   NaN   4.0   70.0\n",
      "2  NaN      NaN   NaN   3.0   80.0\n",
      "3  NaN      NaN   NaN   5.0   60.0\n",
      "4  NaN      NaN   NaN   2.0   90.0\n"
     ]
    }
   ],
   "source": [
    "data1 = {\n",
    "  'id': [\"S01\", \"S02\", \"S03\", \"S04\", \"S05\"],\n",
    "  'student': [\"kanchan\", \"Jyotsna\", \"Johny\", \"Anakha\", \"Sunehra\"],\n",
    "  'roll': [11, 12, 13, 14, 15]\n",
    "}\n",
    "data2 = {\n",
    "  'rank': [1, 4, 3, 5, 2],\n",
    "  'marks': [95, 70, 80, 60, 90]\n",
    "}\n",
    " \n",
    "df1 = pd.DataFrame(data1)\n",
    "print(\"DataFrame1 =\\n\",dataFrame1)\n",
    "df2 = pd.DataFrame(data2)\n",
    "print(\"\\nDataFrame2 =\\n\",dataFrame2)\n",
    "\n",
    "joinn = df1.join(df2)\n",
    "print(joinn)\n",
    "\n",
    "concat = pd.concat([df1,df2])\n",
    "print(\"\\n\",concat)"
   ]
  },
  {
   "cell_type": "code",
   "execution_count": 117,
   "id": "60eb8445",
   "metadata": {},
   "outputs": [
    {
     "name": "stdout",
     "output_type": "stream",
     "text": [
      "0    10\n",
      "1    20\n",
      "2    30\n",
      "3    40\n",
      "4    50\n",
      "dtype: int64\n",
      "30\n",
      "40\n"
     ]
    }
   ],
   "source": [
    "data = [10,20,30,40,50]\n",
    "s = pd.Series(data)\n",
    "print(s)\n",
    "print(s[2])\n",
    "s = pd.Series(data, index = [\"A\", \"B\", \"C\", \"D\", \"E\"])\n",
    "print(s[\"D\"])"
   ]
  },
  {
   "cell_type": "code",
   "execution_count": 118,
   "id": "23ff75b1",
   "metadata": {},
   "outputs": [
    {
     "name": "stdout",
     "output_type": "stream",
     "text": [
      "\n",
      "Series Datatype:  int64\n",
      "\n",
      "Series Dimensions:  1\n",
      "\n",
      "Series Size:  5\n",
      "\n",
      "Series Name:  MyNumberSeries\n"
     ]
    }
   ],
   "source": [
    "# Datatype\n",
    "print(\"\\nSeries Datatype: \", s.dtype)\n",
    "\n",
    "# Dimensions\n",
    "print(\"\\nSeries Dimensions: \", s.ndim)\n",
    "\n",
    "# Return the number of elements in the Series\n",
    "print(\"\\nSeries Size: \", s.size)\n",
    "\n",
    "# Create a Series using the Series() method\n",
    "# We have set the Series name using the name attribute\n",
    "s = pd.Series(data, name =\"MyNumberSeries\")\n",
    " \n",
    "# Return the name of the Series\n",
    "print(\"\\nSeries Name: \", s.name)\n"
   ]
  },
  {
   "cell_type": "code",
   "execution_count": null,
   "id": "62c34640",
   "metadata": {},
   "outputs": [],
   "source": []
  },
  {
   "cell_type": "code",
   "execution_count": null,
   "id": "5c144dbe",
   "metadata": {},
   "outputs": [],
   "source": []
  },
  {
   "cell_type": "code",
   "execution_count": null,
   "id": "58406b35",
   "metadata": {},
   "outputs": [],
   "source": []
  },
  {
   "cell_type": "code",
   "execution_count": null,
   "id": "04dae31a",
   "metadata": {},
   "outputs": [],
   "source": []
  },
  {
   "cell_type": "code",
   "execution_count": null,
   "id": "231dc635",
   "metadata": {},
   "outputs": [],
   "source": []
  },
  {
   "cell_type": "code",
   "execution_count": null,
   "id": "ba92796e",
   "metadata": {},
   "outputs": [],
   "source": []
  }
 ],
 "metadata": {
  "kernelspec": {
   "display_name": "Python 3 (ipykernel)",
   "language": "python",
   "name": "python3"
  },
  "language_info": {
   "codemirror_mode": {
    "name": "ipython",
    "version": 3
   },
   "file_extension": ".py",
   "mimetype": "text/x-python",
   "name": "python",
   "nbconvert_exporter": "python",
   "pygments_lexer": "ipython3",
   "version": "3.11.4"
  }
 },
 "nbformat": 4,
 "nbformat_minor": 5
}
