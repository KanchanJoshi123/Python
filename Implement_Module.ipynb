{
 "cells": [
  {
   "cell_type": "code",
   "execution_count": 2,
   "id": "18d6d595",
   "metadata": {},
   "outputs": [],
   "source": [
    "import Module"
   ]
  },
  {
   "cell_type": "code",
   "execution_count": 3,
   "id": "f2ff9c2a",
   "metadata": {},
   "outputs": [
    {
     "name": "stdout",
     "output_type": "stream",
     "text": [
      "Select Option\n",
      "1.Add\n",
      "2.Subtract\n",
      "3.Multiply\n",
      "4.Divide\n"
     ]
    }
   ],
   "source": [
    "print(\"Select Option\")\n",
    "print(\"1.Add\")\n",
    "print(\"2.Subtract\")\n",
    "print(\"3.Multiply\")\n",
    "print(\"4.Divide\")"
   ]
  },
  {
   "cell_type": "code",
   "execution_count": 6,
   "id": "ed9f7598",
   "metadata": {},
   "outputs": [
    {
     "name": "stdout",
     "output_type": "stream",
     "text": [
      "Enter choice1\n",
      "Enter first number: 2\n",
      "Enter second number: 3\n",
      "Addition: 5.0\n",
      "Again?:(Y/N)N\n"
     ]
    }
   ],
   "source": [
    "while True:\n",
    "    choice = input(\"Enter choice\")\n",
    "    if choice in ('1','2','3','4'):\n",
    "        #Exception Handling\n",
    "        try:\n",
    "            num1 = float(input(\"Enter first number: \"))\n",
    "            num2 = float(input(\"Enter second number: \"))\n",
    "        except ValueError:\n",
    "            print(\"Invalid. Please enter again\")\n",
    "            continue\n",
    "        if choice == '1':\n",
    "            print(\"Addition:\",Module.add(num1,num2))\n",
    "        elif choice == '2':\n",
    "            print(\"Substract:\", Module.subtract(num1,num2))\n",
    "        elif choice == '3':\n",
    "            print(\"Multiply:\", Module.multiply(num1,num2))\n",
    "        elif choice =='4':\n",
    "            print(\"Divide:\", Module.divide(num1,num2))\n",
    "            \n",
    "        cal_again = input(\"Again?:(Y/N)\")\n",
    "        if(cal_again == 'N'):\n",
    "            break\n",
    "    else:\n",
    "        print(\"Invalid Input\")"
   ]
  },
  {
   "cell_type": "code",
   "execution_count": null,
   "id": "e8d9134d",
   "metadata": {},
   "outputs": [],
   "source": []
  },
  {
   "cell_type": "code",
   "execution_count": null,
   "id": "d6955e35",
   "metadata": {},
   "outputs": [],
   "source": []
  },
  {
   "cell_type": "code",
   "execution_count": null,
   "id": "cface2f2",
   "metadata": {},
   "outputs": [],
   "source": []
  },
  {
   "cell_type": "code",
   "execution_count": null,
   "id": "77776d10",
   "metadata": {},
   "outputs": [],
   "source": []
  }
 ],
 "metadata": {
  "kernelspec": {
   "display_name": "Python 3 (ipykernel)",
   "language": "python",
   "name": "python3"
  },
  "language_info": {
   "codemirror_mode": {
    "name": "ipython",
    "version": 3
   },
   "file_extension": ".py",
   "mimetype": "text/x-python",
   "name": "python",
   "nbconvert_exporter": "python",
   "pygments_lexer": "ipython3",
   "version": "3.11.4"
  }
 },
 "nbformat": 4,
 "nbformat_minor": 5
}
