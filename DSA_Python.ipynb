{
 "cells": [
  {
   "cell_type": "code",
   "execution_count": 9,
   "id": "46799910",
   "metadata": {},
   "outputs": [
    {
     "name": "stdout",
     "output_type": "stream",
     "text": [
      "Enter a number60\n",
      "Enter a number48\n",
      "12\n"
     ]
    }
   ],
   "source": [
    "#gcd\n",
    "def gcd1():\n",
    "    a = int(input(\"Enter a number\"))\n",
    "    b = int(input(\"Enter a number\"))\n",
    "    if(a<b):\n",
    "        min = a\n",
    "    else:\n",
    "        min = b\n",
    "    gcd = 0\n",
    "    for i in range(1, min+1):\n",
    "        if((a%i == 0) and (b%i == 0)):\n",
    "            gcd = i\n",
    "    return gcd\n",
    "print(gcd1())"
   ]
  },
  {
   "cell_type": "code",
   "execution_count": 11,
   "id": "df72cac0",
   "metadata": {},
   "outputs": [
    {
     "name": "stdout",
     "output_type": "stream",
     "text": [
      "Enter a number10\n",
      "[2, 4, 6, 8]\n",
      "[1, 3, 5, 7, 9]\n"
     ]
    }
   ],
   "source": [
    "#generate even and odd numbers\n",
    "def even_odd():\n",
    "    even = []\n",
    "    odd = []\n",
    "    n = int(input(\"Enter a number\"))\n",
    "    for i in range(1,n):\n",
    "        if i%2==0:\n",
    "            even.append(i)\n",
    "        else:\n",
    "            odd.append(i)\n",
    "    print(even)\n",
    "    print(odd)\n",
    "\n",
    "even_odd()\n",
    "            "
   ]
  },
  {
   "cell_type": "code",
   "execution_count": 21,
   "id": "a507ce3c",
   "metadata": {},
   "outputs": [
    {
     "name": "stdout",
     "output_type": "stream",
     "text": [
      "Enter a number10\n",
      "2 is prime\n",
      "3 is prime\n",
      "4 is not prime\n",
      "5 is prime\n",
      "6 is not prime\n",
      "7 is prime\n",
      "8 is not prime\n",
      "9 is not prime\n",
      "10 is not prime\n"
     ]
    }
   ],
   "source": [
    "#generate prime numbers\n",
    "def prime():\n",
    "    n = int(input(\"Enter a number\"))\n",
    "    c = 0\n",
    "    for i in range(1,n+1):\n",
    "        c = 0\n",
    "        for j in range(1,i+1):\n",
    "            if i%j == 0:\n",
    "                c+=1\n",
    "            if c>2:\n",
    "                print(i, 'is not prime')\n",
    "                break\n",
    "        if c ==2:\n",
    "            print(i, 'is prime')\n",
    "\n",
    "prime()\n",
    "\n",
    "                "
   ]
  },
  {
   "cell_type": "code",
   "execution_count": 28,
   "id": "6351b79e",
   "metadata": {},
   "outputs": [
    {
     "name": "stdout",
     "output_type": "stream",
     "text": [
      "48\n"
     ]
    }
   ],
   "source": [
    "#Find the greatest in array\n",
    "import array as arr\n",
    "def array_large():\n",
    "    a = arr.array('i',[39,48,18,10])\n",
    "    for i in range(0,len(a)-1):\n",
    "        if(a[i]<a[i+1]):\n",
    "            max = a[i+1]\n",
    "    return max\n",
    "print(array_large())\n",
    "        \n",
    "    "
   ]
  },
  {
   "cell_type": "code",
   "execution_count": 29,
   "id": "da5d21cf",
   "metadata": {},
   "outputs": [
    {
     "name": "stdout",
     "output_type": "stream",
     "text": [
      "115\n"
     ]
    }
   ],
   "source": [
    "#Sum of all elements in an array\n",
    "import array as arr\n",
    "def array_sum():\n",
    "    a = arr.array('i',[39,48,18,10])\n",
    "    sum = 0\n",
    "    for i in range(0,len(a)):\n",
    "        sum = sum +a[i]\n",
    "    return sum\n",
    "print(array_sum())\n",
    "        "
   ]
  },
  {
   "cell_type": "code",
   "execution_count": 33,
   "id": "8316ba7a",
   "metadata": {},
   "outputs": [
    {
     "name": "stdout",
     "output_type": "stream",
     "text": [
      "4\n"
     ]
    }
   ],
   "source": [
    "#lambda function to an array\n",
    "import array as arr\n",
    "a = arr.array('i',[39,48,18,10])\n",
    "length = lambda A: len(A)\n",
    "print(length(a))"
   ]
  },
  {
   "cell_type": "code",
   "execution_count": 49,
   "id": "22b4585a",
   "metadata": {},
   "outputs": [
    {
     "name": "stdout",
     "output_type": "stream",
     "text": [
      "Union []\n"
     ]
    }
   ],
   "source": [
    "#Union And Intersection of 2 arrays\n",
    "a = arr.array('i',[39,48,18,10])\n",
    "b = arr.array('i',[39,48,100,190])\n",
    "c = []\n",
    "j =0\n",
    "def union():\n",
    "#     for i in range(0,len(a)):\n",
    "#         if a[i] in b and a[i] not in c:\n",
    "#             c[j] = a[i]\n",
    "#             j+=1\n",
    "#         elif b[i] in a and b[i] not in c:\n",
    "#             c[j] = b[i]\n",
    "#             j+=1\n",
    "    set1 = set(a)\n",
    "    set2 = set(b)\n",
    "    c = list(a.union(b))\n",
    "    return c\n",
    "print(\"Union\",c)\n",
    "            \n",
    "    "
   ]
  },
  {
   "cell_type": "code",
   "execution_count": 61,
   "id": "43bca720",
   "metadata": {},
   "outputs": [
    {
     "name": "stdout",
     "output_type": "stream",
     "text": [
      "[9, 10, 22, 39]\n"
     ]
    }
   ],
   "source": [
    "#Quick Sort (Problem with this program rectify later)\n",
    "def quick_sort(a,low,high):\n",
    "    \n",
    "    if low<high:\n",
    "        p = part(a,low,high)\n",
    "        quick_sort(a,low,p-1)\n",
    "        quick_sort(a,p+1,high)\n",
    "\n",
    "def part(a,low,high):\n",
    "    n = low-1\n",
    "    pivot = a[high]\n",
    "    for i in range(low, high):\n",
    "        if a[i]<pivot:\n",
    "            n += 1\n",
    "            temp = a[n]\n",
    "            a[n] = a[j]\n",
    "            a[n] = temp\n",
    "            \n",
    "    temp = a[n+1]\n",
    "    a[n+1] = a[high]\n",
    "    a[high] = temp\n",
    "    return n+1\n",
    "    \n",
    "            \n",
    "# Driver code\n",
    "if __name__ == \"__main__\":\n",
    "    a = [10,39,22,9]\n",
    "    quick_sort(a, 0, len(a) - 1)\n",
    "\n",
    "    print(a)\n",
    "    "
   ]
  },
  {
   "cell_type": "code",
   "execution_count": 68,
   "id": "d11188e5",
   "metadata": {},
   "outputs": [
    {
     "name": "stdout",
     "output_type": "stream",
     "text": [
      "array('i', [10, 18, 48, 39])\n"
     ]
    }
   ],
   "source": [
    "#Reverse an array \n",
    "a = arr.array('i',[39,48,18,10])\n",
    "list1 = list(a)\n",
    "a.reverse()\n",
    "print(a)\n",
    "    "
   ]
  },
  {
   "cell_type": "code",
   "execution_count": null,
   "id": "f26e0d3d",
   "metadata": {},
   "outputs": [],
   "source": [
    "#Search Insert delete operation in array\n",
    "\n",
    "a = arr.array('i',[39,48,18,10])\n",
    "\n"
   ]
  },
  {
   "cell_type": "code",
   "execution_count": 86,
   "id": "1b6abed8",
   "metadata": {},
   "outputs": [
    {
     "name": "stdout",
     "output_type": "stream",
     "text": [
      "6.0\n"
     ]
    }
   ],
   "source": [
    "#Binomial Coeeficient\n",
    "def fact(n):\n",
    "    f = 1\n",
    "    for i in range(1,n+1):\n",
    "        f = f * i\n",
    "    return f\n",
    "\n",
    "if __name__ == \"__main__\":\n",
    "    n = 4\n",
    "    k =2\n",
    "    if(n != k and n>k):\n",
    "        n_fact =fact(n)\n",
    "        k_fact =fact(k)\n",
    "        facto =fact(n-k)\n",
    "        binomial_coefficient = n_fact/(k_fact*facto)\n",
    "        print( binomial_coefficient )"
   ]
  },
  {
   "cell_type": "code",
   "execution_count": 108,
   "id": "cb036dee",
   "metadata": {},
   "outputs": [
    {
     "name": "stdout",
     "output_type": "stream",
     "text": [
      "24.02248867962863\n",
      "16.3265306122449\n"
     ]
    }
   ],
   "source": [
    "#Geometric and Harmonic mean \n",
    "\n",
    "def geometric():\n",
    "    \n",
    "    list1 = [10,20,20,40,50]\n",
    "    mul = 1\n",
    "    for i in range(0,len(list1)):\n",
    "        mul = mul *list1[i]\n",
    "    gm = pow(float(mul),(1/len(list1)))\n",
    "    return gm\n",
    "def harmonic():\n",
    "    list1 = [10,20,20,40,50]\n",
    "    sum =0\n",
    "    for i in range(0,len(list1)):\n",
    "        sum = sum + (1/list1[i])\n",
    "    harmonic = n/sum\n",
    "    return harmonic\n",
    "\n",
    "print(geometric())\n",
    "print(harmonic())\n",
    "    "
   ]
  },
  {
   "cell_type": "code",
   "execution_count": 119,
   "id": "a0494ad3",
   "metadata": {},
   "outputs": [
    {
     "name": "stdout",
     "output_type": "stream",
     "text": [
      "Enter a number145\n",
      "145\n"
     ]
    }
   ],
   "source": [
    "#factorial add\n",
    "\n",
    "def fact(n):\n",
    "    f = 1\n",
    "    for i in range(1,n+1):\n",
    "        f = f * i\n",
    "    return f\n",
    "\n",
    "if __name__ == \"__main__\":\n",
    "    \n",
    "    n = int(input(\"Enter a number\"))\n",
    "    num = n\n",
    "    sum = 0\n",
    "    while n>0:\n",
    "        \n",
    "        d = int(n%10)\n",
    "        sum = sum + fact(d)\n",
    "        n = int(n/10)\n",
    "    print(sum)\n",
    "    "
   ]
  },
  {
   "cell_type": "code",
   "execution_count": null,
   "id": "76e8002b",
   "metadata": {},
   "outputs": [],
   "source": [
    "#Rotate Array\n",
    "a = arr.array('i',[39,48,18,10])\n",
    "n = int(input(\"Enter the number of rotations\"))\n",
    "c = 0\n",
    "\n",
    "for i in range(0,n+1):\n",
    "    "
   ]
  }
 ],
 "metadata": {
  "kernelspec": {
   "display_name": "Python 3 (ipykernel)",
   "language": "python",
   "name": "python3"
  },
  "language_info": {
   "codemirror_mode": {
    "name": "ipython",
    "version": 3
   },
   "file_extension": ".py",
   "mimetype": "text/x-python",
   "name": "python",
   "nbconvert_exporter": "python",
   "pygments_lexer": "ipython3",
   "version": "3.11.4"
  }
 },
 "nbformat": 4,
 "nbformat_minor": 5
}
