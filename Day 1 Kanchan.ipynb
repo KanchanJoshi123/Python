{
 "cells": [
  {
   "cell_type": "code",
   "execution_count": 3,
   "id": "397da468",
   "metadata": {},
   "outputs": [],
   "source": [
    "import sys\n",
    "import keyword\n",
    "import operator\n",
    "from datetime import datetime\n",
    "import os"
   ]
  },
  {
   "cell_type": "code",
   "execution_count": 4,
   "id": "3fa1963e",
   "metadata": {},
   "outputs": [
    {
     "name": "stdout",
     "output_type": "stream",
     "text": [
      "['False', 'None', 'True', 'and', 'as', 'assert', 'async', 'await', 'break', 'class', 'continue', 'def', 'del', 'elif', 'else', 'except', 'finally', 'for', 'from', 'global', 'if', 'import', 'in', 'is', 'lambda', 'nonlocal', 'not', 'or', 'pass', 'raise', 'return', 'try', 'while', 'with', 'yield']\n"
     ]
    }
   ],
   "source": [
    "print(keyword.kwlist)"
   ]
  },
  {
   "cell_type": "code",
   "execution_count": 5,
   "id": "e30569a2",
   "metadata": {},
   "outputs": [
    {
     "data": {
      "text/plain": [
       "35"
      ]
     },
     "execution_count": 5,
     "metadata": {},
     "output_type": "execute_result"
    }
   ],
   "source": [
    "len(keyword.kwlist)"
   ]
  },
  {
   "cell_type": "code",
   "execution_count": 6,
   "id": "cc96f3f9",
   "metadata": {},
   "outputs": [
    {
     "ename": "SyntaxError",
     "evalue": "invalid decimal literal (4256868957.py, line 1)",
     "output_type": "error",
     "traceback": [
      "\u001b[1;36m  Cell \u001b[1;32mIn[6], line 1\u001b[1;36m\u001b[0m\n\u001b[1;33m    1var = 10\u001b[0m\n\u001b[1;37m    ^\u001b[0m\n\u001b[1;31mSyntaxError\u001b[0m\u001b[1;31m:\u001b[0m invalid decimal literal\n"
     ]
    }
   ],
   "source": [
    "1var = 10"
   ]
  },
  {
   "cell_type": "code",
   "execution_count": 7,
   "id": "b5d6997a",
   "metadata": {},
   "outputs": [
    {
     "ename": "SyntaxError",
     "evalue": "cannot assign to expression here. Maybe you meant '==' instead of '='? (1618137862.py, line 1)",
     "output_type": "error",
     "traceback": [
      "\u001b[1;36m  Cell \u001b[1;32mIn[7], line 1\u001b[1;36m\u001b[0m\n\u001b[1;33m    val@2=35\u001b[0m\n\u001b[1;37m    ^\u001b[0m\n\u001b[1;31mSyntaxError\u001b[0m\u001b[1;31m:\u001b[0m cannot assign to expression here. Maybe you meant '==' instead of '='?\n"
     ]
    }
   ],
   "source": [
    "val@2=35"
   ]
  },
  {
   "cell_type": "code",
   "execution_count": 8,
   "id": "33873059",
   "metadata": {},
   "outputs": [
    {
     "ename": "SyntaxError",
     "evalue": "invalid syntax (2593154962.py, line 1)",
     "output_type": "error",
     "traceback": [
      "\u001b[1;36m  Cell \u001b[1;32mIn[8], line 1\u001b[1;36m\u001b[0m\n\u001b[1;33m    import = 10\u001b[0m\n\u001b[1;37m           ^\u001b[0m\n\u001b[1;31mSyntaxError\u001b[0m\u001b[1;31m:\u001b[0m invalid syntax\n"
     ]
    }
   ],
   "source": [
    "import = 10"
   ]
  },
  {
   "cell_type": "code",
   "execution_count": 9,
   "id": "be281091",
   "metadata": {},
   "outputs": [],
   "source": [
    "val2 = 10\n",
    "val = 99"
   ]
  },
  {
   "cell_type": "code",
   "execution_count": 10,
   "id": "ecba8201",
   "metadata": {},
   "outputs": [
    {
     "name": "stdout",
     "output_type": "stream",
     "text": [
      "hello_world\n"
     ]
    }
   ],
   "source": [
    "print(\"hello_world\")"
   ]
  },
  {
   "cell_type": "code",
   "execution_count": 16,
   "id": "95a10406",
   "metadata": {},
   "outputs": [
    {
     "name": "stdout",
     "output_type": "stream",
     "text": [
      "I am Kanchan Joshi\n",
      "2024\n",
      "11.1\n",
      "True\n",
      "None\n",
      "<class 'str'>\n",
      "<class 'int'>\n",
      "<class 'float'>\n",
      "<class 'bool'>\n",
      "<class 'NoneType'>\n"
     ]
    }
   ],
   "source": [
    "a= \"I am Kanchan Joshi\"\n",
    "b =2024\n",
    "c= 11.1\n",
    "print(a)\n",
    "print(b)\n",
    "print(c)\n",
    "d =True\n",
    "e = None\n",
    "print(d)\n",
    "print(e)\n",
    "\n",
    "print(type(a))\n",
    "print(type(b))\n",
    "print(type(c))\n",
    "print(type(d))\n",
    "print(type(e))"
   ]
  },
  {
   "cell_type": "code",
   "execution_count": 17,
   "id": "a947d5f6",
   "metadata": {},
   "outputs": [
    {
     "name": "stdout",
     "output_type": "stream",
     "text": [
      "Value =  1162\n",
      "Value =  38\n",
      "Value =  1.0676156583629892\n",
      "Value =  337200\n"
     ]
    }
   ],
   "source": [
    "a =600\n",
    "b =562\n",
    "print(\"Value = \",a+b)\n",
    "print(\"Value = \",a-b)\n",
    "print(\"Value = \",a/b)\n",
    "print(\"Value = \",a*b)"
   ]
  },
  {
   "cell_type": "code",
   "execution_count": 18,
   "id": "2b90129c",
   "metadata": {},
   "outputs": [
    {
     "name": "stdout",
     "output_type": "stream",
     "text": [
      "465\n",
      "444\n",
      "97804\n",
      "100.0\n"
     ]
    }
   ],
   "source": [
    "a = 365\n",
    "a +=100\n",
    "b = 500\n",
    "b -= 56\n",
    "c = 998\n",
    "c *= 98\n",
    "d = 300\n",
    "d /= 3\n",
    "\n",
    "print(a)\n",
    "print(b)\n",
    "print(c)\n",
    "print(d)\n"
   ]
  },
  {
   "cell_type": "code",
   "execution_count": 20,
   "id": "9cbb403d",
   "metadata": {},
   "outputs": [
    {
     "name": "stdout",
     "output_type": "stream",
     "text": [
      "False\n",
      "True\n",
      "False\n",
      "True\n",
      "True\n",
      "False\n"
     ]
    }
   ],
   "source": [
    "a = (100 > 300)\n",
    "print(a)\n",
    "\n",
    "b = (100 < 300)\n",
    "print(b)\n",
    "\n",
    "c = (100 >= 300)\n",
    "print(c)\n",
    "\n",
    "d = (100 <= 300)\n",
    "print(d)\n",
    "\n",
    "e = (100 != 300)\n",
    "print(e)\n",
    "\n",
    "f = (100 == 300)\n",
    "print(f)"
   ]
  },
  {
   "cell_type": "code",
   "execution_count": 25,
   "id": "2d63fdac",
   "metadata": {},
   "outputs": [
    {
     "name": "stdout",
     "output_type": "stream",
     "text": [
      "Value  False\n",
      "Values  False\n",
      "Values  True\n",
      "Values  True\n",
      "Values  True\n",
      "Value  False True\n",
      "Values  False\n"
     ]
    }
   ],
   "source": [
    "bool1 = True\n",
    "bool2 = False\n",
    "print(\"Value \",bool1 and bool2)\n",
    "\n",
    "\n",
    "bool1 = False\n",
    "bool2 = False\n",
    "print(\"Values \",bool1 and bool2)\n",
    "\n",
    "\n",
    "bool1 = True\n",
    "bool2 = True\n",
    "print(\"Values \",bool1 or bool2)\n",
    "\n",
    "\n",
    "bool1 = False\n",
    "bool2 = True\n",
    "print(\"Values \",bool1 or bool2)\n",
    "\n",
    "\n",
    "bool1 = True\n",
    "bool2 = False\n",
    "print(\"Values \",bool1 or bool2)\n",
    "\n",
    "\n",
    "print(\"Value \", not bool1, not bool2)\n",
    "\n",
    "\n",
    "bool1 = False\n",
    "bool2 = False\n",
    "print(\"Values \",bool1 or bool2)\n",
    "\n"
   ]
  },
  {
   "cell_type": "code",
   "execution_count": 26,
   "id": "d85b9ec8",
   "metadata": {},
   "outputs": [
    {
     "name": "stdout",
     "output_type": "stream",
     "text": [
      "<class 'str'>\n"
     ]
    }
   ],
   "source": [
    "a = (\"98562\")\n",
    "print(type(a))"
   ]
  },
  {
   "cell_type": "code",
   "execution_count": 28,
   "id": "52da9cf9",
   "metadata": {},
   "outputs": [
    {
     "name": "stdout",
     "output_type": "stream",
     "text": [
      "<class 'int'>\n"
     ]
    }
   ],
   "source": [
    "a = int(a)\n",
    "print(type(a))"
   ]
  },
  {
   "cell_type": "code",
   "execution_count": 29,
   "id": "9026dfef",
   "metadata": {},
   "outputs": [
    {
     "name": "stdout",
     "output_type": "stream",
     "text": [
      "<class 'float'>\n"
     ]
    }
   ],
   "source": [
    "g =(96.56)\n",
    "print(type(g))"
   ]
  },
  {
   "cell_type": "code",
   "execution_count": 31,
   "id": "b52132f5",
   "metadata": {},
   "outputs": [
    {
     "name": "stdout",
     "output_type": "stream",
     "text": [
      "<class 'int'>\n"
     ]
    }
   ],
   "source": [
    "g = int(g)\n",
    "print(type(g))"
   ]
  },
  {
   "cell_type": "code",
   "execution_count": 33,
   "id": "ea1df498",
   "metadata": {},
   "outputs": [
    {
     "name": "stdout",
     "output_type": "stream",
     "text": [
      "king\n",
      "king\n",
      "king\n"
     ]
    }
   ],
   "source": [
    "a = 'king'\n",
    "b = \"king\"\n",
    "c ='''king'''\n",
    "print(a)\n",
    "print(b)\n",
    "print(c)"
   ]
  },
  {
   "cell_type": "code",
   "execution_count": 34,
   "id": "5dd2a788",
   "metadata": {},
   "outputs": [
    {
     "name": "stdout",
     "output_type": "stream",
     "text": [
      "king's\n"
     ]
    }
   ],
   "source": [
    "e = '''king's'''\n",
    "print(e)"
   ]
  },
  {
   "cell_type": "code",
   "execution_count": 35,
   "id": "20360898",
   "metadata": {},
   "outputs": [
    {
     "name": "stdout",
     "output_type": "stream",
     "text": [
      "king'''s\n"
     ]
    }
   ],
   "source": [
    "f = \"king'''s\"\n",
    "print(f)"
   ]
  },
  {
   "cell_type": "code",
   "execution_count": 37,
   "id": "b67e5961",
   "metadata": {},
   "outputs": [
    {
     "name": "stdout",
     "output_type": "stream",
     "text": [
      "king\"s\n"
     ]
    }
   ],
   "source": [
    "g = 'king\"s'\n",
    "print(g)"
   ]
  },
  {
   "cell_type": "code",
   "execution_count": 39,
   "id": "2efdcbac",
   "metadata": {},
   "outputs": [
    {
     "name": "stdout",
     "output_type": "stream",
     "text": [
      "<class 'str'>\n",
      "HiKanchan\n",
      "HiKanchan\n",
      "K\n"
     ]
    }
   ],
   "source": [
    "greet = \"Hi\"\n",
    "name = \"Kanchan\"\n",
    "print(type(greet))\n",
    "print(greet+name)\n",
    "c = greet +name\n",
    "print(c)\n",
    "\n",
    "print(name[0])"
   ]
  },
  {
   "cell_type": "code",
   "execution_count": 40,
   "id": "04e518dc",
   "metadata": {},
   "outputs": [
    {
     "name": "stdout",
     "output_type": "stream",
     "text": [
      "2   1   6561\n"
     ]
    }
   ],
   "source": [
    "a = 9\n",
    "b = 4\n",
    "#Floor Division\n",
    "div = a // b\n",
    "mod = a % b\n",
    "power = a ** b\n",
    "print(div, \" \", mod, \" \", power)"
   ]
  },
  {
   "cell_type": "code",
   "execution_count": 41,
   "id": "c606b335",
   "metadata": {},
   "outputs": [
    {
     "name": "stdout",
     "output_type": "stream",
     "text": [
      "Enter a no.20\n",
      "Enter a no.10\n",
      "Avg:  15.0\n"
     ]
    }
   ],
   "source": [
    "a = input(\"Enter a no.\")\n",
    "b = input(\"Enter a no.\")\n",
    "a = int(a)\n",
    "b = int(b)\n",
    "avg =(a+b)/2\n",
    "print(\"Avg: \",avg)"
   ]
  },
  {
   "cell_type": "code",
   "execution_count": 43,
   "id": "6895c95b",
   "metadata": {},
   "outputs": [
    {
     "name": "stdout",
     "output_type": "stream",
     "text": [
      "Enter first side: 3\n",
      "Enter second side: 4\n",
      "Enter third side: 5\n",
      "Area:  6.0\n"
     ]
    }
   ],
   "source": [
    "a = float(input('Enter first side: '))\n",
    "b = float(input('Enter second side: '))\n",
    "c = float(input('Enter third side: '))\n",
    "#semi_permiter\n",
    "s = (a+b+c)/2\n",
    "area = (s*(s-a)*(s-b)*(s-c)) ** 0.5\n",
    "print(\"Area: \", area)"
   ]
  },
  {
   "cell_type": "code",
   "execution_count": 46,
   "id": "75a2982e",
   "metadata": {},
   "outputs": [
    {
     "name": "stdout",
     "output_type": "stream",
     "text": [
      "FAIL\n",
      "Pass\n",
      "I am not if\n"
     ]
    }
   ],
   "source": [
    "x =10 \n",
    "if(x<40):\n",
    "    print(\"FAIL\")\n",
    "x=-1\n",
    "if (x<0):\n",
    "    print(\"Pass\")\n",
    "print(\"I am not if\")"
   ]
  },
  {
   "cell_type": "code",
   "execution_count": 47,
   "id": "27c6cbf4",
   "metadata": {},
   "outputs": [
    {
     "name": "stdout",
     "output_type": "stream",
     "text": [
      "Age: 20\n",
      "Eligible to Vote\n"
     ]
    }
   ],
   "source": [
    "age = int(input(\"Age: \"))\n",
    "if(age>18):\n",
    "    print(\"Eligible to Vote\")\n",
    "else:\n",
    "    print(\"Not Eligible to Vote\")"
   ]
  },
  {
   "cell_type": "code",
   "execution_count": 49,
   "id": "0716a4a1",
   "metadata": {},
   "outputs": [
    {
     "name": "stdout",
     "output_type": "stream",
     "text": [
      "Enter a no. 2\n",
      "Even\n"
     ]
    }
   ],
   "source": [
    "x = int(input(\"Enter a no. \"))\n",
    "if(x%2==0):\n",
    "    print(\"Even\")\n",
    "else:\n",
    "    print(\"Odd\")"
   ]
  },
  {
   "cell_type": "code",
   "execution_count": 50,
   "id": "2a832f1e",
   "metadata": {},
   "outputs": [
    {
     "name": "stdout",
     "output_type": "stream",
     "text": [
      "Enter marks:3092\n",
      "Distinction\n"
     ]
    }
   ],
   "source": [
    "mark = float(input(\"Enter marks:\"))\n",
    "if mark>=60:\n",
    "    if mark<70:\n",
    "        print(\"First Class\")\n",
    "    else:\n",
    "        print(\"Distinction\")"
   ]
  },
  {
   "cell_type": "code",
   "execution_count": 52,
   "id": "76dbd8e0",
   "metadata": {},
   "outputs": [
    {
     "name": "stdout",
     "output_type": "stream",
     "text": [
      "Year: 2002\n",
      "Not a Leap Year\n"
     ]
    }
   ],
   "source": [
    "y = int(input(\"Year: \"))\n",
    "\n",
    "if  y%4 == 0:\n",
    "    if y%100 == 0:\n",
    "        if y%400 == 0:\n",
    "            print(\"Leap Year\")\n",
    "        else:\n",
    "            print(\"Not a Leap Year\")\n",
    "    else:\n",
    "        print(\"Is a Leap Year\")\n",
    "else:\n",
    "    print(\"Not a Leap Year\")"
   ]
  },
  {
   "cell_type": "code",
   "execution_count": 54,
   "id": "0b0d1470",
   "metadata": {},
   "outputs": [
    {
     "name": "stdout",
     "output_type": "stream",
     "text": [
      "Character: ABCD\n",
      "Uppercase\n",
      "Yay!\n"
     ]
    }
   ],
   "source": [
    "ch = input(\"Character: \")\n",
    "if(ch>='A' and ch<='Z'):\n",
    "    print(\"Uppercase\")\n",
    "elif(ch>='a' and ch<='z'):\n",
    "    print(\"Lowercase\")\n",
    "elif(ch>='0' and ch<='9'):\n",
    "    print(\"Number\")\n",
    "print(\"Yay!\")"
   ]
  },
  {
   "cell_type": "code",
   "execution_count": 55,
   "id": "1d87dfb8",
   "metadata": {},
   "outputs": [
    {
     "name": "stdout",
     "output_type": "stream",
     "text": [
      "marks1:90\n",
      "marks2:95\n",
      "marks3:80\n",
      "marks4:85\n",
      "Distinction\n"
     ]
    }
   ],
   "source": [
    "'''Write a pgm to enter the marks of a student in four sbjects. then calc\n",
    "display the grade obtained by the student. if the student scores an aggre\n",
    "distinction. if aggregate is 60>= and <75 then the grade is first divisio\n",
    "the grade is second division. if aggrgate is 40>= and <50 hen the grade i\n",
    "grade is fail'''\n",
    "m1=int(input(\"marks1:\"))\n",
    "m2=int(input(\"marks2:\"))\n",
    "m3=int(input(\"marks3:\"))\n",
    "m4=int(input(\"marks4:\"))\n",
    "total=m1+m2+m3+m4\n",
    "avg=(total)/4\n",
    "if(avg>=75):\n",
    "    print(\"Distinction\")\n",
    "elif(avg>=60 and avg<75):\n",
    "    print(\"First Division\")\n",
    "elif(avg>=50 and avg<60): \n",
    "    print(\"Second Division\")\n",
    "elif(avg>=40 and avg<50):\n",
    "    print(\"Third Division\")\n",
    "else:\n",
    "    print(\"Fail\")"
   ]
  },
  {
   "cell_type": "code",
   "execution_count": 58,
   "id": "d6c3a0b5",
   "metadata": {},
   "outputs": [
    {
     "name": "stdout",
     "output_type": "stream",
     "text": [
      "0\n",
      "1\n",
      "2\n",
      "3\n",
      "4\n",
      "5\n",
      "6\n",
      "7\n",
      "8\n",
      "9\n",
      "10\n",
      "VIT\n",
      "VIT\n",
      "VIT\n",
      "VIT\n",
      "VIT\n",
      "VIT\n",
      "0\t1\t2\t3\t4\t5\t6\t7\t8\t9\t10\t"
     ]
    }
   ],
   "source": [
    "i = 0\n",
    "while(i<=10):\n",
    "    print(i)\n",
    "    i+=1\n",
    "    \n",
    "i = 0\n",
    "while(i<=5):\n",
    "    print(\"VIT\")\n",
    "    i+=1\n",
    "    \n",
    "i = 0\n",
    "while(i<=10):\n",
    "    print(i,end='\\t')\n",
    "    i+=1"
   ]
  },
  {
   "cell_type": "code",
   "execution_count": 59,
   "id": "fcb444d2",
   "metadata": {},
   "outputs": [
    {
     "name": "stdout",
     "output_type": "stream",
     "text": [
      "Sum:  55\n",
      "Average:  5.5\n"
     ]
    }
   ],
   "source": [
    "i =0\n",
    "sum = 0\n",
    "while(i<=10):\n",
    "    sum+= i\n",
    "    i+=1\n",
    "avg=float(sum)/10\n",
    "print(\"Sum: \",sum )\n",
    "print(\"Average: \",avg)"
   ]
  },
  {
   "cell_type": "code",
   "execution_count": 60,
   "id": "713effc4",
   "metadata": {},
   "outputs": [
    {
     "name": "stdout",
     "output_type": "stream",
     "text": [
      "M: 10\n",
      "N: 20\n",
      "Sum:  165\n"
     ]
    }
   ],
   "source": [
    "m=int(input(\"M: \"))\n",
    "n=int(input(\"N: \"))\n",
    "sum = 0\n",
    "while(m<=n):\n",
    "    sum+= m\n",
    "    m+=1\n",
    "print(\"Sum: \",sum )"
   ]
  },
  {
   "cell_type": "code",
   "execution_count": 61,
   "id": "09a937c6",
   "metadata": {},
   "outputs": [
    {
     "name": "stdout",
     "output_type": "stream",
     "text": [
      "Enter number:102\n",
      "Reverse:  201\n"
     ]
    }
   ],
   "source": [
    "n = int(input(\"Enter number:\"))\n",
    "r = 0\n",
    "while(n>0):\n",
    "    d = n%10\n",
    "    r = r*10 +d\n",
    "    n = n//10\n",
    "print(\"Reverse: \",r)"
   ]
  },
  {
   "cell_type": "code",
   "execution_count": 63,
   "id": "1196704f",
   "metadata": {},
   "outputs": [
    {
     "name": "stdout",
     "output_type": "stream",
     "text": [
      "Enter number:153\n",
      "Armstrong\n"
     ]
    }
   ],
   "source": [
    "n = int(input(\"Enter number:\"))\n",
    "sum = 0\n",
    "og = n\n",
    "while(n>0):\n",
    "    d = n%10\n",
    "    sum = sum+d**3\n",
    "    n=n//10\n",
    "if(sum==og):\n",
    "    print(\"Armstrong\")\n",
    "else:\n",
    "    print(\"Not Armstrong\")"
   ]
  },
  {
   "cell_type": "code",
   "execution_count": 65,
   "id": "474aa715",
   "metadata": {},
   "outputs": [
    {
     "name": "stdout",
     "output_type": "stream",
     "text": [
      "enter -1 to exit\n",
      "Enter:10\n",
      "Enter:-10\n",
      "Enter:90\n",
      "Enter:-10\n",
      "Enter:-1\n",
      "Positive count and sum  2 100\n",
      "Negative count and sum  2 -20\n"
     ]
    }
   ],
   "source": [
    "sump =0\n",
    "sumn=0\n",
    "cn=0\n",
    "cp=0\n",
    "print(\"enter -1 to exit\")\n",
    "while(1):\n",
    "    n = int(input(\"Enter:\"))\n",
    "    if(n==-1):\n",
    "        break\n",
    "    if(n>0):\n",
    "        cp+=1\n",
    "        sump += n\n",
    "    else:\n",
    "        cn+=1\n",
    "        sumn += n\n",
    "print(\"Positive count and sum \", cp,sump)\n",
    "print(\"Negative count and sum \", cn,sumn)"
   ]
  },
  {
   "cell_type": "code",
   "execution_count": 66,
   "id": "034e4a88",
   "metadata": {},
   "outputs": [
    {
     "name": "stdout",
     "output_type": "stream",
     "text": [
      "0\n",
      "1\n",
      "2\n",
      "3\n",
      "4\n"
     ]
    }
   ],
   "source": [
    "a= 5\n",
    "for i in range(a):\n",
    "    print(i)"
   ]
  },
  {
   "cell_type": "code",
   "execution_count": 67,
   "id": "63a9b3e6",
   "metadata": {},
   "outputs": [
    {
     "name": "stdout",
     "output_type": "stream",
     "text": [
      "1\n",
      "2\n",
      "3\n",
      "4\n"
     ]
    }
   ],
   "source": [
    "a= range(1,5)\n",
    "for i in a:\n",
    "    print(i)"
   ]
  },
  {
   "cell_type": "code",
   "execution_count": 68,
   "id": "371a4df8",
   "metadata": {},
   "outputs": [
    {
     "name": "stdout",
     "output_type": "stream",
     "text": [
      "1\n",
      "2\n",
      "3\n",
      "4\n"
     ]
    }
   ],
   "source": [
    "for i in range(1,5):\n",
    "    print(i)"
   ]
  },
  {
   "cell_type": "code",
   "execution_count": 69,
   "id": "6684b183",
   "metadata": {},
   "outputs": [
    {
     "name": "stdout",
     "output_type": "stream",
     "text": [
      "10\n",
      "9\n",
      "8\n",
      "7\n",
      "6\n",
      "5\n",
      "4\n",
      "3\n",
      "2\n",
      "1\n"
     ]
    }
   ],
   "source": [
    "a=range(10,0,-1) #(beg,end,step)\n",
    "for i in a:\n",
    " print(i)"
   ]
  },
  {
   "cell_type": "code",
   "execution_count": 72,
   "id": "c68b0880",
   "metadata": {},
   "outputs": [
    {
     "name": "stdout",
     "output_type": "stream",
     "text": [
      "Enter the value of n:10\n",
      "5.5\n",
      "55\n"
     ]
    }
   ],
   "source": [
    "n=int(input(\"Enter the value of n:\"))\n",
    "avg=0\n",
    "sum=0\n",
    "\n",
    "for i in range(1, n+1):\n",
    "    sum = sum + i\n",
    "\n",
    "avg = sum/n\n",
    "print(avg)\n",
    "print(sum)\n"
   ]
  },
  {
   "cell_type": "code",
   "execution_count": 73,
   "id": "b50d5929",
   "metadata": {},
   "outputs": [
    {
     "name": "stdout",
     "output_type": "stream",
     "text": [
      "Enter5\n",
      "Factorial : 120\n"
     ]
    }
   ],
   "source": [
    "n = int(input(\"Enter\"))\n",
    "fact = 1\n",
    "for  i in range(n,0,-1):\n",
    "    fact = fact*i\n",
    "print(\"Factorial :\",fact)"
   ]
  },
  {
   "cell_type": "code",
   "execution_count": 74,
   "id": "b03a8e33",
   "metadata": {},
   "outputs": [
    {
     "name": "stdout",
     "output_type": "stream",
     "text": [
      "Enter5\n",
      "Prime\n"
     ]
    }
   ],
   "source": [
    "n = int(input(\"Enter\"))\n",
    "for i in range(2,n):\n",
    "    if(n%i==0):\n",
    "        print(\"Not Prime\")\n",
    "        break\n",
    "else:\n",
    "    print(\"Prime\")"
   ]
  },
  {
   "cell_type": "code",
   "execution_count": 75,
   "id": "89a478e6",
   "metadata": {},
   "outputs": [
    {
     "name": "stdout",
     "output_type": "stream",
     "text": [
      "enter how many number you want in the fionacci series10\n",
      "0\n",
      "1\n",
      "1\n",
      "2\n",
      "3\n",
      "5\n",
      "8\n",
      "13\n",
      "21\n",
      "34\n",
      "\n"
     ]
    }
   ],
   "source": [
    "n=int(input(\"enter how many number you want in the fionacci series\"))\n",
    "first=0\n",
    "second=1\n",
    "for i in range(n):\n",
    "    print(first)\n",
    "    temp=first\n",
    "    first=second\n",
    "    second=temp+second\n",
    "print()\n"
   ]
  },
  {
   "cell_type": "code",
   "execution_count": 79,
   "id": "7e45ae66",
   "metadata": {},
   "outputs": [
    {
     "name": "stdout",
     "output_type": "stream",
     "text": [
      "# # # # # \n",
      "# # # # # \n",
      "# # # # # \n",
      "# # # # # \n",
      "# # # # # \n"
     ]
    }
   ],
   "source": [
    "for i in range(5):\n",
    "    for j in range(5):\n",
    "        print(\"#\",end=' ')\n",
    "    print()"
   ]
  },
  {
   "cell_type": "code",
   "execution_count": 81,
   "id": "fb50a3fa",
   "metadata": {},
   "outputs": [
    {
     "name": "stdout",
     "output_type": "stream",
     "text": [
      "* \n",
      "* * \n",
      "* * * \n",
      "* * * * \n",
      "* * * * * \n"
     ]
    }
   ],
   "source": [
    "for i in range(5):\n",
    "    for j in range(i+1):\n",
    "        print(\"*\",end=' ')\n",
    "    print()"
   ]
  },
  {
   "cell_type": "code",
   "execution_count": 82,
   "id": "3e91e533",
   "metadata": {},
   "outputs": [
    {
     "name": "stdout",
     "output_type": "stream",
     "text": [
      "  * * * * * \n",
      "    * * * * \n",
      "      * * * \n",
      "        * * \n",
      "          * \n"
     ]
    }
   ],
   "source": [
    "for i in range(5):\n",
    "    for j in range(i+1):\n",
    "        print(\" \",end=' ')\n",
    "    for k in range(5-i):\n",
    "        print(\"*\",end=' ')\n",
    "    print()"
   ]
  },
  {
   "cell_type": "code",
   "execution_count": 86,
   "id": "5df40dbd",
   "metadata": {},
   "outputs": [
    {
     "name": "stdout",
     "output_type": "stream",
     "text": [
      "          2 \n",
      "        2 2 \n",
      "      2 2 2 \n",
      "    2 2 2 2 \n",
      "  2 2 2 2 2 \n"
     ]
    }
   ],
   "source": [
    "n=5\n",
    "for i in range(n):\n",
    "    for j in range(i,n):\n",
    "        print(' ',end=' ')\n",
    "    for k in range(i+1):\n",
    "        print('2',end=' ')\n",
    "    print()    \n"
   ]
  },
  {
   "cell_type": "code",
   "execution_count": 87,
   "id": "6bc3e996",
   "metadata": {},
   "outputs": [
    {
     "name": "stdout",
     "output_type": "stream",
     "text": [
      "*********\n",
      " *******\n",
      "  *****\n",
      "   ***\n",
      "    *\n"
     ]
    }
   ],
   "source": [
    "n=5\n",
    "for i in range(n):\n",
    "    for j in range(i):\n",
    "        print(' ',end='')\n",
    "    for k in range(n-i):\n",
    "        print('*',end='')\n",
    "    for l in range(n-i-1):\n",
    "        print('*',end='')\n",
    "    print()"
   ]
  },
  {
   "cell_type": "code",
   "execution_count": 88,
   "id": "de6ab1d5",
   "metadata": {},
   "outputs": [
    {
     "name": "stdout",
     "output_type": "stream",
     "text": [
      "Enter candies:90\n",
      "Candies\n",
      "Candies\n",
      "Candies\n",
      "out of stock\n"
     ]
    }
   ],
   "source": [
    "available=3\n",
    "Candies=int(input(\"Enter candies:\"))\n",
    "i=1\n",
    "while(i<=Candies):\n",
    "    if(i>available):\n",
    "        print(\"out of stock\")\n",
    "        break\n",
    "    print(\"Candies\")\n",
    "    i=i+1\n"
   ]
  },
  {
   "cell_type": "code",
   "execution_count": 89,
   "id": "59921c23",
   "metadata": {},
   "outputs": [
    {
     "name": "stdout",
     "output_type": "stream",
     "text": [
      "1\n",
      "3\n",
      "5\n",
      "7\n",
      "9\n",
      "11\n",
      "13\n",
      "15\n",
      "17\n",
      "19\n",
      "21\n",
      "23\n",
      "25\n",
      "27\n",
      "29\n",
      "31\n",
      "33\n",
      "35\n",
      "37\n",
      "39\n",
      "41\n",
      "43\n",
      "45\n",
      "47\n",
      "49\n",
      "51\n",
      "53\n",
      "55\n",
      "57\n",
      "59\n",
      "61\n",
      "63\n",
      "65\n",
      "67\n",
      "69\n",
      "71\n",
      "73\n",
      "75\n",
      "77\n",
      "79\n",
      "81\n",
      "83\n",
      "85\n",
      "87\n",
      "89\n",
      "91\n",
      "93\n",
      "95\n",
      "97\n",
      "99\n"
     ]
    }
   ],
   "source": [
    "for i in range(1,101):\n",
    "    if(i%2==0):\n",
    "        continue\n",
    "    else:\n",
    "        print(i)"
   ]
  },
  {
   "cell_type": "code",
   "execution_count": 93,
   "id": "cd499390",
   "metadata": {},
   "outputs": [
    {
     "name": "stdout",
     "output_type": "stream",
     "text": [
      "Vitians\n",
      "Vitians\n",
      "Vitians\n",
      "Vitians\n",
      "Hello World  20\n",
      "10\n",
      "Vitians\n",
      "Vitians\n",
      "Vitians\n",
      "Vitians\n",
      "Hello World  20\n",
      "-20\n"
     ]
    }
   ],
   "source": [
    "#FUNCTIONS\n",
    "def sub(x,y):\n",
    "    for i in range(4):\n",
    "        print(\"Vitians\")\n",
    "    print('Hello World ',x)\n",
    "    return(x-y)\n",
    "x = 20\n",
    "y = 10\n",
    "print(sub(x,y))\n",
    "print(sub(10+10,20+20))"
   ]
  },
  {
   "cell_type": "code",
   "execution_count": 96,
   "id": "97d9e1a6",
   "metadata": {},
   "outputs": [
    {
     "data": {
      "text/plain": [
       "8"
      ]
     },
     "execution_count": 96,
     "metadata": {},
     "output_type": "execute_result"
    }
   ],
   "source": [
    "def fun(num):\n",
    "    num*=2\n",
    "    return(num)\n",
    "    print(\"This wouldn't execute\")\n",
    "x = fun(4)\n",
    "x"
   ]
  },
  {
   "cell_type": "code",
   "execution_count": 97,
   "id": "e2087966",
   "metadata": {},
   "outputs": [
    {
     "name": "stdout",
     "output_type": "stream",
     "text": [
      "Name:Raj\n",
      "Course: MS\n",
      "Name:King GJ\n",
      "Course: BTECH\n"
     ]
    }
   ],
   "source": [
    "def display(name,course='BTECH'):\n",
    "    print(\"Name:\"+name)\n",
    "    print(\"Course:\",course)\n",
    "display(course='MS',name=\"Raj\") \n",
    "display(name='King GJ')"
   ]
  },
  {
   "cell_type": "code",
   "execution_count": 98,
   "id": "3d966858",
   "metadata": {},
   "outputs": [
    {
     "name": "stdout",
     "output_type": "stream",
     "text": [
      "The string is: i love u\n",
      "The integer value is: 3000\n",
      "The floating point value is: 0.0\n"
     ]
    }
   ],
   "source": [
    "def display(str,int_x,float_y):\n",
    "    print(\"The string is:\",str)\n",
    "    print(\"The integer value is:\",int_x)\n",
    "    print(\"The floating point value is:\",float_y)\n",
    "display(str=\"i love u\",int_x=3000,float_y=0.0)\n"
   ]
  },
  {
   "cell_type": "code",
   "execution_count": 100,
   "id": "c3d6ea14",
   "metadata": {},
   "outputs": [
    {
     "name": "stdout",
     "output_type": "stream",
     "text": [
      "\n",
      " KJ likes to watch\n",
      "Multiverse of Madness Moon Knight Rings of power Thor \n",
      " KING likes to watch\n",
      "Black adam The Batman Aquman-The lost kingdoms \n",
      " Joshi likes to watch\n"
     ]
    }
   ],
   "source": [
    "def fun(name,*fav_movies_series): #The Star means tuple \n",
    "    print('\\n', name,\"likes to watch\")\n",
    "    for movies in fav_movies_series:\n",
    "        print(movies,end=\" \")\n",
    "fun(\"KJ\",\"Multiverse of Madness\",\"Moon Knight\",\"Rings of power\",\"Thor\")\n",
    "fun(\"KING\",\"Black adam\",\"The Batman\",\"Aquman-The lost kingdoms\")\n",
    "fun(\"Joshi\")\n"
   ]
  },
  {
   "cell_type": "code",
   "execution_count": null,
   "id": "701c0500",
   "metadata": {},
   "outputs": [],
   "source": []
  },
  {
   "cell_type": "code",
   "execution_count": null,
   "id": "3ac76eda",
   "metadata": {},
   "outputs": [],
   "source": []
  },
  {
   "cell_type": "code",
   "execution_count": null,
   "id": "da562cbc",
   "metadata": {},
   "outputs": [],
   "source": []
  },
  {
   "cell_type": "code",
   "execution_count": 101,
   "id": "a55ec2ac",
   "metadata": {},
   "outputs": [
    {
     "name": "stdout",
     "output_type": "stream",
     "text": [
      "str =  KANCHANTAI\n",
      "str[0:9]= KANCHANTAI\n",
      "str[0] =  K\n",
      "str[-1] = I\n",
      "str[1:5] =  ANCH\n",
      "str[5:-2] =  ANT\n",
      "str[-9:5]= ANCH\n",
      "str[3] =  CHANTAI\n"
     ]
    }
   ],
   "source": [
    "str = 'KANCHANTAI'\n",
    "print('str = ', str)\n",
    "print('str[0:9]=',str)\n",
    "#first character\n",
    "print('str[0] = ',str[0])\n",
    "#last character\n",
    "print('str[-1] =',str[-1])\n",
    "#slicing 2nd to 5th character\n",
    "print('str[1:5] = ', str[1:5])\n",
    "#slicing 6th to 2nd last character\n",
    "print('str[5:-2] = ', str[5:-2])\n",
    "#slicing the string -9 to 6\n",
    "print('str[-9:5]=',str[-9:5])\n",
    "#\n",
    "print('str[3] = ',str[3:])"
   ]
  },
  {
   "cell_type": "code",
   "execution_count": null,
   "id": "12cd3cad",
   "metadata": {},
   "outputs": [],
   "source": []
  },
  {
   "cell_type": "code",
   "execution_count": null,
   "id": "04f68866",
   "metadata": {},
   "outputs": [],
   "source": []
  },
  {
   "cell_type": "code",
   "execution_count": null,
   "id": "a6f5fc1e",
   "metadata": {},
   "outputs": [],
   "source": []
  },
  {
   "cell_type": "code",
   "execution_count": null,
   "id": "8977611a",
   "metadata": {},
   "outputs": [],
   "source": []
  },
  {
   "cell_type": "code",
   "execution_count": null,
   "id": "0f589b2d",
   "metadata": {},
   "outputs": [],
   "source": []
  },
  {
   "cell_type": "code",
   "execution_count": null,
   "id": "fd673c58",
   "metadata": {},
   "outputs": [],
   "source": []
  }
 ],
 "metadata": {
  "kernelspec": {
   "display_name": "Python 3 (ipykernel)",
   "language": "python",
   "name": "python3"
  },
  "language_info": {
   "codemirror_mode": {
    "name": "ipython",
    "version": 3
   },
   "file_extension": ".py",
   "mimetype": "text/x-python",
   "name": "python",
   "nbconvert_exporter": "python",
   "pygments_lexer": "ipython3",
   "version": "3.11.4"
  }
 },
 "nbformat": 4,
 "nbformat_minor": 5
}
