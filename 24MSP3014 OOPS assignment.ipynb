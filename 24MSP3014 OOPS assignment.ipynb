{
 "cells": [
  {
   "cell_type": "code",
   "execution_count": 1,
   "id": "40aaee43",
   "metadata": {},
   "outputs": [
    {
     "name": "stdout",
     "output_type": "stream",
     "text": [
      "Title Da Vinci Code\n",
      "Author Dan Brown\n",
      "Price 600\n",
      "----------------\n",
      "Title Digital Fotress\n",
      "Author Dan Brown\n",
      "Price 700\n",
      "----------------\n",
      "Title Angels and Demon\n",
      "Author Dan Brown\n",
      "Price 800\n",
      "----------------\n"
     ]
    }
   ],
   "source": [
    "#Question 1\n",
    "class Book:\n",
    "    def __init__(self,title,author,price):\n",
    "        self.title = title\n",
    "        self.author = author\n",
    "        self.price = price\n",
    "\n",
    "    def display(self):\n",
    "        print(\"Title\",self.title)\n",
    "        print(\"Author\",self.author)\n",
    "        print(\"Price\",self.price)\n",
    "        print(\"----------------\")\n",
    "        \n",
    "obj = Book(\"Da Vinci Code\",\"Dan Brown\",600)\n",
    "obj1 = Book(\"Digital Fotress\",\"Dan Brown\",700)\n",
    "obj2 = Book(\"Angels and Demon\",\"Dan Brown\",800)\n",
    "\n",
    "obj.display()\n",
    "obj1.display()\n",
    "obj2.display()"
   ]
  },
  {
   "cell_type": "code",
   "execution_count": 19,
   "id": "b01b79ac",
   "metadata": {},
   "outputs": [
    {
     "name": "stdout",
     "output_type": "stream",
     "text": [
      "Account Holder Name: Account No:Kanchan \n",
      "Deposite amount20000\n",
      "Enter Withdraw amount:300\n",
      "Net Available Balance= 19700.0\n"
     ]
    }
   ],
   "source": [
    "#Question 2\n",
    "class BankAccount:\n",
    "    def __init__( self , name, accno) : \n",
    "        self.__balance=0 \n",
    "        self.name = name \n",
    "        self.accno = accno \n",
    "    def deposit(self): \n",
    "        amount =float(input(\"Deposite amount\")) \n",
    "        self.__balance += amount \n",
    "    def withdraw(self) : \n",
    "        amount = float(input(\"Enter Withdraw amount:\"))\n",
    "        if self.__balance>=amount: \n",
    "            self.__balance-=amount \n",
    "        else: \n",
    "            print(\"\\n Insufficient balance\")\n",
    "    def check_balance(self): \n",
    "        print( \"Net Available Balance=\" ,self.__balance) \n",
    "          \n",
    "s = BankAccount(\"Kanchan \" , 12345) \n",
    "print(\"Account Holder Name: Account No:{}\". format(s. name, s. accno)) \n",
    "s.deposit () \n",
    "s.withdraw()\n",
    "s.check_balance() "
   ]
  },
  {
   "cell_type": "code",
   "execution_count": 21,
   "id": "ad57333a",
   "metadata": {},
   "outputs": [
    {
     "name": "stdout",
     "output_type": "stream",
     "text": [
      "Make: Toyota, Year: 2000, Number of Doors: 4\n",
      "Make: Splender, Year: 2001, Engine Capacity: 200cc\n"
     ]
    }
   ],
   "source": [
    "# Question 3\n",
    "class Vehicle:\n",
    "    def __init__(self, make, year):\n",
    "        self.make = make\n",
    "        self.year = year\n",
    "\n",
    "    def display(self):\n",
    "        return f\"Make: {self.make}, Year: {self.year}\"\n",
    "\n",
    "    \n",
    "class Car(Vehicle):\n",
    "    def __init__(self, make, year, num_doors):\n",
    "        super().__init__(make, year)\n",
    "        self.num_doors = num_doors\n",
    "\n",
    "    def display(self):\n",
    "        return f\"{super().display()}, Number of Doors: {self.num_doors}\"\n",
    "\n",
    "class Motorcycle(Vehicle):\n",
    "    def __init__(self, make, year, engine_cc):\n",
    "        super().__init__(make, year)\n",
    "        self.engine_cc = engine_cc\n",
    "\n",
    "    def display(self):\n",
    "        return f\"{super().display()}, Engine Capacity: {self.engine_cc}cc\"\n",
    "\n",
    "# Demonstration\n",
    "if __name__ == \"__main__\":\n",
    "    car = Car(\"Toyota\", 2000, 4)\n",
    "    motorcycle = Motorcycle(\"Splender\", 2001, 200)\n",
    "\n",
    "    print(car.display())\n",
    "    print(motorcycle.display())\n"
   ]
  },
  {
   "cell_type": "code",
   "execution_count": 34,
   "id": "deecd763",
   "metadata": {},
   "outputs": [
    {
     "name": "stdout",
     "output_type": "stream",
     "text": [
      "Woof\n",
      "Meow\n"
     ]
    }
   ],
   "source": [
    "#Question 4\n",
    "class Animal:\n",
    "    def speak(self):\n",
    "        print(\"In Animal\")\n",
    "\n",
    "class Dog(Animal):\n",
    "    def speak(self):\n",
    "        print(\"Woof\")\n",
    "\n",
    "class Cat(Animal):\n",
    "    def speak(self):\n",
    "        print(\"Meow\")\n",
    "\n",
    "\n",
    "# def animal_sound(animal: Animal):\n",
    "#     print(animal.speak())\n",
    "\n",
    "dog = Dog()\n",
    "cat = Cat()\n",
    "\n",
    "dog.speak()\n",
    "cat.speak() \n"
   ]
  },
  {
   "cell_type": "code",
   "execution_count": 30,
   "id": "f11d4aca",
   "metadata": {},
   "outputs": [
    {
     "name": "stdout",
     "output_type": "stream",
     "text": [
      "Vector 1: Vector(5, 6)\n",
      "Vector 2: Vector(1, 2)\n",
      "Resultant Vector: Vector(6, 8)\n",
      "Magnitude of Resultant Vector: 10.0\n"
     ]
    }
   ],
   "source": [
    "#Question 5\n",
    "import math\n",
    "\n",
    "# Class to represent a 2D vector\n",
    "class Vector:\n",
    "    def __init__(self, x, y):\n",
    "        self.x = x\n",
    "        self.y = y\n",
    "\n",
    "    def __add__(self, other):\n",
    "        if isinstance(other, Vector):\n",
    "            return Vector(self.x + other.x, self.y + other.y)\n",
    "\n",
    "    def magnitude(self):\n",
    "        return math.sqrt(self.x**2 + self.y**2)\n",
    "\n",
    "    def __str__(self):\n",
    "        return f\"Vector({self.x}, {self.y})\"\n",
    "\n",
    "# Demonstration\n",
    "if __name__ == \"__main__\":\n",
    "    vector1 = Vector(5, 6)\n",
    "    vector2 = Vector(1, 2)\n",
    "\n",
    "    # Adding two vectors using operator overloading\n",
    "    result_vector = vector1 + vector2\n",
    "\n",
    "    # Display results\n",
    "    print(f\"Vector 1: {vector1}\")\n",
    "    print(f\"Vector 2: {vector2}\")\n",
    "    print(f\"Resultant Vector: {result_vector}\")\n",
    "    print(f\"Magnitude of Resultant Vector: {result_vector.magnitude()}\")\n"
   ]
  },
  {
   "cell_type": "code",
   "execution_count": 35,
   "id": "1d36c2e3",
   "metadata": {},
   "outputs": [
    {
     "name": "stdout",
     "output_type": "stream",
     "text": [
      "Hello, I am a human\n",
      "Greetings, I am a robot\n"
     ]
    }
   ],
   "source": [
    "# Question 6\n",
    "class Person:\n",
    "    def talk(self):\n",
    "        return \"Hello, I am a human\"\n",
    "\n",
    "class Robot:\n",
    "    def talk(self):\n",
    "        return \"Greetings, I am a robot\"\n",
    "\n",
    "def greet(obj):\n",
    "    print(obj.talk())\n",
    "\n",
    "person = Person()\n",
    "robot = Robot()\n",
    "greet(person)  \n",
    "greet(robot)   \n"
   ]
  },
  {
   "cell_type": "code",
   "execution_count": 42,
   "id": "58c9f785",
   "metadata": {},
   "outputs": [
    {
     "name": "stdout",
     "output_type": "stream",
     "text": [
      "Species: Kingfisher\n",
      "Habitat: Forest\n",
      "Can Fly: Yes\n",
      "None\n"
     ]
    }
   ],
   "source": [
    "#Question 7\n",
    "\n",
    "class Organism:\n",
    "    def __init__(self, species):\n",
    "        self.species = species\n",
    "\n",
    "class Animal(Organism):\n",
    "    def __init__(self, species, habitat):\n",
    "        super().__init__(species)\n",
    "        self.habitat = habitat\n",
    "\n",
    "class Bird(Animal):\n",
    "    def __init__(self, species, habitat, can_fly):\n",
    "        super().__init__(species, habitat)\n",
    "        self.can_fly = can_fly\n",
    "\n",
    "def display(obj):\n",
    "    print(\"Species:\",obj.species)\n",
    "    print(\"Habitat:\",obj.habitat)\n",
    "    print(\"Can Fly:\",obj.can_fly)\n",
    "\n",
    "sparrow = Bird(species=\"Kingfisher\", habitat=\"Forest\", can_fly=\"Yes\")\n",
    "\n",
    "print(display(sparrow))\n"
   ]
  },
  {
   "cell_type": "code",
   "execution_count": 45,
   "id": "48858d94",
   "metadata": {},
   "outputs": [
    {
     "name": "stdout",
     "output_type": "stream",
     "text": [
      "The device is powered on.\n",
      "Battery status: 80%\n",
      "Smartphone Model: Samsung A54\n"
     ]
    }
   ],
   "source": [
    "#Question 8\n",
    "\n",
    "class ElectricDevice:\n",
    "    def power_on(self):\n",
    "        return \"The device is powered on.\"\n",
    "\n",
    "class Gadget:\n",
    "    def battery_status(self):\n",
    "        return \"Battery status: 80%\"\n",
    "\n",
    "class Smartphone(ElectricDevice, Gadget):\n",
    "    def __init__(self, model):\n",
    "        self.model = model\n",
    "\n",
    "    def display_info(self):\n",
    "        return f\"Smartphone Model: {self.model}\"\n",
    "\n",
    "\n",
    "phone = Smartphone(\"Samsung A54\")\n",
    "print(phone.power_on())        \n",
    "print(phone.battery_status())  \n",
    "print(phone.display_info())    \n"
   ]
  },
  {
   "cell_type": "code",
   "execution_count": 46,
   "id": "14282d33",
   "metadata": {},
   "outputs": [
    {
     "name": "stdout",
     "output_type": "stream",
     "text": [
      "Employee works\n",
      "Manager supervises work\n"
     ]
    }
   ],
   "source": [
    "#Ques 9:\n",
    "class Employee:\n",
    "    def work(self):\n",
    "        print(\"Employee works\")\n",
    "\n",
    "class Manager:\n",
    "    def work(Self):\n",
    "        print(\"Manager supervises work\")\n",
    "\n",
    "emp=Employee()\n",
    "emp.work()\n",
    "\n",
    "mgr=Manager()\n",
    "mgr.work()\n"
   ]
  },
  {
   "cell_type": "code",
   "execution_count": 49,
   "id": "f8e22b77",
   "metadata": {},
   "outputs": [
    {
     "name": "stdout",
     "output_type": "stream",
     "text": [
      "Area: 50.27\n",
      "Area: 50.00\n",
      "Area: 12.57\n",
      "Area: 80.00\n",
      "Area: 2827.43\n",
      "Area: 160.00\n"
     ]
    }
   ],
   "source": [
    "#Ques 10\n",
    "from abc import ABC, abstractmethod\n",
    "import math\n",
    "\n",
    "class Shape(ABC):\n",
    "    @abstractmethod\n",
    "    def area(self):\n",
    "        pass\n",
    "\n",
    "class Circle(Shape):\n",
    "    def __init__(self, radius):\n",
    "        self.radius = radius\n",
    "\n",
    "    def area(self):\n",
    "        return math.pi * self.radius ** 2\n",
    "\n",
    "class Rectangle(Shape):\n",
    "    def __init__(self, width, height):\n",
    "        self.width = width\n",
    "        self.height = height\n",
    "\n",
    "    def area(self):\n",
    "        return self.width * self.height\n",
    "\n",
    "shapes = [\n",
    "    Circle(4),\n",
    "    Rectangle(5,10),\n",
    "    Circle(2),\n",
    "    Rectangle(10, 8),\n",
    "    Circle(30),\n",
    "    Rectangle(20, 8)\n",
    "]\n",
    "\n",
    "for shape in shapes:\n",
    "    print(f\"Area: {shape.area():.2f}\")\n",
    "\n"
   ]
  },
  {
   "cell_type": "code",
   "execution_count": 51,
   "id": "1a2a0702",
   "metadata": {},
   "outputs": [
    {
     "name": "stdout",
     "output_type": "stream",
     "text": [
      "Employee Name: Kanchan\n",
      "Employee Salary: 650000\n",
      "New Employee Name: Krupa\n"
     ]
    }
   ],
   "source": [
    "#Ques 11\n",
    "class Employee:\n",
    "    def __init__(self, name, salary):\n",
    "        self._name = name\n",
    "        self._salary = salary\n",
    "\n",
    "    @property\n",
    "    def name(self):\n",
    "        return self._name\n",
    "\n",
    "    @name.setter\n",
    "    def name(self, value):\n",
    "        self._name = value\n",
    "\n",
    "    @property\n",
    "    def salary(self):\n",
    "        return self._salary\n",
    "\n",
    "    @salary.setter\n",
    "    def salary(self, value):\n",
    "        if value < 1000:  \n",
    "            raise print(\"Salary cannot be set below 1000.\")\n",
    "        self._salary = value\n",
    "\n",
    "\n",
    "employee = Employee(\"Kanchan\", 650000)\n",
    "\n",
    "\n",
    "print(f\"Employee Name: {employee.name}\")\n",
    "print(f\"Employee Salary: {employee.salary}\")\n",
    "\n",
    "\n",
    "employee.name = \"Krupa\"\n",
    "employee.salary = 30000\n",
    "\n",
    "print(f\"New Employee Name: {employee.name}\")\n"
   ]
  },
  {
   "cell_type": "code",
   "execution_count": 53,
   "id": "46fb0abb",
   "metadata": {},
   "outputs": [
    {
     "name": "stdout",
     "output_type": "stream",
     "text": [
      "Brand: Redmi\n",
      "Model: 11\n",
      "Camera Resolution: 111\n",
      "Battery Life: 100\n"
     ]
    }
   ],
   "source": [
    "#Ques 12\n",
    "class Device:\n",
    "      def __init__(self,brand,model):\n",
    "        self.brand=brand\n",
    "        self.model=model\n",
    "\n",
    "class Smartphone(Device):\n",
    "    def __init__(self,brand,model,camera_res,battery_life):\n",
    "        super().__init__(brand, model)\n",
    "        self.camera_res=camera_res\n",
    "        self.battery_life=battery_life\n",
    "        \n",
    "    def display(self):\n",
    "        print(\"Brand:\",self.brand)\n",
    "        print(\"Model:\",self.model)\n",
    "        print(\"Camera Resolution:\",self.camera_res)\n",
    "        print(\"Battery Life:\",self.battery_life)\n",
    "\n",
    "sp=Smartphone(\"Redmi\", \"11\", 111, 100)\n",
    "\n",
    "sp.display()"
   ]
  },
  {
   "cell_type": "code",
   "execution_count": 54,
   "id": "7f7cc921",
   "metadata": {},
   "outputs": [
    {
     "name": "stdout",
     "output_type": "stream",
     "text": [
      "bicycle\n",
      "car\n"
     ]
    }
   ],
   "source": [
    "#Ques 13:\n",
    "class Vehicle():\n",
    "      def move(self):\n",
    "        print(\"vehicle.\")\n",
    "\n",
    "class Bicycle(Vehicle):\n",
    "      def move(self):\n",
    "        print(\"bicycle\")\n",
    "\n",
    "class Car(Vehicle):\n",
    "      def move(self):\n",
    "        print(\"car\")\n",
    "\n",
    "\n",
    "def make_vehicle_move(vehicle):\n",
    "      vehicle.move()\n",
    "\n",
    "bicycle = Bicycle()\n",
    "car = Car()\n",
    "\n",
    "\n",
    "make_vehicle_move(bicycle)\n",
    "make_vehicle_move(car)"
   ]
  },
  {
   "cell_type": "code",
   "execution_count": 59,
   "id": "e12133f9",
   "metadata": {},
   "outputs": [
    {
     "name": "stdout",
     "output_type": "stream",
     "text": [
      "Enter Credit card or Paypal C/PC\n",
      "Payment by credit card of Rs100\n"
     ]
    }
   ],
   "source": [
    "#Ques 14\n",
    "from abc import ABC, abstractmethod\n",
    "\n",
    "class Payment(ABC):\n",
    "    @abstractmethod\n",
    "    def pay(self):\n",
    "        pass\n",
    "\n",
    "class CreditCardPayment(Payment):\n",
    "    def __init__(self, amount):\n",
    "        self.amount = amount\n",
    "\n",
    "    def pay(self):\n",
    "        print(f\"Payment by credit card of Rs{self.amount}\")\n",
    "\n",
    "\n",
    "class Paypal(Payment):\n",
    "    def __init__(self, amount):\n",
    "        self.amount = amount\n",
    "\n",
    "    def pay(self):\n",
    "        print(f\"PayPal payment of Rs{self.amount}\")\n",
    "\n",
    "\n",
    "def process_payment(payment_method):\n",
    "    payment_method.pay()\n",
    "\n",
    "credit_card_payment = CreditCardPayment(100)\n",
    "paypal_payment = Paypal(30)\n",
    "\n",
    "c = input(\"Enter Credit card or Paypal C/P\")\n",
    "if c == 'C':\n",
    "    process_payment(credit_card_payment)\n",
    "if c == 'P':\n",
    "    process_payment(paypal_payment)\n"
   ]
  },
  {
   "cell_type": "code",
   "execution_count": 61,
   "id": "bf54c187",
   "metadata": {},
   "outputs": [
    {
     "name": "stdout",
     "output_type": "stream",
     "text": [
      "Bird Fly\n",
      "Airplane Fly\n"
     ]
    }
   ],
   "source": [
    "#Ques 15\n",
    "class Bird:\n",
    "    def fly(self):\n",
    "        print(\"Bird Fly\")\n",
    "\n",
    "class Airplane:\n",
    "    def fly(self):\n",
    "        print(\"Airplane Fly\")\n",
    "\n",
    "def let_it_fly(flyable):\n",
    "    flyable.fly()\n",
    "\n",
    "bird = Bird()\n",
    "plane = Airplane()\n",
    "\n",
    "let_it_fly(bird)\n",
    "let_it_fly(plane)"
   ]
  },
  {
   "cell_type": "code",
   "execution_count": 68,
   "id": "faa66b8b",
   "metadata": {},
   "outputs": [
    {
     "name": "stdout",
     "output_type": "stream",
     "text": [
      "Multiplication: 20 * 5 = 100\n",
      "Floor Division: 20 // 5 = 4\n",
      "Modulus: 20 % 5 = 0\n",
      "Exponentiation: 20 ** 5 = 3200000\n",
      "Subtraction: 20 - 5 = 15\n"
     ]
    }
   ],
   "source": [
    "class Operator:\n",
    "    def __init__(self, value):\n",
    "        self.value = value\n",
    "\n",
    "\n",
    "    def __mul__(self, other):\n",
    "        if isinstance(other, Operator):\n",
    "            return Operator(self.value * other.value)\n",
    "\n",
    "    def __floordiv__(self, other):  # Overloading the floor division operator\n",
    "        if isinstance(other, Operator):\n",
    "            if other.value != 0:\n",
    "                return Operator(self.value // other.value)\n",
    "            raise ValueError(\"Cannot divide by zero\")\n",
    "\n",
    "    def __mod__(self, other):\n",
    "        if isinstance(other, Operator):\n",
    "            return Operator(self.value % other.value)\n",
    "\n",
    "    def __pow__(self, other):  # Overloading the exponentiation operator\n",
    "            return Operator(self.value ** other.value)\n",
    "\n",
    "    def __sub__(self, other):\n",
    "        if isinstance(other, Operator):\n",
    "            return Operator(self.value - other.value)\n",
    "\n",
    "    def __str__(self):\n",
    "        return str(self.value)\n",
    "\n",
    "\n",
    "num1 = Operator(20)\n",
    "num2 = Operator(5)\n",
    "\n",
    "         \n",
    "print(f\"Multiplication: {num1} * {num2} = {num1 * num2}\")         \n",
    "print(f\"Floor Division: {num1} // {num2} = {num1 // num2}\")       \n",
    "print(f\"Modulus: {num1} % {num2} = {num1 % num2}\")                \n",
    "print(f\"Exponentiation: {num1} ** {num2} = {num1 ** num2}\")       \n",
    "print(f\"Subtraction: {num1} - {num2} = {num1 - num2}\")   "
   ]
  },
  {
   "cell_type": "code",
   "execution_count": 69,
   "id": "f3f9a667",
   "metadata": {},
   "outputs": [
    {
     "name": "stdout",
     "output_type": "stream",
     "text": [
      "90 == 53: False\n",
      "90 != 53: True\n",
      "90 > 53: True\n",
      "90 < 53: False\n",
      "90 >= 30: True\n"
     ]
    }
   ],
   "source": [
    "class RelationalOperator:\n",
    "    def __init__(self, value):\n",
    "        self.value = value\n",
    "\n",
    "    def __ge__(self, other): \n",
    "        if isinstance(other, RelationalOperator):\n",
    "            return self.value >= other.value\n",
    "        return NotImplemented\n",
    "\n",
    "    def __eq__(self, other): \n",
    "        if isinstance(other, RelationalOperator):\n",
    "            return self.value == other.value\n",
    "        return NotImplemented\n",
    "\n",
    "    def __ne__(self, other):  \n",
    "        if isinstance(other, RelationalOperator):\n",
    "            return self.value != other.value\n",
    "        return NotImplemented\n",
    "\n",
    "    def __gt__(self, other): \n",
    "        if isinstance(other, RelationalOperator):\n",
    "            return self.value > other.value\n",
    "        return NotImplemented\n",
    "\n",
    "    def __lt__(self, other): \n",
    "        if isinstance(other, RelationalOperator):\n",
    "            return self.value < other.value\n",
    "        return NotImplemented\n",
    "\n",
    "   \n",
    "    def __str__(self):\n",
    "        return str(self.value)\n",
    "\n",
    "\n",
    "if __name__ == \"__main__\":\n",
    "    num1 = RelationalOperator(90)\n",
    "    num2 = RelationalOperator(53)\n",
    "    num3 = RelationalOperator(30)\n",
    "\n",
    "    print(f\"{num1} == {num2}: {num1 == num2}\") \n",
    "    print(f\"{num1} != {num2}: {num1 != num2}\") \n",
    "    print(f\"{num1} > {num2}: {num1 > num2}\")   \n",
    "    print(f\"{num1} < {num2}: {num1 < num2}\")   \n",
    "    print(f\"{num1} >= {num3}: {num1 >= num3}\") "
   ]
  },
  {
   "cell_type": "code",
   "execution_count": null,
   "id": "1c82e1a7",
   "metadata": {},
   "outputs": [],
   "source": []
  },
  {
   "cell_type": "code",
   "execution_count": null,
   "id": "fc362676",
   "metadata": {},
   "outputs": [],
   "source": []
  },
  {
   "cell_type": "code",
   "execution_count": null,
   "id": "f2e63fab",
   "metadata": {},
   "outputs": [],
   "source": []
  },
  {
   "cell_type": "code",
   "execution_count": null,
   "id": "a901884f",
   "metadata": {},
   "outputs": [],
   "source": []
  },
  {
   "cell_type": "code",
   "execution_count": null,
   "id": "3ded4659",
   "metadata": {},
   "outputs": [],
   "source": []
  },
  {
   "cell_type": "code",
   "execution_count": null,
   "id": "68a64ce8",
   "metadata": {},
   "outputs": [],
   "source": []
  },
  {
   "cell_type": "code",
   "execution_count": null,
   "id": "41cb13d0",
   "metadata": {},
   "outputs": [],
   "source": []
  }
 ],
 "metadata": {
  "kernelspec": {
   "display_name": "Python 3 (ipykernel)",
   "language": "python",
   "name": "python3"
  },
  "language_info": {
   "codemirror_mode": {
    "name": "ipython",
    "version": 3
   },
   "file_extension": ".py",
   "mimetype": "text/x-python",
   "name": "python",
   "nbconvert_exporter": "python",
   "pygments_lexer": "ipython3",
   "version": "3.11.4"
  }
 },
 "nbformat": 4,
 "nbformat_minor": 5
}
