{
  "cells": [
    {
      "cell_type": "code",
      "execution_count": 5,
      "id": "a9161298",
      "metadata": {
        "id": "a9161298"
      },
      "outputs": [],
      "source": [
        "import pandas as pd\n",
        "from sklearn.model_selection import train_test_split\n",
        "from sklearn.linear_model import LinearRegression\n",
        "from sklearn.metrics import mean_squared_error, r2_score"
      ]
    },
    {
      "cell_type": "code",
      "execution_count": 7,
      "id": "e672ac61",
      "metadata": {
        "colab": {
          "base_uri": "https://localhost:8080/"
        },
        "id": "e672ac61",
        "outputId": "b87d3bca-19ae-4455-de8a-7262ac80c16b"
      },
      "outputs": [
        {
          "output_type": "stream",
          "name": "stdout",
          "text": [
            "        price    area  bedrooms  bathrooms  stories mainroad guestroom  \\\n",
            "0  13300000.0  7420.0       4.0        2.0      3.0      yes        no   \n",
            "1  12250000.0  8960.0       4.0        4.0      4.0      yes        no   \n",
            "2  12250000.0  9960.0       3.0        2.0      2.0      yes        no   \n",
            "3  12215000.0  7500.0       4.0        2.0      2.0      yes        no   \n",
            "4  11410000.0  7420.0       4.0        1.0      2.0      yes       yes   \n",
            "\n",
            "  basement hotwaterheating airconditioning  parking prefarea furnishingstatus  \n",
            "0       no              no             yes      2.0      yes        furnished  \n",
            "1       no              no             yes      3.0       no        furnished  \n",
            "2      yes              no              no      2.0      yes   semi-furnished  \n",
            "3      yes              no             yes      3.0      yes        furnished  \n",
            "4      yes              no             yes      2.0       no        furnished  \n",
            "         price    area  bedrooms  bathrooms  stories mainroad guestroom  \\\n",
            "544  1750000.0  3850.0       3.0        1.0      2.0      yes        no   \n",
            "545        NaN     NaN       NaN        NaN      NaN      NaN       NaN   \n",
            "546        NaN     NaN       NaN        NaN      NaN      NaN       NaN   \n",
            "547        NaN     NaN       NaN        NaN      NaN      NaN       NaN   \n",
            "548        NaN     NaN       NaN        NaN      NaN      NaN       NaN   \n",
            "\n",
            "    basement hotwaterheating airconditioning  parking prefarea  \\\n",
            "544       no              no              no      0.0       no   \n",
            "545      NaN             NaN             NaN      NaN      NaN   \n",
            "546      NaN             NaN             NaN      NaN      NaN   \n",
            "547      NaN             NaN             NaN      NaN      NaN   \n",
            "548      NaN             NaN             NaN      NaN      NaN   \n",
            "\n",
            "    furnishingstatus  \n",
            "544      unfurnished  \n",
            "545              NaN  \n",
            "546              NaN  \n",
            "547              NaN  \n",
            "548              NaN  \n"
          ]
        }
      ],
      "source": [
        "data = pd.read_csv(\"House Pricing Dataset.csv\")\n",
        "print(data.head())\n",
        "print(data.tail())"
      ]
    },
    {
      "cell_type": "code",
      "execution_count": 8,
      "id": "f8ba21e4",
      "metadata": {
        "colab": {
          "base_uri": "https://localhost:8080/",
          "height": 523
        },
        "id": "f8ba21e4",
        "outputId": "c218a75e-846e-49a5-8b3c-888567bec727"
      },
      "outputs": [
        {
          "output_type": "execute_result",
          "data": {
            "text/plain": [
              "price                              4\n",
              "area                               4\n",
              "bedrooms                           4\n",
              "bathrooms                          4\n",
              "stories                            4\n",
              "parking                            4\n",
              "mainroad_yes                       0\n",
              "guestroom_yes                      0\n",
              "basement_yes                       0\n",
              "hotwaterheating_yes                0\n",
              "airconditioning_yes                0\n",
              "prefarea_yes                       0\n",
              "furnishingstatus_semi-furnished    0\n",
              "furnishingstatus_unfurnished       0\n",
              "dtype: int64"
            ],
            "text/html": [
              "<div>\n",
              "<style scoped>\n",
              "    .dataframe tbody tr th:only-of-type {\n",
              "        vertical-align: middle;\n",
              "    }\n",
              "\n",
              "    .dataframe tbody tr th {\n",
              "        vertical-align: top;\n",
              "    }\n",
              "\n",
              "    .dataframe thead th {\n",
              "        text-align: right;\n",
              "    }\n",
              "</style>\n",
              "<table border=\"1\" class=\"dataframe\">\n",
              "  <thead>\n",
              "    <tr style=\"text-align: right;\">\n",
              "      <th></th>\n",
              "      <th>0</th>\n",
              "    </tr>\n",
              "  </thead>\n",
              "  <tbody>\n",
              "    <tr>\n",
              "      <th>price</th>\n",
              "      <td>4</td>\n",
              "    </tr>\n",
              "    <tr>\n",
              "      <th>area</th>\n",
              "      <td>4</td>\n",
              "    </tr>\n",
              "    <tr>\n",
              "      <th>bedrooms</th>\n",
              "      <td>4</td>\n",
              "    </tr>\n",
              "    <tr>\n",
              "      <th>bathrooms</th>\n",
              "      <td>4</td>\n",
              "    </tr>\n",
              "    <tr>\n",
              "      <th>stories</th>\n",
              "      <td>4</td>\n",
              "    </tr>\n",
              "    <tr>\n",
              "      <th>parking</th>\n",
              "      <td>4</td>\n",
              "    </tr>\n",
              "    <tr>\n",
              "      <th>mainroad_yes</th>\n",
              "      <td>0</td>\n",
              "    </tr>\n",
              "    <tr>\n",
              "      <th>guestroom_yes</th>\n",
              "      <td>0</td>\n",
              "    </tr>\n",
              "    <tr>\n",
              "      <th>basement_yes</th>\n",
              "      <td>0</td>\n",
              "    </tr>\n",
              "    <tr>\n",
              "      <th>hotwaterheating_yes</th>\n",
              "      <td>0</td>\n",
              "    </tr>\n",
              "    <tr>\n",
              "      <th>airconditioning_yes</th>\n",
              "      <td>0</td>\n",
              "    </tr>\n",
              "    <tr>\n",
              "      <th>prefarea_yes</th>\n",
              "      <td>0</td>\n",
              "    </tr>\n",
              "    <tr>\n",
              "      <th>furnishingstatus_semi-furnished</th>\n",
              "      <td>0</td>\n",
              "    </tr>\n",
              "    <tr>\n",
              "      <th>furnishingstatus_unfurnished</th>\n",
              "      <td>0</td>\n",
              "    </tr>\n",
              "  </tbody>\n",
              "</table>\n",
              "</div><br><label><b>dtype:</b> int64</label>"
            ]
          },
          "metadata": {},
          "execution_count": 8
        }
      ],
      "source": [
        "df = pd.DataFrame(data)\n",
        "df = pd.get_dummies(df, columns=['mainroad', 'guestroom', 'basement', 'hotwaterheating', 'airconditioning', 'prefarea', 'furnishingstatus'], drop_first=True)\n",
        "df.isnull().sum()\n"
      ]
    },
    {
      "cell_type": "code",
      "execution_count": 9,
      "id": "815ef510",
      "metadata": {
        "id": "815ef510"
      },
      "outputs": [],
      "source": [
        "df = df.dropna()"
      ]
    },
    {
      "cell_type": "code",
      "execution_count": 10,
      "id": "718d239e",
      "metadata": {
        "colab": {
          "base_uri": "https://localhost:8080/",
          "height": 523
        },
        "id": "718d239e",
        "outputId": "fedba1ac-2653-4629-a02b-9a989bbed70d"
      },
      "outputs": [
        {
          "output_type": "execute_result",
          "data": {
            "text/plain": [
              "price                              0\n",
              "area                               0\n",
              "bedrooms                           0\n",
              "bathrooms                          0\n",
              "stories                            0\n",
              "parking                            0\n",
              "mainroad_yes                       0\n",
              "guestroom_yes                      0\n",
              "basement_yes                       0\n",
              "hotwaterheating_yes                0\n",
              "airconditioning_yes                0\n",
              "prefarea_yes                       0\n",
              "furnishingstatus_semi-furnished    0\n",
              "furnishingstatus_unfurnished       0\n",
              "dtype: int64"
            ],
            "text/html": [
              "<div>\n",
              "<style scoped>\n",
              "    .dataframe tbody tr th:only-of-type {\n",
              "        vertical-align: middle;\n",
              "    }\n",
              "\n",
              "    .dataframe tbody tr th {\n",
              "        vertical-align: top;\n",
              "    }\n",
              "\n",
              "    .dataframe thead th {\n",
              "        text-align: right;\n",
              "    }\n",
              "</style>\n",
              "<table border=\"1\" class=\"dataframe\">\n",
              "  <thead>\n",
              "    <tr style=\"text-align: right;\">\n",
              "      <th></th>\n",
              "      <th>0</th>\n",
              "    </tr>\n",
              "  </thead>\n",
              "  <tbody>\n",
              "    <tr>\n",
              "      <th>price</th>\n",
              "      <td>0</td>\n",
              "    </tr>\n",
              "    <tr>\n",
              "      <th>area</th>\n",
              "      <td>0</td>\n",
              "    </tr>\n",
              "    <tr>\n",
              "      <th>bedrooms</th>\n",
              "      <td>0</td>\n",
              "    </tr>\n",
              "    <tr>\n",
              "      <th>bathrooms</th>\n",
              "      <td>0</td>\n",
              "    </tr>\n",
              "    <tr>\n",
              "      <th>stories</th>\n",
              "      <td>0</td>\n",
              "    </tr>\n",
              "    <tr>\n",
              "      <th>parking</th>\n",
              "      <td>0</td>\n",
              "    </tr>\n",
              "    <tr>\n",
              "      <th>mainroad_yes</th>\n",
              "      <td>0</td>\n",
              "    </tr>\n",
              "    <tr>\n",
              "      <th>guestroom_yes</th>\n",
              "      <td>0</td>\n",
              "    </tr>\n",
              "    <tr>\n",
              "      <th>basement_yes</th>\n",
              "      <td>0</td>\n",
              "    </tr>\n",
              "    <tr>\n",
              "      <th>hotwaterheating_yes</th>\n",
              "      <td>0</td>\n",
              "    </tr>\n",
              "    <tr>\n",
              "      <th>airconditioning_yes</th>\n",
              "      <td>0</td>\n",
              "    </tr>\n",
              "    <tr>\n",
              "      <th>prefarea_yes</th>\n",
              "      <td>0</td>\n",
              "    </tr>\n",
              "    <tr>\n",
              "      <th>furnishingstatus_semi-furnished</th>\n",
              "      <td>0</td>\n",
              "    </tr>\n",
              "    <tr>\n",
              "      <th>furnishingstatus_unfurnished</th>\n",
              "      <td>0</td>\n",
              "    </tr>\n",
              "  </tbody>\n",
              "</table>\n",
              "</div><br><label><b>dtype:</b> int64</label>"
            ]
          },
          "metadata": {},
          "execution_count": 10
        }
      ],
      "source": [
        "df.isnull().sum()"
      ]
    },
    {
      "cell_type": "code",
      "execution_count": 11,
      "id": "fdba7b0d",
      "metadata": {
        "colab": {
          "base_uri": "https://localhost:8080/"
        },
        "id": "fdba7b0d",
        "outputId": "a7d32c3c-166e-4e8e-e405-be6c116ab5ae"
      },
      "outputs": [
        {
          "output_type": "stream",
          "name": "stdout",
          "text": [
            "       area  bedrooms  bathrooms  stories  parking  mainroad_yes  \\\n",
            "0    7420.0       4.0        2.0      3.0      2.0          True   \n",
            "1    8960.0       4.0        4.0      4.0      3.0          True   \n",
            "2    9960.0       3.0        2.0      2.0      2.0          True   \n",
            "3    7500.0       4.0        2.0      2.0      3.0          True   \n",
            "4    7420.0       4.0        1.0      2.0      2.0          True   \n",
            "..      ...       ...        ...      ...      ...           ...   \n",
            "540  3000.0       2.0        1.0      1.0      2.0          True   \n",
            "541  2400.0       3.0        1.0      1.0      0.0         False   \n",
            "542  3620.0       2.0        1.0      1.0      0.0          True   \n",
            "543  2910.0       3.0        1.0      1.0      0.0         False   \n",
            "544  3850.0       3.0        1.0      2.0      0.0          True   \n",
            "\n",
            "     guestroom_yes  basement_yes  hotwaterheating_yes  airconditioning_yes  \\\n",
            "0            False         False                False                 True   \n",
            "1            False         False                False                 True   \n",
            "2            False          True                False                False   \n",
            "3            False          True                False                 True   \n",
            "4             True          True                False                 True   \n",
            "..             ...           ...                  ...                  ...   \n",
            "540          False          True                False                False   \n",
            "541          False         False                False                False   \n",
            "542          False         False                False                False   \n",
            "543          False         False                False                False   \n",
            "544          False         False                False                False   \n",
            "\n",
            "     prefarea_yes  furnishingstatus_semi-furnished  \\\n",
            "0            True                            False   \n",
            "1           False                            False   \n",
            "2            True                             True   \n",
            "3            True                            False   \n",
            "4           False                            False   \n",
            "..            ...                              ...   \n",
            "540         False                            False   \n",
            "541         False                             True   \n",
            "542         False                            False   \n",
            "543         False                            False   \n",
            "544         False                            False   \n",
            "\n",
            "     furnishingstatus_unfurnished  \n",
            "0                           False  \n",
            "1                           False  \n",
            "2                           False  \n",
            "3                           False  \n",
            "4                           False  \n",
            "..                            ...  \n",
            "540                          True  \n",
            "541                         False  \n",
            "542                          True  \n",
            "543                         False  \n",
            "544                          True  \n",
            "\n",
            "[545 rows x 13 columns]\n",
            "0      13300000.0\n",
            "1      12250000.0\n",
            "2      12250000.0\n",
            "3      12215000.0\n",
            "4      11410000.0\n",
            "          ...    \n",
            "540     1820000.0\n",
            "541     1767150.0\n",
            "542     1750000.0\n",
            "543     1750000.0\n",
            "544     1750000.0\n",
            "Name: price, Length: 545, dtype: float64\n"
          ]
        }
      ],
      "source": [
        "x = df.drop('price', axis=1)\n",
        "y = df['price']\n",
        "\n",
        "print(x)\n",
        "print(y)"
      ]
    },
    {
      "cell_type": "code",
      "execution_count": 13,
      "id": "565aa42a",
      "metadata": {
        "colab": {
          "base_uri": "https://localhost:8080/"
        },
        "id": "565aa42a",
        "outputId": "974bd93a-e318-4996-bf1b-2f69566a11dc"
      },
      "outputs": [
        {
          "output_type": "stream",
          "name": "stdout",
          "text": [
            "Mean Squared Error: 976484771024.6133\n",
            "R^2 Score: 0.6611214250980095\n"
          ]
        }
      ],
      "source": [
        "X_train, X_test, y_train, y_test = train_test_split(x, y, test_size=0.2, random_state=0)\n",
        "\n",
        "# Create and fit the model\n",
        "model = LinearRegression()\n",
        "model.fit(X_train, y_train)\n",
        "\n",
        "# Make predictions\n",
        "y_pred = model.predict(X_test)\n",
        "\n",
        "# Evaluate the model\n",
        "mse = mean_squared_error(y_test, y_pred)\n",
        "r2 = r2_score(y_test, y_pred)\n",
        "\n",
        "print(f'Mean Squared Error: {mse}')\n",
        "print(f'R^2 Score: {r2}')\n"
      ]
    },
    {
      "cell_type": "code",
      "execution_count": 14,
      "id": "39d3e6ed",
      "metadata": {
        "colab": {
          "base_uri": "https://localhost:8080/",
          "height": 564
        },
        "id": "39d3e6ed",
        "outputId": "c50348d0-3c4b-4582-857a-134f9a59ab8a"
      },
      "outputs": [
        {
          "output_type": "display_data",
          "data": {
            "text/plain": [
              "<Figure size 1000x600 with 1 Axes>"
            ],
            "image/png": "[encoded data removed]"
          },
          "metadata": {}
        }
      ],
      "source": [
        "import matplotlib.pyplot as plt\n",
        "plt.figure(figsize=(10,6))\n",
        "plt.scatter(y_test,y_pred)\n",
        "plt.plot([min(y_test),max(y_test)],[min(y_test),max(y_test)],color='red')\n",
        "plt.xlabel('Actual Prices')\n",
        "plt.ylabel('Predicted Prices')\n",
        "plt.title('Actual vs Predicted Prices')\n",
        "plt.show()"
      ]
    },
    {
      "cell_type": "code",
      "execution_count": null,
      "id": "e4883b5b",
      "metadata": {
        "id": "e4883b5b"
      },
      "outputs": [],
      "source": []
    },
    {
      "cell_type": "code",
      "execution_count": null,
      "id": "0a5f54dd",
      "metadata": {
        "id": "0a5f54dd"
      },
      "outputs": [],
      "source": []
    },
    {
      "cell_type": "code",
      "execution_count": null,
      "id": "1dfb7d53",
      "metadata": {
        "id": "1dfb7d53"
      },
      "outputs": [],
      "source": []
    },
    {
      "cell_type": "code",
      "execution_count": null,
      "id": "002d66bd",
      "metadata": {
        "id": "002d66bd"
      },
      "outputs": [],
      "source": []
    },
    {
      "cell_type": "code",
      "execution_count": null,
      "id": "7a4eca22",
      "metadata": {
        "id": "7a4eca22"
      },
      "outputs": [],
      "source": []
    },
    {
      "cell_type": "code",
      "execution_count": null,
      "id": "96d0e498",
      "metadata": {
        "id": "96d0e498"
      },
      "outputs": [],
      "source": []
    }
  ],
  "metadata": {
    "kernelspec": {
      "display_name": "Python 3 (ipykernel)",
      "language": "python",
      "name": "python3"
    },
    "language_info": {
      "codemirror_mode": {
        "name": "ipython",
        "version": 3
      },
      "file_extension": ".py",
      "mimetype": "text/x-python",
      "name": "python",
      "nbconvert_exporter": "python",
      "pygments_lexer": "ipython3",
      "version": "3.11.4"
    },
    "colab": {
      "provenance": []
    }
  },
  "nbformat": 4,
  "nbformat_minor": 5
}