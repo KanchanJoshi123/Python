{
 "cells": [
  {
   "cell_type": "code",
   "execution_count": 94,
   "id": "a9161298",
   "metadata": {},
   "outputs": [],
   "source": [
    "import pandas as pd\n",
    "from sklearn.model_selection import train_test_split\n",
    "from sklearn.linear_model import LinearRegression\n",
    "from sklearn.metrics import mean_squared_error, r2_score"
   ]
  },
  {
   "cell_type": "code",
   "execution_count": 95,
   "id": "e672ac61",
   "metadata": {},
   "outputs": [
    {
     "name": "stdout",
     "output_type": "stream",
     "text": [
      "        price    area  bedrooms  bathrooms  stories mainroad guestroom  \\\n",
      "0  13300000.0  7420.0       4.0        2.0      3.0      yes        no   \n",
      "1  12250000.0  8960.0       4.0        4.0      4.0      yes        no   \n",
      "2  12250000.0  9960.0       3.0        2.0      2.0      yes        no   \n",
      "3  12215000.0  7500.0       4.0        2.0      2.0      yes        no   \n",
      "4  11410000.0  7420.0       4.0        1.0      2.0      yes       yes   \n",
      "\n",
      "  basement hotwaterheating airconditioning  parking prefarea furnishingstatus  \n",
      "0       no              no             yes      2.0      yes        furnished  \n",
      "1       no              no             yes      3.0       no        furnished  \n",
      "2      yes              no              no      2.0      yes   semi-furnished  \n",
      "3      yes              no             yes      3.0      yes        furnished  \n",
      "4      yes              no             yes      2.0       no        furnished  \n",
      "         price    area  bedrooms  bathrooms  stories mainroad guestroom  \\\n",
      "544  1750000.0  3850.0       3.0        1.0      2.0      yes        no   \n",
      "545        NaN     NaN       NaN        NaN      NaN      NaN       NaN   \n",
      "546        NaN     NaN       NaN        NaN      NaN      NaN       NaN   \n",
      "547        NaN     NaN       NaN        NaN      NaN      NaN       NaN   \n",
      "548        NaN     NaN       NaN        NaN      NaN      NaN       NaN   \n",
      "\n",
      "    basement hotwaterheating airconditioning  parking prefarea  \\\n",
      "544       no              no              no      0.0       no   \n",
      "545      NaN             NaN             NaN      NaN      NaN   \n",
      "546      NaN             NaN             NaN      NaN      NaN   \n",
      "547      NaN             NaN             NaN      NaN      NaN   \n",
      "548      NaN             NaN             NaN      NaN      NaN   \n",
      "\n",
      "    furnishingstatus  \n",
      "544      unfurnished  \n",
      "545              NaN  \n",
      "546              NaN  \n",
      "547              NaN  \n",
      "548              NaN  \n"
     ]
    }
   ],
   "source": [
    "data = pd.read_csv(\"House Pricing Dataset.csv\")\n",
    "print(data.head())\n",
    "print(data.tail())"
   ]
  },
  {
   "cell_type": "code",
   "execution_count": 96,
   "id": "f8ba21e4",
   "metadata": {},
   "outputs": [
    {
     "data": {
      "text/plain": [
       "price                              4\n",
       "area                               4\n",
       "bedrooms                           4\n",
       "bathrooms                          4\n",
       "stories                            4\n",
       "parking                            4\n",
       "mainroad_yes                       0\n",
       "guestroom_yes                      0\n",
       "basement_yes                       0\n",
       "hotwaterheating_yes                0\n",
       "airconditioning_yes                0\n",
       "prefarea_yes                       0\n",
       "furnishingstatus_semi-furnished    0\n",
       "furnishingstatus_unfurnished       0\n",
       "dtype: int64"
      ]
     },
     "execution_count": 96,
     "metadata": {},
     "output_type": "execute_result"
    }
   ],
   "source": [
    "df = pd.DataFrame(data)\n",
    "df = pd.get_dummies(df, columns=['mainroad', 'guestroom', 'basement', 'hotwaterheating', 'airconditioning', 'prefarea', 'furnishingstatus'], drop_first=True)\n",
    "df.isnull().sum()\n"
   ]
  },
  {
   "cell_type": "code",
   "execution_count": 97,
   "id": "815ef510",
   "metadata": {},
   "outputs": [],
   "source": [
    "df = df.dropna()"
   ]
  },
  {
   "cell_type": "code",
   "execution_count": 98,
   "id": "718d239e",
   "metadata": {},
   "outputs": [
    {
     "data": {
      "text/plain": [
       "price                              0\n",
       "area                               0\n",
       "bedrooms                           0\n",
       "bathrooms                          0\n",
       "stories                            0\n",
       "parking                            0\n",
       "mainroad_yes                       0\n",
       "guestroom_yes                      0\n",
       "basement_yes                       0\n",
       "hotwaterheating_yes                0\n",
       "airconditioning_yes                0\n",
       "prefarea_yes                       0\n",
       "furnishingstatus_semi-furnished    0\n",
       "furnishingstatus_unfurnished       0\n",
       "dtype: int64"
      ]
     },
     "execution_count": 98,
     "metadata": {},
     "output_type": "execute_result"
    }
   ],
   "source": [
    "df.isnull().sum()"
   ]
  },
  {
   "cell_type": "code",
   "execution_count": 101,
   "id": "fdba7b0d",
   "metadata": {},
   "outputs": [
    {
     "name": "stdout",
     "output_type": "stream",
     "text": [
      "       area  bedrooms  bathrooms  stories  parking  mainroad_yes  \\\n",
      "0    7420.0       4.0        2.0      3.0      2.0             1   \n",
      "1    8960.0       4.0        4.0      4.0      3.0             1   \n",
      "2    9960.0       3.0        2.0      2.0      2.0             1   \n",
      "3    7500.0       4.0        2.0      2.0      3.0             1   \n",
      "4    7420.0       4.0        1.0      2.0      2.0             1   \n",
      "..      ...       ...        ...      ...      ...           ...   \n",
      "540  3000.0       2.0        1.0      1.0      2.0             1   \n",
      "541  2400.0       3.0        1.0      1.0      0.0             0   \n",
      "542  3620.0       2.0        1.0      1.0      0.0             1   \n",
      "543  2910.0       3.0        1.0      1.0      0.0             0   \n",
      "544  3850.0       3.0        1.0      2.0      0.0             1   \n",
      "\n",
      "     guestroom_yes  basement_yes  hotwaterheating_yes  airconditioning_yes  \\\n",
      "0                0             0                    0                    1   \n",
      "1                0             0                    0                    1   \n",
      "2                0             1                    0                    0   \n",
      "3                0             1                    0                    1   \n",
      "4                1             1                    0                    1   \n",
      "..             ...           ...                  ...                  ...   \n",
      "540              0             1                    0                    0   \n",
      "541              0             0                    0                    0   \n",
      "542              0             0                    0                    0   \n",
      "543              0             0                    0                    0   \n",
      "544              0             0                    0                    0   \n",
      "\n",
      "     prefarea_yes  furnishingstatus_semi-furnished  \\\n",
      "0               1                                0   \n",
      "1               0                                0   \n",
      "2               1                                1   \n",
      "3               1                                0   \n",
      "4               0                                0   \n",
      "..            ...                              ...   \n",
      "540             0                                0   \n",
      "541             0                                1   \n",
      "542             0                                0   \n",
      "543             0                                0   \n",
      "544             0                                0   \n",
      "\n",
      "     furnishingstatus_unfurnished  \n",
      "0                               0  \n",
      "1                               0  \n",
      "2                               0  \n",
      "3                               0  \n",
      "4                               0  \n",
      "..                            ...  \n",
      "540                             1  \n",
      "541                             0  \n",
      "542                             1  \n",
      "543                             0  \n",
      "544                             1  \n",
      "\n",
      "[545 rows x 13 columns]\n",
      "0      13300000.0\n",
      "1      12250000.0\n",
      "2      12250000.0\n",
      "3      12215000.0\n",
      "4      11410000.0\n",
      "          ...    \n",
      "540     1820000.0\n",
      "541     1767150.0\n",
      "542     1750000.0\n",
      "543     1750000.0\n",
      "544     1750000.0\n",
      "Name: price, Length: 545, dtype: float64\n"
     ]
    }
   ],
   "source": [
    "x = df.drop('price', axis=1)\n",
    "y = df['price']\n",
    "\n",
    "print(x)\n",
    "print(y)"
   ]
  },
  {
   "cell_type": "code",
   "execution_count": 102,
   "id": "8c14021e",
   "metadata": {},
   "outputs": [
    {
     "data": {
      "text/plain": [
       "<Axes: >"
      ]
     },
     "execution_count": 102,
     "metadata": {},
     "output_type": "execute_result"
    }
   ],
   "source": [
    "df.boxplot(column=['price','area'])"
   ]
  },
  {
   "cell_type": "code",
   "execution_count": null,
   "id": "4d546f90",
   "metadata": {},
   "outputs": [],
   "source": []
  },
  {
   "cell_type": "code",
   "execution_count": null,
   "id": "aef2a815",
   "metadata": {},
   "outputs": [],
   "source": []
  },
  {
   "cell_type": "code",
   "execution_count": null,
   "id": "31dfbccc",
   "metadata": {},
   "outputs": [],
   "source": []
  },
  {
   "cell_type": "code",
   "execution_count": null,
   "id": "6a67f180",
   "metadata": {},
   "outputs": [],
   "source": []
  },
  {
   "cell_type": "code",
   "execution_count": null,
   "id": "8346b223",
   "metadata": {},
   "outputs": [],
   "source": []
  },
  {
   "cell_type": "code",
   "execution_count": 80,
   "id": "565aa42a",
   "metadata": {},
   "outputs": [
    {
     "name": "stdout",
     "output_type": "stream",
     "text": [
      "Mean Squared Error: 976484771024.6132\n",
      "R^2 Score: 0.6611214250980095\n"
     ]
    }
   ],
   "source": [
    "X_train, X_test, y_train, y_test = train_test_split(X, y, test_size=0.2, random_state=0)\n",
    "\n",
    "# Create and fit the model\n",
    "model = LinearRegression()\n",
    "model.fit(X_train, y_train)\n",
    "\n",
    "# Make predictions\n",
    "y_pred = model.predict(X_test)\n",
    "\n",
    "# Evaluate the model\n",
    "mse = mean_squared_error(y_test, y_pred)\n",
    "r2 = r2_score(y_test, y_pred)\n",
    "\n",
    "print(f'Mean Squared Error: {mse}')\n",
    "print(f'R^2 Score: {r2}')\n"
   ]
  },
  {
   "cell_type": "code",
   "execution_count": null,
   "id": "39d3e6ed",
   "metadata": {},
   "outputs": [],
   "source": []
  },
  {
   "cell_type": "code",
   "execution_count": null,
   "id": "e4883b5b",
   "metadata": {},
   "outputs": [],
   "source": []
  },
  {
   "cell_type": "code",
   "execution_count": null,
   "id": "0a5f54dd",
   "metadata": {},
   "outputs": [],
   "source": []
  },
  {
   "cell_type": "code",
   "execution_count": null,
   "id": "1dfb7d53",
   "metadata": {},
   "outputs": [],
   "source": []
  },
  {
   "cell_type": "code",
   "execution_count": null,
   "id": "002d66bd",
   "metadata": {},
   "outputs": [],
   "source": []
  },
  {
   "cell_type": "code",
   "execution_count": null,
   "id": "7a4eca22",
   "metadata": {},
   "outputs": [],
   "source": []
  },
  {
   "cell_type": "code",
   "execution_count": null,
   "id": "96d0e498",
   "metadata": {},
   "outputs": [],
   "source": []
  }
 ],
 "metadata": {
  "kernelspec": {
   "display_name": "Python 3 (ipykernel)",
   "language": "python",
   "name": "python3"
  },
  "language_info": {
   "codemirror_mode": {
    "name": "ipython",
    "version": 3
   },
   "file_extension": ".py",
   "mimetype": "text/x-python",
   "name": "python",
   "nbconvert_exporter": "python",
   "pygments_lexer": "ipython3",
   "version": "3.11.4"
  }
 },
 "nbformat": 4,
 "nbformat_minor": 5
}
